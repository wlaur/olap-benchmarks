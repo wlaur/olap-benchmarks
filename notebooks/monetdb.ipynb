{
 "cells": [
  {
   "cell_type": "code",
   "execution_count": null,
   "id": "e3412e50",
   "metadata": {},
   "outputs": [],
   "source": [
    "# ruff: noqa: F401"
   ]
  },
  {
   "cell_type": "code",
   "execution_count": null,
   "id": "8a3e3f1b",
   "metadata": {},
   "outputs": [],
   "source": [
    "%load_ext autoreload\n",
    "%load_ext pyinstrument\n",
    "\n",
    "%autoreload 2"
   ]
  },
  {
   "cell_type": "code",
   "execution_count": null,
   "id": "315aee92",
   "metadata": {},
   "outputs": [],
   "source": [
    "import sys\n",
    "\n",
    "sys.path.insert(0, \"..\")"
   ]
  },
  {
   "cell_type": "code",
   "execution_count": null,
   "id": "4bc370ac",
   "metadata": {},
   "outputs": [],
   "source": [
    "from dotenv import load_dotenv\n",
    "\n",
    "load_dotenv()"
   ]
  },
  {
   "cell_type": "code",
   "execution_count": null,
   "id": "faec9070",
   "metadata": {},
   "outputs": [],
   "source": [
    "from datetime import datetime, timedelta\n",
    "from pathlib import Path\n",
    "\n",
    "import hvplot.polars\n",
    "import numpy as np\n",
    "import polars as pl\n",
    "from sqlalchemy import text"
   ]
  },
  {
   "cell_type": "code",
   "execution_count": null,
   "id": "539d521b",
   "metadata": {},
   "outputs": [],
   "source": [
    "from olap_benchmarks.settings import setup_stdout_logging\n",
    "\n",
    "setup_stdout_logging()"
   ]
  },
  {
   "cell_type": "code",
   "execution_count": null,
   "id": "80c1de71",
   "metadata": {},
   "outputs": [],
   "source": [
    "from olap_benchmarks.dbs.monetdb import MonetDB\n",
    "\n",
    "m = MonetDB()\n",
    "\n",
    "\n",
    "m.fetch(\n",
    "    \"\"\"\n",
    "\n",
    "SELECT\n",
    "    cl.listing_id,\n",
    "    ROUND(\n",
    "        MAX(\n",
    "            CASE\n",
    "                WHEN cl.price != 'empty' THEN CAST(\n",
    "                    REPLACE(REPLACE(cl.price, '$', ''), ',', '') AS DECIMAL\n",
    "                )\n",
    "                ELSE NULL\n",
    "            END\n",
    "        ),\n",
    "        2\n",
    "    ) AS max_price,\n",
    "    max(cl.date) as max_date,\n",
    "    max(cl.minimum_nights) as min_nights,\n",
    "    max(cl.maximum_nights) as max_nights,\n",
    "    ls.name,\n",
    "    ls.host_name,\n",
    "    ls.host_id,\n",
    "    ld.property_type,\n",
    "    ld.has_availability,\n",
    "    ld.availability_30,\n",
    "    ld.availability_60,\n",
    "    ld.availability_90,\n",
    "    ld.availability_365,\n",
    "    max(length(rd.comments)) as max_comments,\n",
    "    row_number() over (\n",
    "        PARTITION BY ls.host_id\n",
    "        ORDER BY\n",
    "            cl.listing_id ASC\n",
    "    ) as row_host\n",
    "FROM\n",
    "    calendar as cl\n",
    "    LEFT JOIN listings_detailed as ld ON cl.listing_id = ld.id\n",
    "    LEFT JOIN listings as ls ON cl.listing_id = ls.id\n",
    "    LEFT JOIN reviews_detailed rd on cl.listing_id = rd.listing_id\n",
    "GROUP BY\n",
    "    cl.listing_id,\n",
    "    ls.name,\n",
    "    ls.host_name,\n",
    "    ld.property_type,\n",
    "    ls.host_id,\n",
    "    ld.has_availability,\n",
    "    ld.availability_30,\n",
    "    ld.availability_60,\n",
    "    ld.availability_90,\n",
    "    ld.availability_365;\n",
    "\n",
    "        \"\"\",\n",
    "    method=\"binary\",\n",
    ")"
   ]
  }
 ],
 "metadata": {
  "kernelspec": {
   "display_name": "olap-benchmarks (3.12.10)",
   "language": "python",
   "name": "python3"
  },
  "language_info": {
   "codemirror_mode": {
    "name": "ipython",
    "version": 3
   },
   "file_extension": ".py",
   "mimetype": "text/x-python",
   "name": "python",
   "nbconvert_exporter": "python",
   "pygments_lexer": "ipython3",
   "version": "3.12.10"
  }
 },
 "nbformat": 4,
 "nbformat_minor": 5
}
