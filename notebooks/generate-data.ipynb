{
 "cells": [
  {
   "cell_type": "code",
   "execution_count": 1,
   "id": "e3412e50",
   "metadata": {},
   "outputs": [],
   "source": [
    "# ruff: noqa: F401"
   ]
  },
  {
   "cell_type": "code",
   "execution_count": 2,
   "id": "8a3e3f1b",
   "metadata": {},
   "outputs": [],
   "source": [
    "%load_ext autoreload\n",
    "%load_ext pyinstrument\n",
    "\n",
    "%autoreload 2"
   ]
  },
  {
   "cell_type": "code",
   "execution_count": 3,
   "id": "faec9070",
   "metadata": {},
   "outputs": [],
   "source": [
    "from datetime import datetime, timedelta\n",
    "from pathlib import Path\n",
    "\n",
    "import numpy as np\n",
    "import polars as pl"
   ]
  },
  {
   "cell_type": "code",
   "execution_count": null,
   "id": "fc18ee07",
   "metadata": {},
   "outputs": [],
   "source": [
    "def generate_data(n_rows: int, n_cols: int) -> pl.DataFrame:\n",
    "    end = datetime(2025, 1, 1)\n",
    "    start = end - timedelta(minutes=n_rows - 1)\n",
    "\n",
    "    time = pl.datetime_range(start, end, interval=\"1m\", eager=True, time_unit=\"ms\")\n",
    "\n",
    "    df = pl.DataFrame({\"time\": time})\n",
    "\n",
    "    data = np.random.rand(n_rows, n_cols)\n",
    "\n",
    "    df = pl.concat(\n",
    "        [df, pl.from_numpy(data, schema={f\"col_{n}\": pl.Float32 for n in range(1, n_cols + 1)}, orient=\"row\")],\n",
    "        how=\"horizontal\",\n",
    "    )\n",
    "\n",
    "    return df"
   ]
  },
  {
   "cell_type": "code",
   "execution_count": 11,
   "id": "ce3afe99",
   "metadata": {},
   "outputs": [],
   "source": [
    "# generate_data(1_000_000, 2_000).write_parquet(\"../data/input/data_1M_2k.parquet\")\n"
   ]
  },
  {
   "cell_type": "code",
   "execution_count": 10,
   "id": "a78e9a4b",
   "metadata": {},
   "outputs": [],
   "source": [
    "generate_data(200_000, 500).write_parquet(\"../data/input/data_0.2M_0.5k.parquet\")"
   ]
  }
 ],
 "metadata": {
  "kernelspec": {
   "display_name": "tsdb-benchmarks",
   "language": "python",
   "name": "python3"
  },
  "language_info": {
   "codemirror_mode": {
    "name": "ipython",
    "version": 3
   },
   "file_extension": ".py",
   "mimetype": "text/x-python",
   "name": "python",
   "nbconvert_exporter": "python",
   "pygments_lexer": "ipython3",
   "version": "3.12.10"
  }
 },
 "nbformat": 4,
 "nbformat_minor": 5
}
