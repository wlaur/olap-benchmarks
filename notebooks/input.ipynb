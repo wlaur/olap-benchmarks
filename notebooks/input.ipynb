{
 "cells": [
  {
   "cell_type": "code",
   "execution_count": null,
   "id": "e3412e50",
   "metadata": {},
   "outputs": [],
   "source": [
    "# ruff: noqa: F401"
   ]
  },
  {
   "cell_type": "code",
   "execution_count": null,
   "id": "8a3e3f1b",
   "metadata": {},
   "outputs": [],
   "source": [
    "%load_ext autoreload\n",
    "%load_ext pyinstrument\n",
    "\n",
    "%autoreload 2"
   ]
  },
  {
   "cell_type": "code",
   "execution_count": null,
   "id": "315aee92",
   "metadata": {},
   "outputs": [],
   "source": [
    "import sys\n",
    "\n",
    "sys.path.insert(0, \"..\")"
   ]
  },
  {
   "cell_type": "code",
   "execution_count": null,
   "id": "4bc370ac",
   "metadata": {},
   "outputs": [],
   "source": [
    "from dotenv import load_dotenv\n",
    "\n",
    "load_dotenv()"
   ]
  },
  {
   "cell_type": "code",
   "execution_count": null,
   "id": "faec9070",
   "metadata": {},
   "outputs": [],
   "source": [
    "import json\n",
    "from datetime import datetime, timedelta\n",
    "from pathlib import Path\n",
    "\n",
    "import hvplot.polars\n",
    "import numpy as np\n",
    "import polars as pl"
   ]
  },
  {
   "cell_type": "code",
   "execution_count": null,
   "id": "b4344362",
   "metadata": {},
   "outputs": [],
   "source": [
    "from olap_benchmarks.dbs.monetdb import MonetDB\n",
    "from olap_benchmarks.dbs.monetdb.fetch import fetch_binary, fetch_pymonetdb\n",
    "from olap_benchmarks.dbs.monetdb.insert import insert\n",
    "from olap_benchmarks.dbs.utils import drop_table\n",
    "\n",
    "db = MonetDB()"
   ]
  },
  {
   "cell_type": "code",
   "execution_count": null,
   "id": "0c73bf41",
   "metadata": {},
   "outputs": [],
   "source": [
    "df = pl.read_parquet(\"../data/input/time_series/data_0.2M_0.5k.parquet\").with_columns(\n",
    "    (100 * pl.col.col_1 - 50).cast(pl.Int8).alias(\"col_1_int8\"),\n",
    "    (100 * pl.col.col_1 - 50).cast(pl.Int16).alias(\"col_1_int16\"),\n",
    "    (100 * pl.col.col_1 - 50).cast(pl.Int32).alias(\"col_1_int32\"),\n",
    "    (100 * pl.col.col_1 - 50).cast(pl.Int64).alias(\"col_1_int64\"),\n",
    "    pl.col.col_1.cast(pl.Float32).alias(\"col_1_float32\"),\n",
    "    pl.col.col_1.cast(pl.Float64).alias(\"col_1_float64\"),\n",
    "    pl.col.col_1.cast(pl.Decimal(18, 3)).alias(\"col_1_decimal_default\"),\n",
    "    pl.col.col_1.cast(pl.Decimal(14, 5)).alias(\"col_1_decimal_14_5\"),\n",
    "    pl.col.col_1.cast(pl.Decimal(10, 2)).alias(\"col_1_decimal_10_2\"),\n",
    "    pl.col.col_1.cast(pl.String).alias(\"col_1_str\"),\n",
    "    (pl.col.col_1 > 0.5).cast(pl.Boolean).alias(\"col_1_bool\"),\n",
    "    pl.col.col_1.cast(pl.Binary).alias(\"col_1_blob\"),\n",
    "    ('{ \"val\": ' + pl.col.col_1.cast(pl.String) + \"}\").alias(\"col_1_json_string\"),\n",
    "    ('{ \"val\": ' + pl.col.col_1.cast(pl.String) + \"}\").map_elements(json.loads, pl.Object).alias(\"col_1_json_obj\"),\n",
    "    ('{ \"val\": ' + pl.col.col_1.cast(pl.String) + \"}\")\n",
    "    .str.json_decode(infer_schema_length=100)\n",
    "    .alias(\"col_1_json_struct\"),\n",
    "    pl.col.time.cast(pl.Time).alias(\"time_time\"),\n",
    "    pl.col.time.cast(pl.Date).alias(\"time_date\"),\n",
    ")\n",
    "\n",
    "\n",
    "df = df.with_columns(\n",
    "    pl.when((pl.col.time > df.get_column(\"time\")[4]) | (pl.col.time == df.get_column(\"time\")[0]))\n",
    "    .then(pl.col(n))\n",
    "    .otherwise(None)\n",
    "    for n in df.columns\n",
    "    if n != \"time\"\n",
    ")\n",
    "\n",
    "# df = df.select([n for n in df.columns if n == \"time\" or n.count(\"_\") == 2])\n",
    "\n",
    "df"
   ]
  },
  {
   "cell_type": "code",
   "execution_count": null,
   "id": "2162a0f3",
   "metadata": {},
   "outputs": [],
   "source": [
    "TABLE_NAME = \"test_insert\""
   ]
  },
  {
   "cell_type": "code",
   "execution_count": null,
   "id": "563d6194",
   "metadata": {},
   "outputs": [],
   "source": [
    "drop_table(TABLE_NAME, db.connect())"
   ]
  },
  {
   "cell_type": "code",
   "execution_count": null,
   "id": "c810e46e",
   "metadata": {},
   "outputs": [],
   "source": [
    "insert(df, TABLE_NAME, db.connect(), primary_key=\"time\")"
   ]
  },
  {
   "cell_type": "code",
   "execution_count": null,
   "id": "679b4748",
   "metadata": {},
   "outputs": [],
   "source": [
    "fetch_binary(f\"select * from {TABLE_NAME} order by time\", db.connect())"
   ]
  },
  {
   "cell_type": "code",
   "execution_count": null,
   "id": "6161527f",
   "metadata": {},
   "outputs": [],
   "source": [
    "%%pyinstrument\n",
    "\n",
    "drop_table(TABLE_NAME, db.connect())\n",
    "insert(df, TABLE_NAME, db.connect(), primary_key=\"time\")"
   ]
  },
  {
   "cell_type": "markdown",
   "id": "25952090",
   "metadata": {},
   "source": [
    "* JSON is read differently by binary and pymonetdb due to a bug in pymonetdb (ignore `col_1_json`)\n"
   ]
  },
  {
   "cell_type": "code",
   "execution_count": null,
   "id": "7b792ba7",
   "metadata": {},
   "outputs": [],
   "source": [
    "from utils import compare"
   ]
  },
  {
   "cell_type": "code",
   "execution_count": null,
   "id": "44118c19",
   "metadata": {},
   "outputs": [],
   "source": [
    "drop = [n for n in df.columns if \"json\" in n]"
   ]
  },
  {
   "cell_type": "code",
   "execution_count": null,
   "id": "c8c32299",
   "metadata": {},
   "outputs": [],
   "source": [
    "df_pymonetdb = fetch_pymonetdb(f\"select * from {TABLE_NAME} order by time\", db.connect()).drop(drop, strict=False)"
   ]
  },
  {
   "cell_type": "code",
   "execution_count": null,
   "id": "3a0cece8",
   "metadata": {},
   "outputs": [],
   "source": [
    "df_binary = fetch_binary(f\"select * from {TABLE_NAME} order by time\", db.connect()).drop(drop, strict=False)"
   ]
  },
  {
   "cell_type": "code",
   "execution_count": null,
   "id": "dcde923d",
   "metadata": {},
   "outputs": [],
   "source": [
    "compare(df_pymonetdb, df_binary)"
   ]
  },
  {
   "cell_type": "code",
   "execution_count": null,
   "id": "6c8ebcaa",
   "metadata": {},
   "outputs": [],
   "source": [
    "compare(df_pymonetdb, df.drop(drop, strict=False).sort(\"time\"))"
   ]
  },
  {
   "cell_type": "code",
   "execution_count": null,
   "id": "8bcc7992",
   "metadata": {},
   "outputs": [],
   "source": [
    "compare(df_binary, df.drop(drop, strict=False).sort(\"time\"))"
   ]
  },
  {
   "cell_type": "code",
   "execution_count": null,
   "id": "24dc1d9c",
   "metadata": {},
   "outputs": [],
   "source": [
    "df"
   ]
  }
 ],
 "metadata": {
  "kernelspec": {
   "display_name": "tsdb-benchmarks (3.12.10)",
   "language": "python",
   "name": "python3"
  },
  "language_info": {
   "codemirror_mode": {
    "name": "ipython",
    "version": 3
   },
   "file_extension": ".py",
   "mimetype": "text/x-python",
   "name": "python",
   "nbconvert_exporter": "python",
   "pygments_lexer": "ipython3",
   "version": "3.12.10"
  }
 },
 "nbformat": 4,
 "nbformat_minor": 5
}
