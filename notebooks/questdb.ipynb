{
 "cells": [
  {
   "cell_type": "code",
   "execution_count": 1,
   "id": "e3412e50",
   "metadata": {},
   "outputs": [],
   "source": [
    "# ruff: noqa: F401"
   ]
  },
  {
   "cell_type": "code",
   "execution_count": 2,
   "id": "8a3e3f1b",
   "metadata": {},
   "outputs": [],
   "source": [
    "%load_ext autoreload\n",
    "%load_ext pyinstrument\n",
    "\n",
    "%autoreload 2"
   ]
  },
  {
   "cell_type": "code",
   "execution_count": 3,
   "id": "315aee92",
   "metadata": {},
   "outputs": [
    {
     "data": {
      "text/plain": [
       "True"
      ]
     },
     "execution_count": 3,
     "metadata": {},
     "output_type": "execute_result"
    }
   ],
   "source": [
    "import sys\n",
    "\n",
    "from dotenv import load_dotenv\n",
    "\n",
    "sys.path.insert(0, \"..\")\n",
    "\n",
    "load_dotenv()"
   ]
  },
  {
   "cell_type": "code",
   "execution_count": 4,
   "id": "faec9070",
   "metadata": {},
   "outputs": [
    {
     "data": {
      "text/html": [
       "<script type=\"esms-options\">{\"shimMode\": true}</script><style>*[data-root-id],\n",
       "*[data-root-id] > * {\n",
       "  box-sizing: border-box;\n",
       "  font-family: var(--jp-ui-font-family);\n",
       "  font-size: var(--jp-ui-font-size1);\n",
       "  color: var(--vscode-editor-foreground, var(--jp-ui-font-color1));\n",
       "}\n",
       "\n",
       "/* Override VSCode background color */\n",
       ".cell-output-ipywidget-background:has(\n",
       "    > .cell-output-ipywidget-background > .lm-Widget > *[data-root-id]\n",
       "  ),\n",
       ".cell-output-ipywidget-background:has(> .lm-Widget > *[data-root-id]) {\n",
       "  background-color: transparent !important;\n",
       "}\n",
       "</style>"
      ]
     },
     "metadata": {},
     "output_type": "display_data"
    },
    {
     "data": {
      "application/javascript": "(function(root) {\n  function now() {\n    return new Date();\n  }\n\n  const force = true;\n  const py_version = '3.7.3'.replace('rc', '-rc.').replace('.dev', '-dev.');\n  const reloading = false;\n  const Bokeh = root.Bokeh;\n\n  // Set a timeout for this load but only if we are not already initializing\n  if (typeof (root._bokeh_timeout) === \"undefined\" || (force || !root._bokeh_is_initializing)) {\n    root._bokeh_timeout = Date.now() + 5000;\n    root._bokeh_failed_load = false;\n  }\n\n  function run_callbacks() {\n    try {\n      root._bokeh_onload_callbacks.forEach(function(callback) {\n        if (callback != null)\n          callback();\n      });\n    } finally {\n      delete root._bokeh_onload_callbacks;\n    }\n    console.debug(\"Bokeh: all callbacks have finished\");\n  }\n\n  function load_libs(css_urls, js_urls, js_modules, js_exports, callback) {\n    if (css_urls == null) css_urls = [];\n    if (js_urls == null) js_urls = [];\n    if (js_modules == null) js_modules = [];\n    if (js_exports == null) js_exports = {};\n\n    root._bokeh_onload_callbacks.push(callback);\n\n    if (root._bokeh_is_loading > 0) {\n      // Don't load bokeh if it is still initializing\n      console.debug(\"Bokeh: BokehJS is being loaded, scheduling callback at\", now());\n      return null;\n    } else if (js_urls.length === 0 && js_modules.length === 0 && Object.keys(js_exports).length === 0) {\n      // There is nothing to load\n      run_callbacks();\n      return null;\n    }\n\n    function on_load() {\n      root._bokeh_is_loading--;\n      if (root._bokeh_is_loading === 0) {\n        console.debug(\"Bokeh: all BokehJS libraries/stylesheets loaded\");\n        run_callbacks()\n      }\n    }\n    window._bokeh_on_load = on_load\n\n    function on_error(e) {\n      const src_el = e.srcElement\n      console.error(\"failed to load \" + (src_el.href || src_el.src));\n    }\n\n    const skip = [];\n    if (window.requirejs) {\n      window.requirejs.config({'packages': {}, 'paths': {}, 'shim': {}});\n      root._bokeh_is_loading = css_urls.length + 0;\n    } else {\n      root._bokeh_is_loading = css_urls.length + js_urls.length + js_modules.length + Object.keys(js_exports).length;\n    }\n\n    const existing_stylesheets = []\n    const links = document.getElementsByTagName('link')\n    for (let i = 0; i < links.length; i++) {\n      const link = links[i]\n      if (link.href != null) {\n        existing_stylesheets.push(link.href)\n      }\n    }\n    for (let i = 0; i < css_urls.length; i++) {\n      const url = css_urls[i];\n      const escaped = encodeURI(url)\n      if (existing_stylesheets.indexOf(escaped) !== -1) {\n        on_load()\n        continue;\n      }\n      const element = document.createElement(\"link\");\n      element.onload = on_load;\n      element.onerror = on_error;\n      element.rel = \"stylesheet\";\n      element.type = \"text/css\";\n      element.href = url;\n      console.debug(\"Bokeh: injecting link tag for BokehJS stylesheet: \", url);\n      document.body.appendChild(element);\n    }    var existing_scripts = []\n    const scripts = document.getElementsByTagName('script')\n    for (let i = 0; i < scripts.length; i++) {\n      var script = scripts[i]\n      if (script.src != null) {\n        existing_scripts.push(script.src)\n      }\n    }\n    for (let i = 0; i < js_urls.length; i++) {\n      const url = js_urls[i];\n      const escaped = encodeURI(url)\n      if (skip.indexOf(escaped) !== -1 || existing_scripts.indexOf(escaped) !== -1) {\n        if (!window.requirejs) {\n          on_load();\n        }\n        continue;\n      }\n      const element = document.createElement('script');\n      element.onload = on_load;\n      element.onerror = on_error;\n      element.async = false;\n      element.src = url;\n      console.debug(\"Bokeh: injecting script tag for BokehJS library: \", url);\n      document.head.appendChild(element);\n    }\n    for (let i = 0; i < js_modules.length; i++) {\n      const url = js_modules[i];\n      const escaped = encodeURI(url)\n      if (skip.indexOf(escaped) !== -1 || existing_scripts.indexOf(escaped) !== -1) {\n        if (!window.requirejs) {\n          on_load();\n        }\n        continue;\n      }\n      var element = document.createElement('script');\n      element.onload = on_load;\n      element.onerror = on_error;\n      element.async = false;\n      element.src = url;\n      element.type = \"module\";\n      console.debug(\"Bokeh: injecting script tag for BokehJS library: \", url);\n      document.head.appendChild(element);\n    }\n    for (const name in js_exports) {\n      const url = js_exports[name];\n      const escaped = encodeURI(url)\n      if (skip.indexOf(escaped) >= 0 || root[name] != null) {\n        if (!window.requirejs) {\n          on_load();\n        }\n        continue;\n      }\n      var element = document.createElement('script');\n      element.onerror = on_error;\n      element.async = false;\n      element.type = \"module\";\n      console.debug(\"Bokeh: injecting script tag for BokehJS library: \", url);\n      element.textContent = `\n      import ${name} from \"${url}\"\n      window.${name} = ${name}\n      window._bokeh_on_load()\n      `\n      document.head.appendChild(element);\n    }\n    if (!js_urls.length && !js_modules.length) {\n      on_load()\n    }\n  };\n\n  function inject_raw_css(css) {\n    const element = document.createElement(\"style\");\n    element.appendChild(document.createTextNode(css));\n    document.body.appendChild(element);\n  }\n\n  const js_urls = [\"https://cdn.holoviz.org/panel/1.7.2/dist/bundled/reactiveesm/es-module-shims@^1.10.0/dist/es-module-shims.min.js\", \"https://cdn.bokeh.org/bokeh/release/bokeh-3.7.3.min.js\", \"https://cdn.bokeh.org/bokeh/release/bokeh-gl-3.7.3.min.js\", \"https://cdn.bokeh.org/bokeh/release/bokeh-widgets-3.7.3.min.js\", \"https://cdn.bokeh.org/bokeh/release/bokeh-tables-3.7.3.min.js\", \"https://cdn.holoviz.org/panel/1.7.2/dist/panel.min.js\"];\n  const js_modules = [];\n  const js_exports = {};\n  const css_urls = [];\n  const inline_js = [    function(Bokeh) {\n      Bokeh.set_log_level(\"info\");\n    },\nfunction(Bokeh) {} // ensure no trailing comma for IE\n  ];\n\n  function run_inline_js() {\n    if ((root.Bokeh !== undefined) || (force === true)) {\n      for (let i = 0; i < inline_js.length; i++) {\n        try {\n          inline_js[i].call(root, root.Bokeh);\n        } catch(e) {\n          if (!reloading) {\n            throw e;\n          }\n        }\n      }\n      // Cache old bokeh versions\n      if (Bokeh != undefined && !reloading) {\n        var NewBokeh = root.Bokeh;\n        if (Bokeh.versions === undefined) {\n          Bokeh.versions = new Map();\n        }\n        if (NewBokeh.version !== Bokeh.version) {\n          Bokeh.versions.set(NewBokeh.version, NewBokeh)\n        }\n        root.Bokeh = Bokeh;\n      }\n    } else if (Date.now() < root._bokeh_timeout) {\n      setTimeout(run_inline_js, 100);\n    } else if (!root._bokeh_failed_load) {\n      console.log(\"Bokeh: BokehJS failed to load within specified timeout.\");\n      root._bokeh_failed_load = true;\n    }\n    root._bokeh_is_initializing = false\n  }\n\n  function load_or_wait() {\n    // Implement a backoff loop that tries to ensure we do not load multiple\n    // versions of Bokeh and its dependencies at the same time.\n    // In recent versions we use the root._bokeh_is_initializing flag\n    // to determine whether there is an ongoing attempt to initialize\n    // bokeh, however for backward compatibility we also try to ensure\n    // that we do not start loading a newer (Panel>=1.0 and Bokeh>3) version\n    // before older versions are fully initialized.\n    if (root._bokeh_is_initializing && Date.now() > root._bokeh_timeout) {\n      // If the timeout and bokeh was not successfully loaded we reset\n      // everything and try loading again\n      root._bokeh_timeout = Date.now() + 5000;\n      root._bokeh_is_initializing = false;\n      root._bokeh_onload_callbacks = undefined;\n      root._bokeh_is_loading = 0\n      console.log(\"Bokeh: BokehJS was loaded multiple times but one version failed to initialize.\");\n      load_or_wait();\n    } else if (root._bokeh_is_initializing || (typeof root._bokeh_is_initializing === \"undefined\" && root._bokeh_onload_callbacks !== undefined)) {\n      setTimeout(load_or_wait, 100);\n    } else {\n      root._bokeh_is_initializing = true\n      root._bokeh_onload_callbacks = []\n      const bokeh_loaded = root.Bokeh != null && (root.Bokeh.version === py_version || (root.Bokeh.versions !== undefined && root.Bokeh.versions.has(py_version)));\n      if (!reloading && !bokeh_loaded) {\n        if (root.Bokeh) {\n          root.Bokeh = undefined;\n        }\n        console.debug(\"Bokeh: BokehJS not loaded, scheduling load and callback at\", now());\n      }\n      load_libs(css_urls, js_urls, js_modules, js_exports, function() {\n        console.debug(\"Bokeh: BokehJS plotting callback run at\", now());\n        run_inline_js();\n      });\n    }\n  }\n  // Give older versions of the autoload script a head-start to ensure\n  // they initialize before we start loading newer version.\n  setTimeout(load_or_wait, 100)\n}(window));",
      "application/vnd.holoviews_load.v0+json": ""
     },
     "metadata": {},
     "output_type": "display_data"
    },
    {
     "data": {
      "application/javascript": "\nif ((window.PyViz === undefined) || (window.PyViz instanceof HTMLElement)) {\n  window.PyViz = {comms: {}, comm_status:{}, kernels:{}, receivers: {}, plot_index: []}\n}\n\n\n    function JupyterCommManager() {\n    }\n\n    JupyterCommManager.prototype.register_target = function(plot_id, comm_id, msg_handler) {\n      if (window.comm_manager || ((window.Jupyter !== undefined) && (Jupyter.notebook.kernel != null))) {\n        var comm_manager = window.comm_manager || Jupyter.notebook.kernel.comm_manager;\n        comm_manager.register_target(comm_id, function(comm) {\n          comm.on_msg(msg_handler);\n        });\n      } else if ((plot_id in window.PyViz.kernels) && (window.PyViz.kernels[plot_id])) {\n        window.PyViz.kernels[plot_id].registerCommTarget(comm_id, function(comm) {\n          comm.onMsg = msg_handler;\n        });\n      } else if (typeof google != 'undefined' && google.colab.kernel != null) {\n        google.colab.kernel.comms.registerTarget(comm_id, (comm) => {\n          var messages = comm.messages[Symbol.asyncIterator]();\n          function processIteratorResult(result) {\n            var message = result.value;\n            var content = {data: message.data, comm_id};\n            var buffers = []\n            for (var buffer of message.buffers || []) {\n              buffers.push(new DataView(buffer))\n            }\n            var metadata = message.metadata || {};\n            var msg = {content, buffers, metadata}\n            msg_handler(msg);\n            return messages.next().then(processIteratorResult);\n          }\n          return messages.next().then(processIteratorResult);\n        })\n      }\n    }\n\n    JupyterCommManager.prototype.get_client_comm = function(plot_id, comm_id, msg_handler) {\n      if (comm_id in window.PyViz.comms) {\n        return window.PyViz.comms[comm_id];\n      } else if (window.comm_manager || ((window.Jupyter !== undefined) && (Jupyter.notebook.kernel != null))) {\n        var comm_manager = window.comm_manager || Jupyter.notebook.kernel.comm_manager;\n        var comm = comm_manager.new_comm(comm_id, {}, {}, {}, comm_id);\n        if (msg_handler) {\n          comm.on_msg(msg_handler);\n        }\n      } else if ((plot_id in window.PyViz.kernels) && (window.PyViz.kernels[plot_id])) {\n        var comm = window.PyViz.kernels[plot_id].connectToComm(comm_id);\n        let retries = 0;\n        const open = () => {\n          if (comm.active) {\n            comm.open();\n          } else if (retries > 3) {\n            console.warn('Comm target never activated')\n          } else {\n            retries += 1\n            setTimeout(open, 500)\n          }\n        }\n        if (comm.active) {\n          comm.open();\n        } else {\n          setTimeout(open, 500)\n        }\n        if (msg_handler) {\n          comm.onMsg = msg_handler;\n        }\n      } else if (typeof google != 'undefined' && google.colab.kernel != null) {\n        var comm_promise = google.colab.kernel.comms.open(comm_id)\n        comm_promise.then((comm) => {\n          window.PyViz.comms[comm_id] = comm;\n          if (msg_handler) {\n            var messages = comm.messages[Symbol.asyncIterator]();\n            function processIteratorResult(result) {\n              var message = result.value;\n              var content = {data: message.data};\n              var metadata = message.metadata || {comm_id};\n              var msg = {content, metadata}\n              msg_handler(msg);\n              return messages.next().then(processIteratorResult);\n            }\n            return messages.next().then(processIteratorResult);\n          }\n        })\n        var sendClosure = (data, metadata, buffers, disposeOnDone) => {\n          return comm_promise.then((comm) => {\n            comm.send(data, metadata, buffers, disposeOnDone);\n          });\n        };\n        var comm = {\n          send: sendClosure\n        };\n      }\n      window.PyViz.comms[comm_id] = comm;\n      return comm;\n    }\n    window.PyViz.comm_manager = new JupyterCommManager();\n    \n\n\nvar JS_MIME_TYPE = 'application/javascript';\nvar HTML_MIME_TYPE = 'text/html';\nvar EXEC_MIME_TYPE = 'application/vnd.holoviews_exec.v0+json';\nvar CLASS_NAME = 'output';\n\n/**\n * Render data to the DOM node\n */\nfunction render(props, node) {\n  var div = document.createElement(\"div\");\n  var script = document.createElement(\"script\");\n  node.appendChild(div);\n  node.appendChild(script);\n}\n\n/**\n * Handle when a new output is added\n */\nfunction handle_add_output(event, handle) {\n  var output_area = handle.output_area;\n  var output = handle.output;\n  if ((output.data == undefined) || (!output.data.hasOwnProperty(EXEC_MIME_TYPE))) {\n    return\n  }\n  var id = output.metadata[EXEC_MIME_TYPE][\"id\"];\n  var toinsert = output_area.element.find(\".\" + CLASS_NAME.split(' ')[0]);\n  if (id !== undefined) {\n    var nchildren = toinsert.length;\n    var html_node = toinsert[nchildren-1].children[0];\n    html_node.innerHTML = output.data[HTML_MIME_TYPE];\n    var scripts = [];\n    var nodelist = html_node.querySelectorAll(\"script\");\n    for (var i in nodelist) {\n      if (nodelist.hasOwnProperty(i)) {\n        scripts.push(nodelist[i])\n      }\n    }\n\n    scripts.forEach( function (oldScript) {\n      var newScript = document.createElement(\"script\");\n      var attrs = [];\n      var nodemap = oldScript.attributes;\n      for (var j in nodemap) {\n        if (nodemap.hasOwnProperty(j)) {\n          attrs.push(nodemap[j])\n        }\n      }\n      attrs.forEach(function(attr) { newScript.setAttribute(attr.name, attr.value) });\n      newScript.appendChild(document.createTextNode(oldScript.innerHTML));\n      oldScript.parentNode.replaceChild(newScript, oldScript);\n    });\n    if (JS_MIME_TYPE in output.data) {\n      toinsert[nchildren-1].children[1].textContent = output.data[JS_MIME_TYPE];\n    }\n    output_area._hv_plot_id = id;\n    if ((window.Bokeh !== undefined) && (id in Bokeh.index)) {\n      window.PyViz.plot_index[id] = Bokeh.index[id];\n    } else {\n      window.PyViz.plot_index[id] = null;\n    }\n  } else if (output.metadata[EXEC_MIME_TYPE][\"server_id\"] !== undefined) {\n    var bk_div = document.createElement(\"div\");\n    bk_div.innerHTML = output.data[HTML_MIME_TYPE];\n    var script_attrs = bk_div.children[0].attributes;\n    for (var i = 0; i < script_attrs.length; i++) {\n      toinsert[toinsert.length - 1].childNodes[1].setAttribute(script_attrs[i].name, script_attrs[i].value);\n    }\n    // store reference to server id on output_area\n    output_area._bokeh_server_id = output.metadata[EXEC_MIME_TYPE][\"server_id\"];\n  }\n}\n\n/**\n * Handle when an output is cleared or removed\n */\nfunction handle_clear_output(event, handle) {\n  var id = handle.cell.output_area._hv_plot_id;\n  var server_id = handle.cell.output_area._bokeh_server_id;\n  if (((id === undefined) || !(id in PyViz.plot_index)) && (server_id !== undefined)) { return; }\n  var comm = window.PyViz.comm_manager.get_client_comm(\"hv-extension-comm\", \"hv-extension-comm\", function () {});\n  if (server_id !== null) {\n    comm.send({event_type: 'server_delete', 'id': server_id});\n    return;\n  } else if (comm !== null) {\n    comm.send({event_type: 'delete', 'id': id});\n  }\n  delete PyViz.plot_index[id];\n  if ((window.Bokeh !== undefined) & (id in window.Bokeh.index)) {\n    var doc = window.Bokeh.index[id].model.document\n    doc.clear();\n    const i = window.Bokeh.documents.indexOf(doc);\n    if (i > -1) {\n      window.Bokeh.documents.splice(i, 1);\n    }\n  }\n}\n\n/**\n * Handle kernel restart event\n */\nfunction handle_kernel_cleanup(event, handle) {\n  delete PyViz.comms[\"hv-extension-comm\"];\n  window.PyViz.plot_index = {}\n}\n\n/**\n * Handle update_display_data messages\n */\nfunction handle_update_output(event, handle) {\n  handle_clear_output(event, {cell: {output_area: handle.output_area}})\n  handle_add_output(event, handle)\n}\n\nfunction register_renderer(events, OutputArea) {\n  function append_mime(data, metadata, element) {\n    // create a DOM node to render to\n    var toinsert = this.create_output_subarea(\n    metadata,\n    CLASS_NAME,\n    EXEC_MIME_TYPE\n    );\n    this.keyboard_manager.register_events(toinsert);\n    // Render to node\n    var props = {data: data, metadata: metadata[EXEC_MIME_TYPE]};\n    render(props, toinsert[0]);\n    element.append(toinsert);\n    return toinsert\n  }\n\n  events.on('output_added.OutputArea', handle_add_output);\n  events.on('output_updated.OutputArea', handle_update_output);\n  events.on('clear_output.CodeCell', handle_clear_output);\n  events.on('delete.Cell', handle_clear_output);\n  events.on('kernel_ready.Kernel', handle_kernel_cleanup);\n\n  OutputArea.prototype.register_mime_type(EXEC_MIME_TYPE, append_mime, {\n    safe: true,\n    index: 0\n  });\n}\n\nif (window.Jupyter !== undefined) {\n  try {\n    var events = require('base/js/events');\n    var OutputArea = require('notebook/js/outputarea').OutputArea;\n    if (OutputArea.prototype.mime_types().indexOf(EXEC_MIME_TYPE) == -1) {\n      register_renderer(events, OutputArea);\n    }\n  } catch(err) {\n  }\n}\n",
      "application/vnd.holoviews_load.v0+json": ""
     },
     "metadata": {},
     "output_type": "display_data"
    },
    {
     "data": {
      "application/vnd.holoviews_exec.v0+json": "",
      "text/html": [
       "<div id='529a7de4-b6b7-4395-9abd-0f5bb2211d97'>\n",
       "  <div id=\"d8728f03-e817-4858-9c62-a76c8878e531\" data-root-id=\"529a7de4-b6b7-4395-9abd-0f5bb2211d97\" style=\"display: contents;\"></div>\n",
       "</div>\n",
       "<script type=\"application/javascript\">(function(root) {\n",
       "  var docs_json = {\"d0bfb4f0-0d42-4314-aa4b-8fed40d26f91\":{\"version\":\"3.7.3\",\"title\":\"Bokeh Application\",\"roots\":[{\"type\":\"object\",\"name\":\"panel.models.browser.BrowserInfo\",\"id\":\"529a7de4-b6b7-4395-9abd-0f5bb2211d97\"},{\"type\":\"object\",\"name\":\"panel.models.comm_manager.CommManager\",\"id\":\"d0058f41-3631-4b6e-bfa8-127ce3067da7\",\"attributes\":{\"plot_id\":\"529a7de4-b6b7-4395-9abd-0f5bb2211d97\",\"comm_id\":\"1c14246bc20c4434a735dbc2f97e4ed4\",\"client_comm_id\":\"bd4316b00c704615bec1d951a0d4deed\"}}],\"defs\":[{\"type\":\"model\",\"name\":\"ReactiveHTML1\"},{\"type\":\"model\",\"name\":\"FlexBox1\",\"properties\":[{\"name\":\"align_content\",\"kind\":\"Any\",\"default\":\"flex-start\"},{\"name\":\"align_items\",\"kind\":\"Any\",\"default\":\"flex-start\"},{\"name\":\"flex_direction\",\"kind\":\"Any\",\"default\":\"row\"},{\"name\":\"flex_wrap\",\"kind\":\"Any\",\"default\":\"wrap\"},{\"name\":\"gap\",\"kind\":\"Any\",\"default\":\"\"},{\"name\":\"justify_content\",\"kind\":\"Any\",\"default\":\"flex-start\"}]},{\"type\":\"model\",\"name\":\"FloatPanel1\",\"properties\":[{\"name\":\"config\",\"kind\":\"Any\",\"default\":{\"type\":\"map\"}},{\"name\":\"contained\",\"kind\":\"Any\",\"default\":true},{\"name\":\"position\",\"kind\":\"Any\",\"default\":\"right-top\"},{\"name\":\"offsetx\",\"kind\":\"Any\",\"default\":null},{\"name\":\"offsety\",\"kind\":\"Any\",\"default\":null},{\"name\":\"theme\",\"kind\":\"Any\",\"default\":\"primary\"},{\"name\":\"status\",\"kind\":\"Any\",\"default\":\"normalized\"}]},{\"type\":\"model\",\"name\":\"GridStack1\",\"properties\":[{\"name\":\"ncols\",\"kind\":\"Any\",\"default\":null},{\"name\":\"nrows\",\"kind\":\"Any\",\"default\":null},{\"name\":\"allow_resize\",\"kind\":\"Any\",\"default\":true},{\"name\":\"allow_drag\",\"kind\":\"Any\",\"default\":true},{\"name\":\"state\",\"kind\":\"Any\",\"default\":[]}]},{\"type\":\"model\",\"name\":\"drag1\",\"properties\":[{\"name\":\"slider_width\",\"kind\":\"Any\",\"default\":5},{\"name\":\"slider_color\",\"kind\":\"Any\",\"default\":\"black\"},{\"name\":\"value\",\"kind\":\"Any\",\"default\":50}]},{\"type\":\"model\",\"name\":\"click1\",\"properties\":[{\"name\":\"terminal_output\",\"kind\":\"Any\",\"default\":\"\"},{\"name\":\"debug_name\",\"kind\":\"Any\",\"default\":\"\"},{\"name\":\"clears\",\"kind\":\"Any\",\"default\":0}]},{\"type\":\"model\",\"name\":\"ReactiveESM1\",\"properties\":[{\"name\":\"esm_constants\",\"kind\":\"Any\",\"default\":{\"type\":\"map\"}}]},{\"type\":\"model\",\"name\":\"JSComponent1\",\"properties\":[{\"name\":\"esm_constants\",\"kind\":\"Any\",\"default\":{\"type\":\"map\"}}]},{\"type\":\"model\",\"name\":\"ReactComponent1\",\"properties\":[{\"name\":\"use_shadow_dom\",\"kind\":\"Any\",\"default\":true},{\"name\":\"esm_constants\",\"kind\":\"Any\",\"default\":{\"type\":\"map\"}}]},{\"type\":\"model\",\"name\":\"AnyWidgetComponent1\",\"properties\":[{\"name\":\"use_shadow_dom\",\"kind\":\"Any\",\"default\":true},{\"name\":\"esm_constants\",\"kind\":\"Any\",\"default\":{\"type\":\"map\"}}]},{\"type\":\"model\",\"name\":\"FastWrapper1\",\"properties\":[{\"name\":\"object\",\"kind\":\"Any\",\"default\":null},{\"name\":\"style\",\"kind\":\"Any\",\"default\":null}]},{\"type\":\"model\",\"name\":\"NotificationArea1\",\"properties\":[{\"name\":\"js_events\",\"kind\":\"Any\",\"default\":{\"type\":\"map\"}},{\"name\":\"max_notifications\",\"kind\":\"Any\",\"default\":5},{\"name\":\"notifications\",\"kind\":\"Any\",\"default\":[]},{\"name\":\"position\",\"kind\":\"Any\",\"default\":\"bottom-right\"},{\"name\":\"_clear\",\"kind\":\"Any\",\"default\":0},{\"name\":\"types\",\"kind\":\"Any\",\"default\":[{\"type\":\"map\",\"entries\":[[\"type\",\"warning\"],[\"background\",\"#ffc107\"],[\"icon\",{\"type\":\"map\",\"entries\":[[\"className\",\"fas fa-exclamation-triangle\"],[\"tagName\",\"i\"],[\"color\",\"white\"]]}]]},{\"type\":\"map\",\"entries\":[[\"type\",\"info\"],[\"background\",\"#007bff\"],[\"icon\",{\"type\":\"map\",\"entries\":[[\"className\",\"fas fa-info-circle\"],[\"tagName\",\"i\"],[\"color\",\"white\"]]}]]}]}]},{\"type\":\"model\",\"name\":\"Notification\",\"properties\":[{\"name\":\"background\",\"kind\":\"Any\",\"default\":null},{\"name\":\"duration\",\"kind\":\"Any\",\"default\":3000},{\"name\":\"icon\",\"kind\":\"Any\",\"default\":null},{\"name\":\"message\",\"kind\":\"Any\",\"default\":\"\"},{\"name\":\"notification_type\",\"kind\":\"Any\",\"default\":null},{\"name\":\"_rendered\",\"kind\":\"Any\",\"default\":false},{\"name\":\"_destroyed\",\"kind\":\"Any\",\"default\":false}]},{\"type\":\"model\",\"name\":\"TemplateActions1\",\"properties\":[{\"name\":\"open_modal\",\"kind\":\"Any\",\"default\":0},{\"name\":\"close_modal\",\"kind\":\"Any\",\"default\":0}]},{\"type\":\"model\",\"name\":\"BootstrapTemplateActions1\",\"properties\":[{\"name\":\"open_modal\",\"kind\":\"Any\",\"default\":0},{\"name\":\"close_modal\",\"kind\":\"Any\",\"default\":0}]},{\"type\":\"model\",\"name\":\"TemplateEditor1\",\"properties\":[{\"name\":\"layout\",\"kind\":\"Any\",\"default\":[]}]},{\"type\":\"model\",\"name\":\"MaterialTemplateActions1\",\"properties\":[{\"name\":\"open_modal\",\"kind\":\"Any\",\"default\":0},{\"name\":\"close_modal\",\"kind\":\"Any\",\"default\":0}]},{\"type\":\"model\",\"name\":\"request_value1\",\"properties\":[{\"name\":\"fill\",\"kind\":\"Any\",\"default\":\"none\"},{\"name\":\"_synced\",\"kind\":\"Any\",\"default\":null},{\"name\":\"_request_sync\",\"kind\":\"Any\",\"default\":0}]},{\"type\":\"model\",\"name\":\"holoviews.plotting.bokeh.raster.HoverModel\",\"properties\":[{\"name\":\"xy\",\"kind\":\"Any\",\"default\":null},{\"name\":\"data\",\"kind\":\"Any\",\"default\":null}]}]}};\n",
       "  var render_items = [{\"docid\":\"d0bfb4f0-0d42-4314-aa4b-8fed40d26f91\",\"roots\":{\"529a7de4-b6b7-4395-9abd-0f5bb2211d97\":\"d8728f03-e817-4858-9c62-a76c8878e531\"},\"root_ids\":[\"529a7de4-b6b7-4395-9abd-0f5bb2211d97\"]}];\n",
       "  var docs = Object.values(docs_json)\n",
       "  if (!docs) {\n",
       "    return\n",
       "  }\n",
       "  const py_version = docs[0].version.replace('rc', '-rc.').replace('.dev', '-dev.')\n",
       "  async function embed_document(root) {\n",
       "    var Bokeh = get_bokeh(root)\n",
       "    await Bokeh.embed.embed_items_notebook(docs_json, render_items);\n",
       "    for (const render_item of render_items) {\n",
       "      for (const root_id of render_item.root_ids) {\n",
       "\tconst id_el = document.getElementById(root_id)\n",
       "\tif (id_el.children.length && id_el.children[0].hasAttribute('data-root-id')) {\n",
       "\t  const root_el = id_el.children[0]\n",
       "\t  root_el.id = root_el.id + '-rendered'\n",
       "\t  for (const child of root_el.children) {\n",
       "            // Ensure JupyterLab does not capture keyboard shortcuts\n",
       "            // see: https://jupyterlab.readthedocs.io/en/4.1.x/extension/notebook.html#keyboard-interaction-model\n",
       "\t    child.setAttribute('data-lm-suppress-shortcuts', 'true')\n",
       "\t  }\n",
       "\t}\n",
       "      }\n",
       "    }\n",
       "  }\n",
       "  function get_bokeh(root) {\n",
       "    if (root.Bokeh === undefined) {\n",
       "      return null\n",
       "    } else if (root.Bokeh.version !== py_version) {\n",
       "      if (root.Bokeh.versions === undefined || !root.Bokeh.versions.has(py_version)) {\n",
       "\treturn null\n",
       "      }\n",
       "      return root.Bokeh.versions.get(py_version);\n",
       "    } else if (root.Bokeh.version === py_version) {\n",
       "      return root.Bokeh\n",
       "    }\n",
       "    return null\n",
       "  }\n",
       "  function is_loaded(root) {\n",
       "    var Bokeh = get_bokeh(root)\n",
       "    return (Bokeh != null && Bokeh.Panel !== undefined)\n",
       "  }\n",
       "  if (is_loaded(root)) {\n",
       "    embed_document(root);\n",
       "  } else {\n",
       "    var attempts = 0;\n",
       "    var timer = setInterval(function(root) {\n",
       "      if (is_loaded(root)) {\n",
       "        clearInterval(timer);\n",
       "        embed_document(root);\n",
       "      } else if (document.readyState == \"complete\") {\n",
       "        attempts++;\n",
       "        if (attempts > 200) {\n",
       "          clearInterval(timer);\n",
       "\t  var Bokeh = get_bokeh(root)\n",
       "\t  if (Bokeh == null || Bokeh.Panel == null) {\n",
       "            console.warn(\"Panel: ERROR: Unable to run Panel code because Bokeh or Panel library is missing\");\n",
       "\t  } else {\n",
       "\t    console.warn(\"Panel: WARNING: Attempting to render but not all required libraries could be resolved.\")\n",
       "\t    embed_document(root)\n",
       "\t  }\n",
       "        }\n",
       "      }\n",
       "    }, 25, root)\n",
       "  }\n",
       "})(window);</script>"
      ]
     },
     "metadata": {
      "application/vnd.holoviews_exec.v0+json": {
       "id": "529a7de4-b6b7-4395-9abd-0f5bb2211d97"
      }
     },
     "output_type": "display_data"
    }
   ],
   "source": [
    "from datetime import datetime, timedelta\n",
    "from pathlib import Path\n",
    "\n",
    "import hvplot.polars\n",
    "import numpy as np\n",
    "import polars as pl\n",
    "from sqlalchemy import text"
   ]
  },
  {
   "cell_type": "code",
   "execution_count": 5,
   "id": "da78e0a6",
   "metadata": {},
   "outputs": [],
   "source": [
    "from tsdb_benchmarks.dbs.questdb import QuestDB"
   ]
  },
  {
   "cell_type": "code",
   "execution_count": 6,
   "id": "73642aae",
   "metadata": {},
   "outputs": [
    {
     "data": {
      "text/plain": [
       "[{'version()': 'PostgreSQL 12.3, compiled by Visual C++ build 1914, 64-bit, QuestDB'}]"
      ]
     },
     "execution_count": 6,
     "metadata": {},
     "output_type": "execute_result"
    }
   ],
   "source": [
    "q = QuestDB()\n",
    "\n",
    "q.fetch(\"select version()\").to_dicts()"
   ]
  },
  {
   "cell_type": "code",
   "execution_count": 7,
   "id": "77d63f5a",
   "metadata": {},
   "outputs": [
    {
     "data": {
      "text/html": [
       "<div><style>\n",
       ".dataframe > thead > tr,\n",
       ".dataframe > tbody > tr {\n",
       "  text-align: right;\n",
       "  white-space: pre-wrap;\n",
       "}\n",
       "</style>\n",
       "<small>shape: (500_000, 101)</small><table border=\"1\" class=\"dataframe\"><thead><tr><th>time</th><th>ratio_5</th><th>process_17</th><th>deviation_2</th><th>process_61</th><th>process_48</th><th>process_64</th><th>process_83</th><th>process_41</th><th>process_50</th><th>process_63</th><th>binary_1</th><th>process_27</th><th>process_49</th><th>process_22</th><th>process_82</th><th>ratio_3</th><th>process_47</th><th>process_33</th><th>binary_2</th><th>process_29</th><th>process_67</th><th>process_15</th><th>process_76</th><th>process_11</th><th>process_18</th><th>process_37</th><th>binary_5</th><th>process_23</th><th>process_71</th><th>process_56</th><th>process_36</th><th>process_32</th><th>ratio_2</th><th>process_40</th><th>process_46</th><th>process_16</th><th>&hellip;</th><th>process_70</th><th>process_75</th><th>deviation_4</th><th>binary_4</th><th>process_9</th><th>process_21</th><th>process_4</th><th>process_34</th><th>process_62</th><th>process_42</th><th>process_68</th><th>process_14</th><th>binary_3</th><th>process_28</th><th>process_51</th><th>process_13</th><th>process_78</th><th>deviation_5</th><th>process_12</th><th>process_65</th><th>process_39</th><th>process_43</th><th>process_74</th><th>process_35</th><th>process_85</th><th>process_84</th><th>process_55</th><th>process_38</th><th>deviation_1</th><th>process_44</th><th>process_30</th><th>process_26</th><th>process_8</th><th>ratio_4</th><th>process_77</th><th>process_6</th><th>process_66</th></tr><tr><td>datetime[ms]</td><td>f32</td><td>f32</td><td>f32</td><td>f32</td><td>f32</td><td>f32</td><td>f32</td><td>f32</td><td>f32</td><td>f32</td><td>bool</td><td>f32</td><td>f32</td><td>f32</td><td>f32</td><td>f32</td><td>f32</td><td>f32</td><td>bool</td><td>f32</td><td>f32</td><td>f32</td><td>f32</td><td>f32</td><td>f32</td><td>f32</td><td>bool</td><td>f32</td><td>f32</td><td>f32</td><td>f32</td><td>f32</td><td>f32</td><td>f32</td><td>f32</td><td>f32</td><td>&hellip;</td><td>f32</td><td>f32</td><td>f32</td><td>bool</td><td>f32</td><td>f32</td><td>f32</td><td>f32</td><td>f32</td><td>f32</td><td>f32</td><td>f32</td><td>bool</td><td>f32</td><td>f32</td><td>f32</td><td>f32</td><td>f32</td><td>f32</td><td>f32</td><td>f32</td><td>f32</td><td>f32</td><td>f32</td><td>f32</td><td>f32</td><td>f32</td><td>f32</td><td>f32</td><td>f32</td><td>f32</td><td>f32</td><td>f32</td><td>f32</td><td>f32</td><td>f32</td><td>f32</td></tr></thead><tbody><tr><td>2024-01-19 18:41:00</td><td>0.80593</td><td>300.455414</td><td>-7.731582</td><td>740.586548</td><td>1196.729736</td><td>409.302277</td><td>245.100708</td><td>46.619602</td><td>298.892365</td><td>230.019775</td><td>false</td><td>162.484207</td><td>210.038422</td><td>495.126068</td><td>210.16008</td><td>0.682768</td><td>199.832901</td><td>811.640747</td><td>true</td><td>54.126534</td><td>765.163574</td><td>162.938828</td><td>847.684875</td><td>196.484619</td><td>720.473694</td><td>225.642929</td><td>false</td><td>619.372437</td><td>271.541534</td><td>582.658813</td><td>576.870789</td><td>1104.865356</td><td>0.06206</td><td>590.350159</td><td>331.366028</td><td>82.230919</td><td>&hellip;</td><td>145.256012</td><td>254.71315</td><td>15.457435</td><td>false</td><td>265.88736</td><td>223.479507</td><td>662.40979</td><td>97.776443</td><td>166.551407</td><td>266.35614</td><td>353.419434</td><td>180.686722</td><td>true</td><td>449.556763</td><td>742.759705</td><td>124.45755</td><td>231.951065</td><td>-34.818947</td><td>405.773346</td><td>116.588463</td><td>401.022186</td><td>402.66922</td><td>414.300262</td><td>592.503967</td><td>67.806801</td><td>774.826721</td><td>270.66452</td><td>152.048203</td><td>18.754868</td><td>78.914421</td><td>60.698078</td><td>323.788177</td><td>212.264633</td><td>0.127276</td><td>293.387909</td><td>112.893295</td><td>158.082489</td></tr><tr><td>2024-01-19 18:42:00</td><td>0.452803</td><td>300.406464</td><td>-7.622905</td><td>740.469604</td><td>1196.512695</td><td>409.482239</td><td>245.651321</td><td>46.738731</td><td>299.173065</td><td>230.37178</td><td>false</td><td>162.648407</td><td>210.008469</td><td>495.072479</td><td>209.9673</td><td>0.218096</td><td>199.532593</td><td>811.500244</td><td>true</td><td>54.148956</td><td>765.016418</td><td>162.773697</td><td>847.629822</td><td>196.699417</td><td>720.023438</td><td>225.656479</td><td>false</td><td>620.314941</td><td>271.786346</td><td>582.508911</td><td>576.951965</td><td>1104.799438</td><td>0.237426</td><td>590.403198</td><td>331.131775</td><td>81.91906</td><td>&hellip;</td><td>145.129303</td><td>254.586044</td><td>11.870923</td><td>false</td><td>266.061432</td><td>223.640991</td><td>662.453491</td><td>97.772408</td><td>166.528839</td><td>265.902649</td><td>353.523163</td><td>180.776428</td><td>true</td><td>449.093231</td><td>743.711792</td><td>124.917213</td><td>231.348541</td><td>41.741322</td><td>405.568481</td><td>116.737389</td><td>400.579163</td><td>402.870605</td><td>414.197357</td><td>593.222473</td><td>67.812241</td><td>774.547302</td><td>270.82489</td><td>151.641586</td><td>9.921497</td><td>79.526848</td><td>60.69376</td><td>323.64679</td><td>212.280869</td><td>0.738626</td><td>293.318054</td><td>112.637268</td><td>158.330185</td></tr><tr><td>2024-01-19 18:43:00</td><td>0.913732</td><td>300.276917</td><td>-59.512661</td><td>740.371399</td><td>1196.584717</td><td>409.585419</td><td>245.26799</td><td>46.510456</td><td>299.124207</td><td>229.778488</td><td>true</td><td>162.405075</td><td>209.928101</td><td>495.20816</td><td>210.010834</td><td>0.295982</td><td>199.41098</td><td>811.337769</td><td>true</td><td>54.190365</td><td>765.122742</td><td>162.915421</td><td>847.702759</td><td>196.19194</td><td>720.145935</td><td>225.592636</td><td>false</td><td>619.480774</td><td>271.960144</td><td>582.49231</td><td>577.097107</td><td>1104.501343</td><td>0.768411</td><td>590.453308</td><td>331.682678</td><td>81.939789</td><td>&hellip;</td><td>145.491608</td><td>254.698746</td><td>-24.335096</td><td>false</td><td>265.978333</td><td>223.539948</td><td>662.362915</td><td>97.795044</td><td>166.513611</td><td>266.232178</td><td>353.742035</td><td>181.154297</td><td>true</td><td>449.445831</td><td>742.737183</td><td>124.818642</td><td>231.301544</td><td>-84.950165</td><td>405.700806</td><td>116.770561</td><td>400.666962</td><td>402.791168</td><td>413.940277</td><td>592.911072</td><td>67.904289</td><td>774.92334</td><td>270.945374</td><td>151.443604</td><td>21.314808</td><td>79.659698</td><td>60.631454</td><td>323.524384</td><td>212.246246</td><td>0.827464</td><td>293.151001</td><td>112.717323</td><td>158.114243</td></tr><tr><td>2024-01-19 18:44:00</td><td>0.350472</td><td>299.8349</td><td>-8.34432</td><td>740.639771</td><td>1196.659058</td><td>409.46814</td><td>245.272186</td><td>46.432777</td><td>299.117706</td><td>229.788834</td><td>true</td><td>162.486069</td><td>210.025375</td><td>495.113831</td><td>210.251373</td><td>0.497201</td><td>199.566986</td><td>811.484741</td><td>true</td><td>53.849918</td><td>765.199341</td><td>162.554657</td><td>847.817627</td><td>196.498886</td><td>720.162292</td><td>225.764404</td><td>false</td><td>619.022949</td><td>271.745331</td><td>582.545044</td><td>577.133423</td><td>1104.705688</td><td>0.417721</td><td>590.250061</td><td>331.551178</td><td>81.976479</td><td>&hellip;</td><td>145.527008</td><td>254.502518</td><td>-19.054823</td><td>false</td><td>265.998444</td><td>223.450119</td><td>662.630981</td><td>97.693703</td><td>166.539291</td><td>266.702118</td><td>353.918121</td><td>180.697906</td><td>true</td><td>449.389465</td><td>743.598694</td><td>124.748535</td><td>232.460327</td><td>-12.434392</td><td>405.614899</td><td>116.465065</td><td>400.622467</td><td>402.500031</td><td>413.994324</td><td>592.816467</td><td>68.013527</td><td>774.68512</td><td>271.081268</td><td>151.633667</td><td>59.961899</td><td>79.053993</td><td>60.798817</td><td>323.640564</td><td>212.182037</td><td>0.876282</td><td>293.267029</td><td>112.801598</td><td>158.071762</td></tr><tr><td>2024-01-19 18:45:00</td><td>0.439025</td><td>300.53949</td><td>30.999887</td><td>740.411194</td><td>1196.261597</td><td>409.550232</td><td>244.997711</td><td>46.824776</td><td>299.075714</td><td>229.804581</td><td>true</td><td>162.139114</td><td>210.080795</td><td>495.180664</td><td>210.091827</td><td>0.316777</td><td>199.990341</td><td>811.498596</td><td>false</td><td>54.061684</td><td>765.075439</td><td>162.720322</td><td>847.686523</td><td>196.513245</td><td>719.792847</td><td>225.350616</td><td>true</td><td>619.912598</td><td>271.873016</td><td>582.561951</td><td>576.963806</td><td>1104.733032</td><td>0.094463</td><td>590.361023</td><td>331.202423</td><td>82.114288</td><td>&hellip;</td><td>145.812943</td><td>254.654114</td><td>-52.795254</td><td>true</td><td>265.857452</td><td>223.553818</td><td>661.911438</td><td>97.81292</td><td>166.656158</td><td>266.246674</td><td>353.497711</td><td>180.624039</td><td>true</td><td>449.365051</td><td>742.832397</td><td>124.923477</td><td>231.497391</td><td>76.211288</td><td>406.017609</td><td>116.519173</td><td>400.727631</td><td>402.941132</td><td>413.822815</td><td>592.458313</td><td>68.109985</td><td>775.001099</td><td>270.779266</td><td>151.414398</td><td>44.881916</td><td>78.928513</td><td>60.886913</td><td>323.847351</td><td>212.271515</td><td>0.115026</td><td>293.1521</td><td>112.911705</td><td>158.171234</td></tr><tr><td>&hellip;</td><td>&hellip;</td><td>&hellip;</td><td>&hellip;</td><td>&hellip;</td><td>&hellip;</td><td>&hellip;</td><td>&hellip;</td><td>&hellip;</td><td>&hellip;</td><td>&hellip;</td><td>&hellip;</td><td>&hellip;</td><td>&hellip;</td><td>&hellip;</td><td>&hellip;</td><td>&hellip;</td><td>&hellip;</td><td>&hellip;</td><td>&hellip;</td><td>&hellip;</td><td>&hellip;</td><td>&hellip;</td><td>&hellip;</td><td>&hellip;</td><td>&hellip;</td><td>&hellip;</td><td>&hellip;</td><td>&hellip;</td><td>&hellip;</td><td>&hellip;</td><td>&hellip;</td><td>&hellip;</td><td>&hellip;</td><td>&hellip;</td><td>&hellip;</td><td>&hellip;</td><td>&hellip;</td><td>&hellip;</td><td>&hellip;</td><td>&hellip;</td><td>&hellip;</td><td>&hellip;</td><td>&hellip;</td><td>&hellip;</td><td>&hellip;</td><td>&hellip;</td><td>&hellip;</td><td>&hellip;</td><td>&hellip;</td><td>&hellip;</td><td>&hellip;</td><td>&hellip;</td><td>&hellip;</td><td>&hellip;</td><td>&hellip;</td><td>&hellip;</td><td>&hellip;</td><td>&hellip;</td><td>&hellip;</td><td>&hellip;</td><td>&hellip;</td><td>&hellip;</td><td>&hellip;</td><td>&hellip;</td><td>&hellip;</td><td>&hellip;</td><td>&hellip;</td><td>&hellip;</td><td>&hellip;</td><td>&hellip;</td><td>&hellip;</td><td>&hellip;</td><td>&hellip;</td><td>&hellip;</td></tr><tr><td>2024-12-31 23:56:00</td><td>0.637072</td><td>298.860016</td><td>33.156094</td><td>740.618225</td><td>1198.638428</td><td>409.495392</td><td>243.863647</td><td>45.193737</td><td>299.207581</td><td>229.677963</td><td>false</td><td>161.536362</td><td>210.440262</td><td>495.545044</td><td>210.045395</td><td>0.313719</td><td>199.285507</td><td>811.575928</td><td>true</td><td>54.189838</td><td>766.907593</td><td>163.368134</td><td>849.446838</td><td>197.183929</td><td>721.03302</td><td>225.321167</td><td>true</td><td>620.882568</td><td>272.681946</td><td>581.771118</td><td>577.007935</td><td>1106.67749</td><td>0.674968</td><td>591.410034</td><td>331.552277</td><td>82.60424</td><td>&hellip;</td><td>145.534286</td><td>254.07341</td><td>32.922844</td><td>false</td><td>265.711029</td><td>223.813202</td><td>663.509338</td><td>97.743324</td><td>166.755173</td><td>266.87384</td><td>354.128998</td><td>180.852951</td><td>false</td><td>448.665894</td><td>744.901306</td><td>122.299713</td><td>232.183075</td><td>36.448689</td><td>406.821716</td><td>116.532776</td><td>401.778717</td><td>404.020203</td><td>414.974091</td><td>591.742615</td><td>67.877029</td><td>773.629517</td><td>269.379517</td><td>151.182938</td><td>-14.473028</td><td>79.954285</td><td>60.150036</td><td>324.00174</td><td>212.429123</td><td>0.710532</td><td>293.836273</td><td>112.958893</td><td>157.677963</td></tr><tr><td>2024-12-31 23:57:00</td><td>0.819076</td><td>298.779327</td><td>41.562637</td><td>740.335754</td><td>1198.722412</td><td>409.759857</td><td>243.959946</td><td>45.370323</td><td>299.000122</td><td>229.731949</td><td>false</td><td>161.40921</td><td>210.351181</td><td>495.71637</td><td>210.13765</td><td>0.665454</td><td>199.36293</td><td>811.276978</td><td>true</td><td>54.407913</td><td>766.858337</td><td>163.40329</td><td>849.573364</td><td>196.687454</td><td>720.984436</td><td>225.409653</td><td>true</td><td>621.152222</td><td>272.42746</td><td>581.742188</td><td>577.164307</td><td>1106.097412</td><td>0.121588</td><td>591.486145</td><td>331.701111</td><td>82.936966</td><td>&hellip;</td><td>145.970764</td><td>254.127625</td><td>8.317928</td><td>false</td><td>265.848633</td><td>223.789001</td><td>663.543762</td><td>97.776588</td><td>166.637604</td><td>266.90802</td><td>354.13736</td><td>180.851761</td><td>false</td><td>448.516876</td><td>744.747253</td><td>122.176743</td><td>232.057327</td><td>1.676311</td><td>406.547485</td><td>116.495949</td><td>401.797485</td><td>404.167297</td><td>414.789703</td><td>591.699158</td><td>67.795853</td><td>773.78949</td><td>269.396606</td><td>151.262375</td><td>-34.537521</td><td>79.553535</td><td>60.283417</td><td>324.130127</td><td>212.147827</td><td>0.114123</td><td>293.795776</td><td>112.936058</td><td>157.690567</td></tr><tr><td>2024-12-31 23:58:00</td><td>0.478006</td><td>299.213531</td><td>28.9062</td><td>740.627686</td><td>1198.502441</td><td>409.423859</td><td>243.775665</td><td>45.348576</td><td>299.282562</td><td>229.426285</td><td>false</td><td>161.655151</td><td>210.332382</td><td>495.500885</td><td>210.114471</td><td>0.339495</td><td>199.415985</td><td>811.677368</td><td>false</td><td>54.031223</td><td>766.688904</td><td>163.203262</td><td>849.548645</td><td>197.123764</td><td>720.876465</td><td>225.659653</td><td>true</td><td>621.27655</td><td>272.736176</td><td>581.675232</td><td>576.947083</td><td>1106.555786</td><td>0.307545</td><td>591.815857</td><td>332.091156</td><td>81.979881</td><td>&hellip;</td><td>145.438034</td><td>253.857056</td><td>29.311586</td><td>false</td><td>265.864899</td><td>223.882599</td><td>663.420471</td><td>97.747612</td><td>166.507751</td><td>267.170593</td><td>354.548645</td><td>181.036652</td><td>false</td><td>448.887909</td><td>745.376404</td><td>122.392715</td><td>232.048874</td><td>-6.240932</td><td>406.635376</td><td>116.708145</td><td>401.256104</td><td>404.035645</td><td>415.00235</td><td>591.751526</td><td>67.741287</td><td>774.027771</td><td>269.226898</td><td>151.407776</td><td>68.965324</td><td>79.871719</td><td>60.020584</td><td>324.080292</td><td>212.236633</td><td>0.630947</td><td>293.877747</td><td>112.762688</td><td>157.674942</td></tr><tr><td>2024-12-31 23:59:00</td><td>0.475662</td><td>299.580841</td><td>-12.314326</td><td>740.872131</td><td>1198.498657</td><td>409.702637</td><td>244.055481</td><td>45.537598</td><td>299.019501</td><td>229.591949</td><td>true</td><td>161.538467</td><td>210.330612</td><td>495.61618</td><td>210.27002</td><td>0.297171</td><td>199.237274</td><td>811.5047</td><td>false</td><td>53.82275</td><td>766.849304</td><td>163.436707</td><td>849.636292</td><td>197.060135</td><td>721.190369</td><td>225.123276</td><td>true</td><td>621.407593</td><td>272.419525</td><td>581.753906</td><td>577.097107</td><td>1107.057983</td><td>0.723059</td><td>591.589844</td><td>331.563049</td><td>82.992851</td><td>&hellip;</td><td>145.244598</td><td>254.143799</td><td>-54.139229</td><td>false</td><td>265.701538</td><td>223.866776</td><td>663.955383</td><td>97.888016</td><td>166.571915</td><td>266.304016</td><td>354.118774</td><td>180.829834</td><td>false</td><td>448.76767</td><td>744.527527</td><td>121.923119</td><td>231.631454</td><td>10.416027</td><td>406.820923</td><td>116.570251</td><td>402.085052</td><td>404.093353</td><td>414.620239</td><td>591.438538</td><td>68.01664</td><td>773.83551</td><td>269.27829</td><td>150.958115</td><td>-6.286505</td><td>80.184189</td><td>60.085018</td><td>323.993988</td><td>212.332458</td><td>0.58817</td><td>293.694855</td><td>112.672745</td><td>157.525452</td></tr><tr><td>2025-01-01 00:00:00</td><td>0.288662</td><td>299.163696</td><td>32.237804</td><td>740.38324</td><td>1198.67627</td><td>409.527374</td><td>243.657043</td><td>45.206062</td><td>299.182983</td><td>229.769562</td><td>true</td><td>161.765854</td><td>210.483047</td><td>495.622803</td><td>210.164719</td><td>0.395159</td><td>199.33017</td><td>811.245667</td><td>false</td><td>54.456608</td><td>766.931091</td><td>162.915955</td><td>849.454834</td><td>197.186783</td><td>721.074829</td><td>225.798599</td><td>true</td><td>621.193604</td><td>272.634705</td><td>581.748047</td><td>577.045532</td><td>1106.530396</td><td>0.178634</td><td>591.775269</td><td>331.482727</td><td>82.728508</td><td>&hellip;</td><td>145.722321</td><td>254.215546</td><td>1.74726</td><td>false</td><td>266.028015</td><td>223.910522</td><td>663.730957</td><td>97.718086</td><td>166.665543</td><td>266.635132</td><td>354.314026</td><td>180.890579</td><td>false</td><td>448.879639</td><td>744.256714</td><td>121.691299</td><td>231.832382</td><td>-4.542631</td><td>406.548828</td><td>116.638046</td><td>401.777008</td><td>404.041901</td><td>415.236328</td><td>591.5802</td><td>67.736526</td><td>773.756409</td><td>269.317505</td><td>151.032822</td><td>-14.362358</td><td>79.84156</td><td>59.940624</td><td>324.095947</td><td>212.704147</td><td>0.712457</td><td>293.711456</td><td>112.822792</td><td>157.386978</td></tr></tbody></table></div>"
      ],
      "text/plain": [
       "shape: (500_000, 101)\n",
       "┌────────────┬──────────┬───────────┬───────────┬───┬──────────┬───────────┬───────────┬───────────┐\n",
       "│ time       ┆ ratio_5  ┆ process_1 ┆ deviation ┆ … ┆ ratio_4  ┆ process_7 ┆ process_6 ┆ process_6 │\n",
       "│ ---        ┆ ---      ┆ 7         ┆ _2        ┆   ┆ ---      ┆ 7         ┆ ---       ┆ 6         │\n",
       "│ datetime[m ┆ f32      ┆ ---       ┆ ---       ┆   ┆ f32      ┆ ---       ┆ f32       ┆ ---       │\n",
       "│ s]         ┆          ┆ f32       ┆ f32       ┆   ┆          ┆ f32       ┆           ┆ f32       │\n",
       "╞════════════╪══════════╪═══════════╪═══════════╪═══╪══════════╪═══════════╪═══════════╪═══════════╡\n",
       "│ 2024-01-19 ┆ 0.80593  ┆ 300.45541 ┆ -7.731582 ┆ … ┆ 0.127276 ┆ 293.38790 ┆ 112.89329 ┆ 158.08248 │\n",
       "│ 18:41:00   ┆          ┆ 4         ┆           ┆   ┆          ┆ 9         ┆ 5         ┆ 9         │\n",
       "│ 2024-01-19 ┆ 0.452803 ┆ 300.40646 ┆ -7.622905 ┆ … ┆ 0.738626 ┆ 293.31805 ┆ 112.63726 ┆ 158.33018 │\n",
       "│ 18:42:00   ┆          ┆ 4         ┆           ┆   ┆          ┆ 4         ┆ 8         ┆ 5         │\n",
       "│ 2024-01-19 ┆ 0.913732 ┆ 300.27691 ┆ -59.51266 ┆ … ┆ 0.827464 ┆ 293.15100 ┆ 112.71732 ┆ 158.11424 │\n",
       "│ 18:43:00   ┆          ┆ 7         ┆ 1         ┆   ┆          ┆ 1         ┆ 3         ┆ 3         │\n",
       "│ 2024-01-19 ┆ 0.350472 ┆ 299.8349  ┆ -8.34432  ┆ … ┆ 0.876282 ┆ 293.26702 ┆ 112.80159 ┆ 158.07176 │\n",
       "│ 18:44:00   ┆          ┆           ┆           ┆   ┆          ┆ 9         ┆ 8         ┆ 2         │\n",
       "│ 2024-01-19 ┆ 0.439025 ┆ 300.53949 ┆ 30.999887 ┆ … ┆ 0.115026 ┆ 293.1521  ┆ 112.91170 ┆ 158.17123 │\n",
       "│ 18:45:00   ┆          ┆           ┆           ┆   ┆          ┆           ┆ 5         ┆ 4         │\n",
       "│ …          ┆ …        ┆ …         ┆ …         ┆ … ┆ …        ┆ …         ┆ …         ┆ …         │\n",
       "│ 2024-12-31 ┆ 0.637072 ┆ 298.86001 ┆ 33.156094 ┆ … ┆ 0.710532 ┆ 293.83627 ┆ 112.95889 ┆ 157.67796 │\n",
       "│ 23:56:00   ┆          ┆ 6         ┆           ┆   ┆          ┆ 3         ┆ 3         ┆ 3         │\n",
       "│ 2024-12-31 ┆ 0.819076 ┆ 298.77932 ┆ 41.562637 ┆ … ┆ 0.114123 ┆ 293.79577 ┆ 112.93605 ┆ 157.69056 │\n",
       "│ 23:57:00   ┆          ┆ 7         ┆           ┆   ┆          ┆ 6         ┆ 8         ┆ 7         │\n",
       "│ 2024-12-31 ┆ 0.478006 ┆ 299.21353 ┆ 28.9062   ┆ … ┆ 0.630947 ┆ 293.87774 ┆ 112.76268 ┆ 157.67494 │\n",
       "│ 23:58:00   ┆          ┆ 1         ┆           ┆   ┆          ┆ 7         ┆ 8         ┆ 2         │\n",
       "│ 2024-12-31 ┆ 0.475662 ┆ 299.58084 ┆ -12.31432 ┆ … ┆ 0.58817  ┆ 293.69485 ┆ 112.67274 ┆ 157.52545 │\n",
       "│ 23:59:00   ┆          ┆ 1         ┆ 6         ┆   ┆          ┆ 5         ┆ 5         ┆ 2         │\n",
       "│ 2025-01-01 ┆ 0.288662 ┆ 299.16369 ┆ 32.237804 ┆ … ┆ 0.712457 ┆ 293.71145 ┆ 112.82279 ┆ 157.38697 │\n",
       "│ 00:00:00   ┆          ┆ 6         ┆           ┆   ┆          ┆ 6         ┆ 2         ┆ 8         │\n",
       "└────────────┴──────────┴───────────┴───────────┴───┴──────────┴───────────┴───────────┴───────────┘"
      ]
     },
     "execution_count": 7,
     "metadata": {},
     "output_type": "execute_result"
    }
   ],
   "source": [
    "df = pl.read_parquet(\"../data/input/time_series/data_wide_0.5M_0.1k.parquet\")\n",
    "\n",
    "df"
   ]
  },
  {
   "cell_type": "code",
   "execution_count": 8,
   "id": "9ba17181",
   "metadata": {},
   "outputs": [],
   "source": [
    "q.insert(df, \"test\")"
   ]
  },
  {
   "cell_type": "code",
   "execution_count": 9,
   "id": "38f40589",
   "metadata": {},
   "outputs": [
    {
     "data": {
      "text/html": [
       "<div><style>\n",
       ".dataframe > thead > tr,\n",
       ".dataframe > tbody > tr {\n",
       "  text-align: right;\n",
       "  white-space: pre-wrap;\n",
       "}\n",
       "</style>\n",
       "<small>shape: (500_000, 101)</small><table border=\"1\" class=\"dataframe\"><thead><tr><th>time</th><th>ratio_5</th><th>process_17</th><th>deviation_2</th><th>process_61</th><th>process_48</th><th>process_64</th><th>process_83</th><th>process_41</th><th>process_50</th><th>process_63</th><th>binary_1</th><th>process_27</th><th>process_49</th><th>process_22</th><th>process_82</th><th>ratio_3</th><th>process_47</th><th>process_33</th><th>binary_2</th><th>process_29</th><th>process_67</th><th>process_15</th><th>process_76</th><th>process_11</th><th>process_18</th><th>process_37</th><th>binary_5</th><th>process_23</th><th>process_71</th><th>process_56</th><th>process_36</th><th>process_32</th><th>ratio_2</th><th>process_40</th><th>process_46</th><th>process_16</th><th>&hellip;</th><th>process_70</th><th>process_75</th><th>deviation_4</th><th>binary_4</th><th>process_9</th><th>process_21</th><th>process_4</th><th>process_34</th><th>process_62</th><th>process_42</th><th>process_68</th><th>process_14</th><th>binary_3</th><th>process_28</th><th>process_51</th><th>process_13</th><th>process_78</th><th>deviation_5</th><th>process_12</th><th>process_65</th><th>process_39</th><th>process_43</th><th>process_74</th><th>process_35</th><th>process_85</th><th>process_84</th><th>process_55</th><th>process_38</th><th>deviation_1</th><th>process_44</th><th>process_30</th><th>process_26</th><th>process_8</th><th>ratio_4</th><th>process_77</th><th>process_6</th><th>process_66</th></tr><tr><td>datetime[μs]</td><td>f32</td><td>f32</td><td>f32</td><td>f32</td><td>f32</td><td>f32</td><td>f32</td><td>f32</td><td>f32</td><td>f32</td><td>bool</td><td>f32</td><td>f32</td><td>f32</td><td>f32</td><td>f32</td><td>f32</td><td>f32</td><td>bool</td><td>f32</td><td>f32</td><td>f32</td><td>f32</td><td>f32</td><td>f32</td><td>f32</td><td>bool</td><td>f32</td><td>f32</td><td>f32</td><td>f32</td><td>f32</td><td>f32</td><td>f32</td><td>f32</td><td>f32</td><td>&hellip;</td><td>f32</td><td>f32</td><td>f32</td><td>bool</td><td>f32</td><td>f32</td><td>f32</td><td>f32</td><td>f32</td><td>f32</td><td>f32</td><td>f32</td><td>bool</td><td>f32</td><td>f32</td><td>f32</td><td>f32</td><td>f32</td><td>f32</td><td>f32</td><td>f32</td><td>f32</td><td>f32</td><td>f32</td><td>f32</td><td>f32</td><td>f32</td><td>f32</td><td>f32</td><td>f32</td><td>f32</td><td>f32</td><td>f32</td><td>f32</td><td>f32</td><td>f32</td><td>f32</td></tr></thead><tbody><tr><td>2024-01-19 18:41:00</td><td>0.80593</td><td>300.455414</td><td>-7.731582</td><td>740.586548</td><td>1196.729736</td><td>409.302277</td><td>245.100708</td><td>46.619602</td><td>298.892365</td><td>230.019775</td><td>false</td><td>162.484207</td><td>210.038422</td><td>495.126068</td><td>210.16008</td><td>0.682768</td><td>199.832901</td><td>811.640747</td><td>true</td><td>54.126534</td><td>765.163574</td><td>162.938828</td><td>847.684875</td><td>196.484619</td><td>720.473694</td><td>225.642929</td><td>false</td><td>619.372437</td><td>271.541534</td><td>582.658813</td><td>576.870789</td><td>1104.865356</td><td>0.06206</td><td>590.350159</td><td>331.366028</td><td>82.230919</td><td>&hellip;</td><td>145.256012</td><td>254.71315</td><td>15.457435</td><td>false</td><td>265.88736</td><td>223.479507</td><td>662.40979</td><td>97.776443</td><td>166.551407</td><td>266.35614</td><td>353.419434</td><td>180.686722</td><td>true</td><td>449.556763</td><td>742.759705</td><td>124.45755</td><td>231.951065</td><td>-34.818947</td><td>405.773346</td><td>116.588463</td><td>401.022186</td><td>402.66922</td><td>414.300262</td><td>592.503967</td><td>67.806801</td><td>774.826721</td><td>270.66452</td><td>152.048203</td><td>18.754868</td><td>78.914421</td><td>60.698078</td><td>323.788177</td><td>212.264633</td><td>0.127276</td><td>293.387909</td><td>112.893295</td><td>158.082489</td></tr><tr><td>2024-01-19 18:42:00</td><td>0.452803</td><td>300.406464</td><td>-7.622905</td><td>740.469604</td><td>1196.512695</td><td>409.482239</td><td>245.651321</td><td>46.738731</td><td>299.173065</td><td>230.37178</td><td>false</td><td>162.648407</td><td>210.008469</td><td>495.072479</td><td>209.9673</td><td>0.218096</td><td>199.532593</td><td>811.500244</td><td>true</td><td>54.148956</td><td>765.016418</td><td>162.773697</td><td>847.629822</td><td>196.699417</td><td>720.023438</td><td>225.656479</td><td>false</td><td>620.314941</td><td>271.786346</td><td>582.508911</td><td>576.951965</td><td>1104.799438</td><td>0.237426</td><td>590.403198</td><td>331.131775</td><td>81.91906</td><td>&hellip;</td><td>145.129303</td><td>254.586044</td><td>11.870923</td><td>false</td><td>266.061432</td><td>223.640991</td><td>662.453491</td><td>97.772408</td><td>166.528839</td><td>265.902649</td><td>353.523163</td><td>180.776428</td><td>true</td><td>449.093231</td><td>743.711792</td><td>124.917213</td><td>231.348541</td><td>41.741322</td><td>405.568481</td><td>116.737389</td><td>400.579163</td><td>402.870605</td><td>414.197357</td><td>593.222473</td><td>67.812241</td><td>774.547302</td><td>270.82489</td><td>151.641586</td><td>9.921497</td><td>79.526848</td><td>60.69376</td><td>323.64679</td><td>212.280869</td><td>0.738626</td><td>293.318054</td><td>112.637268</td><td>158.330185</td></tr><tr><td>2024-01-19 18:43:00</td><td>0.913732</td><td>300.276917</td><td>-59.512661</td><td>740.371399</td><td>1196.584717</td><td>409.585419</td><td>245.26799</td><td>46.510456</td><td>299.124207</td><td>229.778488</td><td>true</td><td>162.405075</td><td>209.928101</td><td>495.20816</td><td>210.010834</td><td>0.295982</td><td>199.41098</td><td>811.337769</td><td>true</td><td>54.190365</td><td>765.122742</td><td>162.915421</td><td>847.702759</td><td>196.19194</td><td>720.145935</td><td>225.592636</td><td>false</td><td>619.480774</td><td>271.960144</td><td>582.49231</td><td>577.097107</td><td>1104.501343</td><td>0.768411</td><td>590.453308</td><td>331.682678</td><td>81.939789</td><td>&hellip;</td><td>145.491608</td><td>254.698746</td><td>-24.335096</td><td>false</td><td>265.978333</td><td>223.539948</td><td>662.362915</td><td>97.795044</td><td>166.513611</td><td>266.232178</td><td>353.742035</td><td>181.154297</td><td>true</td><td>449.445831</td><td>742.737183</td><td>124.818642</td><td>231.301544</td><td>-84.950165</td><td>405.700806</td><td>116.770561</td><td>400.666962</td><td>402.791168</td><td>413.940277</td><td>592.911072</td><td>67.904289</td><td>774.92334</td><td>270.945374</td><td>151.443604</td><td>21.314808</td><td>79.659698</td><td>60.631454</td><td>323.524384</td><td>212.246246</td><td>0.827464</td><td>293.151001</td><td>112.717323</td><td>158.114243</td></tr><tr><td>2024-01-19 18:44:00</td><td>0.350472</td><td>299.8349</td><td>-8.34432</td><td>740.639771</td><td>1196.659058</td><td>409.46814</td><td>245.272186</td><td>46.432777</td><td>299.117706</td><td>229.788834</td><td>true</td><td>162.486069</td><td>210.025375</td><td>495.113831</td><td>210.251373</td><td>0.497201</td><td>199.566986</td><td>811.484741</td><td>true</td><td>53.849918</td><td>765.199341</td><td>162.554657</td><td>847.817627</td><td>196.498886</td><td>720.162292</td><td>225.764404</td><td>false</td><td>619.022949</td><td>271.745331</td><td>582.545044</td><td>577.133423</td><td>1104.705688</td><td>0.417721</td><td>590.250061</td><td>331.551178</td><td>81.976479</td><td>&hellip;</td><td>145.527008</td><td>254.502518</td><td>-19.054823</td><td>false</td><td>265.998444</td><td>223.450119</td><td>662.630981</td><td>97.693703</td><td>166.539291</td><td>266.702118</td><td>353.918121</td><td>180.697906</td><td>true</td><td>449.389465</td><td>743.598694</td><td>124.748535</td><td>232.460327</td><td>-12.434392</td><td>405.614899</td><td>116.465065</td><td>400.622467</td><td>402.500031</td><td>413.994324</td><td>592.816467</td><td>68.013527</td><td>774.68512</td><td>271.081268</td><td>151.633667</td><td>59.961899</td><td>79.053993</td><td>60.798817</td><td>323.640564</td><td>212.182037</td><td>0.876282</td><td>293.267029</td><td>112.801598</td><td>158.071762</td></tr><tr><td>2024-01-19 18:45:00</td><td>0.439025</td><td>300.53949</td><td>30.999887</td><td>740.411194</td><td>1196.261597</td><td>409.550232</td><td>244.997711</td><td>46.824776</td><td>299.075714</td><td>229.804581</td><td>true</td><td>162.139114</td><td>210.080795</td><td>495.180664</td><td>210.091827</td><td>0.316777</td><td>199.990341</td><td>811.498596</td><td>false</td><td>54.061684</td><td>765.075439</td><td>162.720322</td><td>847.686523</td><td>196.513245</td><td>719.792847</td><td>225.350616</td><td>true</td><td>619.912598</td><td>271.873016</td><td>582.561951</td><td>576.963806</td><td>1104.733032</td><td>0.094463</td><td>590.361023</td><td>331.202423</td><td>82.114288</td><td>&hellip;</td><td>145.812943</td><td>254.654114</td><td>-52.795254</td><td>true</td><td>265.857452</td><td>223.553818</td><td>661.911438</td><td>97.81292</td><td>166.656158</td><td>266.246674</td><td>353.497711</td><td>180.624039</td><td>true</td><td>449.365051</td><td>742.832397</td><td>124.923477</td><td>231.497391</td><td>76.211288</td><td>406.017609</td><td>116.519173</td><td>400.727631</td><td>402.941132</td><td>413.822815</td><td>592.458313</td><td>68.109985</td><td>775.001099</td><td>270.779266</td><td>151.414398</td><td>44.881916</td><td>78.928513</td><td>60.886913</td><td>323.847351</td><td>212.271515</td><td>0.115026</td><td>293.1521</td><td>112.911705</td><td>158.171234</td></tr><tr><td>&hellip;</td><td>&hellip;</td><td>&hellip;</td><td>&hellip;</td><td>&hellip;</td><td>&hellip;</td><td>&hellip;</td><td>&hellip;</td><td>&hellip;</td><td>&hellip;</td><td>&hellip;</td><td>&hellip;</td><td>&hellip;</td><td>&hellip;</td><td>&hellip;</td><td>&hellip;</td><td>&hellip;</td><td>&hellip;</td><td>&hellip;</td><td>&hellip;</td><td>&hellip;</td><td>&hellip;</td><td>&hellip;</td><td>&hellip;</td><td>&hellip;</td><td>&hellip;</td><td>&hellip;</td><td>&hellip;</td><td>&hellip;</td><td>&hellip;</td><td>&hellip;</td><td>&hellip;</td><td>&hellip;</td><td>&hellip;</td><td>&hellip;</td><td>&hellip;</td><td>&hellip;</td><td>&hellip;</td><td>&hellip;</td><td>&hellip;</td><td>&hellip;</td><td>&hellip;</td><td>&hellip;</td><td>&hellip;</td><td>&hellip;</td><td>&hellip;</td><td>&hellip;</td><td>&hellip;</td><td>&hellip;</td><td>&hellip;</td><td>&hellip;</td><td>&hellip;</td><td>&hellip;</td><td>&hellip;</td><td>&hellip;</td><td>&hellip;</td><td>&hellip;</td><td>&hellip;</td><td>&hellip;</td><td>&hellip;</td><td>&hellip;</td><td>&hellip;</td><td>&hellip;</td><td>&hellip;</td><td>&hellip;</td><td>&hellip;</td><td>&hellip;</td><td>&hellip;</td><td>&hellip;</td><td>&hellip;</td><td>&hellip;</td><td>&hellip;</td><td>&hellip;</td><td>&hellip;</td><td>&hellip;</td></tr><tr><td>2024-12-31 23:56:00</td><td>0.637072</td><td>298.860016</td><td>33.156094</td><td>740.618225</td><td>1198.638428</td><td>409.495392</td><td>243.863647</td><td>45.193737</td><td>299.207581</td><td>229.677963</td><td>false</td><td>161.536362</td><td>210.440262</td><td>495.545044</td><td>210.045395</td><td>0.313719</td><td>199.285507</td><td>811.575928</td><td>true</td><td>54.189838</td><td>766.907593</td><td>163.368134</td><td>849.446838</td><td>197.183929</td><td>721.03302</td><td>225.321167</td><td>true</td><td>620.882568</td><td>272.681946</td><td>581.771118</td><td>577.007935</td><td>1106.67749</td><td>0.674968</td><td>591.410034</td><td>331.552277</td><td>82.60424</td><td>&hellip;</td><td>145.534286</td><td>254.07341</td><td>32.922844</td><td>false</td><td>265.711029</td><td>223.813202</td><td>663.509338</td><td>97.743324</td><td>166.755173</td><td>266.87384</td><td>354.128998</td><td>180.852951</td><td>false</td><td>448.665894</td><td>744.901306</td><td>122.299713</td><td>232.183075</td><td>36.448689</td><td>406.821716</td><td>116.532776</td><td>401.778717</td><td>404.020203</td><td>414.974091</td><td>591.742615</td><td>67.877029</td><td>773.629517</td><td>269.379517</td><td>151.182938</td><td>-14.473028</td><td>79.954285</td><td>60.150036</td><td>324.00174</td><td>212.429123</td><td>0.710532</td><td>293.836273</td><td>112.958893</td><td>157.677963</td></tr><tr><td>2024-12-31 23:57:00</td><td>0.819076</td><td>298.779327</td><td>41.562637</td><td>740.335754</td><td>1198.722412</td><td>409.759857</td><td>243.959946</td><td>45.370323</td><td>299.000122</td><td>229.731949</td><td>false</td><td>161.40921</td><td>210.351181</td><td>495.71637</td><td>210.13765</td><td>0.665454</td><td>199.36293</td><td>811.276978</td><td>true</td><td>54.407913</td><td>766.858337</td><td>163.40329</td><td>849.573364</td><td>196.687454</td><td>720.984436</td><td>225.409653</td><td>true</td><td>621.152222</td><td>272.42746</td><td>581.742188</td><td>577.164307</td><td>1106.097412</td><td>0.121588</td><td>591.486145</td><td>331.701111</td><td>82.936966</td><td>&hellip;</td><td>145.970764</td><td>254.127625</td><td>8.317928</td><td>false</td><td>265.848633</td><td>223.789001</td><td>663.543762</td><td>97.776588</td><td>166.637604</td><td>266.90802</td><td>354.13736</td><td>180.851761</td><td>false</td><td>448.516876</td><td>744.747253</td><td>122.176743</td><td>232.057327</td><td>1.676311</td><td>406.547485</td><td>116.495949</td><td>401.797485</td><td>404.167297</td><td>414.789703</td><td>591.699158</td><td>67.795853</td><td>773.78949</td><td>269.396606</td><td>151.262375</td><td>-34.537521</td><td>79.553535</td><td>60.283417</td><td>324.130127</td><td>212.147827</td><td>0.114123</td><td>293.795776</td><td>112.936058</td><td>157.690567</td></tr><tr><td>2024-12-31 23:58:00</td><td>0.478006</td><td>299.213531</td><td>28.9062</td><td>740.627686</td><td>1198.502441</td><td>409.423859</td><td>243.775665</td><td>45.348576</td><td>299.282562</td><td>229.426285</td><td>false</td><td>161.655151</td><td>210.332382</td><td>495.500885</td><td>210.114471</td><td>0.339495</td><td>199.415985</td><td>811.677368</td><td>false</td><td>54.031223</td><td>766.688904</td><td>163.203262</td><td>849.548645</td><td>197.123764</td><td>720.876465</td><td>225.659653</td><td>true</td><td>621.27655</td><td>272.736176</td><td>581.675232</td><td>576.947083</td><td>1106.555786</td><td>0.307545</td><td>591.815857</td><td>332.091156</td><td>81.979881</td><td>&hellip;</td><td>145.438034</td><td>253.857056</td><td>29.311586</td><td>false</td><td>265.864899</td><td>223.882599</td><td>663.420471</td><td>97.747612</td><td>166.507751</td><td>267.170593</td><td>354.548645</td><td>181.036652</td><td>false</td><td>448.887909</td><td>745.376404</td><td>122.392715</td><td>232.048874</td><td>-6.240932</td><td>406.635376</td><td>116.708145</td><td>401.256104</td><td>404.035645</td><td>415.00235</td><td>591.751526</td><td>67.741287</td><td>774.027771</td><td>269.226898</td><td>151.407776</td><td>68.965324</td><td>79.871719</td><td>60.020584</td><td>324.080292</td><td>212.236633</td><td>0.630947</td><td>293.877747</td><td>112.762688</td><td>157.674942</td></tr><tr><td>2024-12-31 23:59:00</td><td>0.475662</td><td>299.580841</td><td>-12.314326</td><td>740.872131</td><td>1198.498657</td><td>409.702637</td><td>244.055481</td><td>45.537598</td><td>299.019501</td><td>229.591949</td><td>true</td><td>161.538467</td><td>210.330612</td><td>495.61618</td><td>210.27002</td><td>0.297171</td><td>199.237274</td><td>811.5047</td><td>false</td><td>53.82275</td><td>766.849304</td><td>163.436707</td><td>849.636292</td><td>197.060135</td><td>721.190369</td><td>225.123276</td><td>true</td><td>621.407593</td><td>272.419525</td><td>581.753906</td><td>577.097107</td><td>1107.057983</td><td>0.723059</td><td>591.589844</td><td>331.563049</td><td>82.992851</td><td>&hellip;</td><td>145.244598</td><td>254.143799</td><td>-54.139229</td><td>false</td><td>265.701538</td><td>223.866776</td><td>663.955383</td><td>97.888016</td><td>166.571915</td><td>266.304016</td><td>354.118774</td><td>180.829834</td><td>false</td><td>448.76767</td><td>744.527527</td><td>121.923119</td><td>231.631454</td><td>10.416027</td><td>406.820923</td><td>116.570251</td><td>402.085052</td><td>404.093353</td><td>414.620239</td><td>591.438538</td><td>68.01664</td><td>773.83551</td><td>269.27829</td><td>150.958115</td><td>-6.286505</td><td>80.184189</td><td>60.085018</td><td>323.993988</td><td>212.332458</td><td>0.58817</td><td>293.694855</td><td>112.672745</td><td>157.525452</td></tr><tr><td>2025-01-01 00:00:00</td><td>0.288662</td><td>299.163696</td><td>32.237804</td><td>740.38324</td><td>1198.67627</td><td>409.527374</td><td>243.657043</td><td>45.206062</td><td>299.182983</td><td>229.769562</td><td>true</td><td>161.765854</td><td>210.483047</td><td>495.622803</td><td>210.164719</td><td>0.395159</td><td>199.33017</td><td>811.245667</td><td>false</td><td>54.456608</td><td>766.931091</td><td>162.915955</td><td>849.454834</td><td>197.186783</td><td>721.074829</td><td>225.798599</td><td>true</td><td>621.193604</td><td>272.634705</td><td>581.748047</td><td>577.045532</td><td>1106.530396</td><td>0.178634</td><td>591.775269</td><td>331.482727</td><td>82.728508</td><td>&hellip;</td><td>145.722321</td><td>254.215546</td><td>1.74726</td><td>false</td><td>266.028015</td><td>223.910522</td><td>663.730957</td><td>97.718086</td><td>166.665543</td><td>266.635132</td><td>354.314026</td><td>180.890579</td><td>false</td><td>448.879639</td><td>744.256714</td><td>121.691299</td><td>231.832382</td><td>-4.542631</td><td>406.548828</td><td>116.638046</td><td>401.777008</td><td>404.041901</td><td>415.236328</td><td>591.5802</td><td>67.736526</td><td>773.756409</td><td>269.317505</td><td>151.032822</td><td>-14.362358</td><td>79.84156</td><td>59.940624</td><td>324.095947</td><td>212.704147</td><td>0.712457</td><td>293.711456</td><td>112.822792</td><td>157.386978</td></tr></tbody></table></div>"
      ],
      "text/plain": [
       "shape: (500_000, 101)\n",
       "┌────────────┬──────────┬───────────┬───────────┬───┬──────────┬───────────┬───────────┬───────────┐\n",
       "│ time       ┆ ratio_5  ┆ process_1 ┆ deviation ┆ … ┆ ratio_4  ┆ process_7 ┆ process_6 ┆ process_6 │\n",
       "│ ---        ┆ ---      ┆ 7         ┆ _2        ┆   ┆ ---      ┆ 7         ┆ ---       ┆ 6         │\n",
       "│ datetime[μ ┆ f32      ┆ ---       ┆ ---       ┆   ┆ f32      ┆ ---       ┆ f32       ┆ ---       │\n",
       "│ s]         ┆          ┆ f32       ┆ f32       ┆   ┆          ┆ f32       ┆           ┆ f32       │\n",
       "╞════════════╪══════════╪═══════════╪═══════════╪═══╪══════════╪═══════════╪═══════════╪═══════════╡\n",
       "│ 2024-01-19 ┆ 0.80593  ┆ 300.45541 ┆ -7.731582 ┆ … ┆ 0.127276 ┆ 293.38790 ┆ 112.89329 ┆ 158.08248 │\n",
       "│ 18:41:00   ┆          ┆ 4         ┆           ┆   ┆          ┆ 9         ┆ 5         ┆ 9         │\n",
       "│ 2024-01-19 ┆ 0.452803 ┆ 300.40646 ┆ -7.622905 ┆ … ┆ 0.738626 ┆ 293.31805 ┆ 112.63726 ┆ 158.33018 │\n",
       "│ 18:42:00   ┆          ┆ 4         ┆           ┆   ┆          ┆ 4         ┆ 8         ┆ 5         │\n",
       "│ 2024-01-19 ┆ 0.913732 ┆ 300.27691 ┆ -59.51266 ┆ … ┆ 0.827464 ┆ 293.15100 ┆ 112.71732 ┆ 158.11424 │\n",
       "│ 18:43:00   ┆          ┆ 7         ┆ 1         ┆   ┆          ┆ 1         ┆ 3         ┆ 3         │\n",
       "│ 2024-01-19 ┆ 0.350472 ┆ 299.8349  ┆ -8.34432  ┆ … ┆ 0.876282 ┆ 293.26702 ┆ 112.80159 ┆ 158.07176 │\n",
       "│ 18:44:00   ┆          ┆           ┆           ┆   ┆          ┆ 9         ┆ 8         ┆ 2         │\n",
       "│ 2024-01-19 ┆ 0.439025 ┆ 300.53949 ┆ 30.999887 ┆ … ┆ 0.115026 ┆ 293.1521  ┆ 112.91170 ┆ 158.17123 │\n",
       "│ 18:45:00   ┆          ┆           ┆           ┆   ┆          ┆           ┆ 5         ┆ 4         │\n",
       "│ …          ┆ …        ┆ …         ┆ …         ┆ … ┆ …        ┆ …         ┆ …         ┆ …         │\n",
       "│ 2024-12-31 ┆ 0.637072 ┆ 298.86001 ┆ 33.156094 ┆ … ┆ 0.710532 ┆ 293.83627 ┆ 112.95889 ┆ 157.67796 │\n",
       "│ 23:56:00   ┆          ┆ 6         ┆           ┆   ┆          ┆ 3         ┆ 3         ┆ 3         │\n",
       "│ 2024-12-31 ┆ 0.819076 ┆ 298.77932 ┆ 41.562637 ┆ … ┆ 0.114123 ┆ 293.79577 ┆ 112.93605 ┆ 157.69056 │\n",
       "│ 23:57:00   ┆          ┆ 7         ┆           ┆   ┆          ┆ 6         ┆ 8         ┆ 7         │\n",
       "│ 2024-12-31 ┆ 0.478006 ┆ 299.21353 ┆ 28.9062   ┆ … ┆ 0.630947 ┆ 293.87774 ┆ 112.76268 ┆ 157.67494 │\n",
       "│ 23:58:00   ┆          ┆ 1         ┆           ┆   ┆          ┆ 7         ┆ 8         ┆ 2         │\n",
       "│ 2024-12-31 ┆ 0.475662 ┆ 299.58084 ┆ -12.31432 ┆ … ┆ 0.58817  ┆ 293.69485 ┆ 112.67274 ┆ 157.52545 │\n",
       "│ 23:59:00   ┆          ┆ 1         ┆ 6         ┆   ┆          ┆ 5         ┆ 5         ┆ 2         │\n",
       "│ 2025-01-01 ┆ 0.288662 ┆ 299.16369 ┆ 32.237804 ┆ … ┆ 0.712457 ┆ 293.71145 ┆ 112.82279 ┆ 157.38697 │\n",
       "│ 00:00:00   ┆          ┆ 6         ┆           ┆   ┆          ┆ 6         ┆ 2         ┆ 8         │\n",
       "└────────────┴──────────┴───────────┴───────────┴───┴──────────┴───────────┴───────────┴───────────┘"
      ]
     },
     "execution_count": 9,
     "metadata": {},
     "output_type": "execute_result"
    }
   ],
   "source": [
    "q.fetch(\"select * from test\")"
   ]
  }
 ],
 "metadata": {
  "kernelspec": {
   "display_name": "tsdb-benchmarks (3.12.10)",
   "language": "python",
   "name": "python3"
  },
  "language_info": {
   "codemirror_mode": {
    "name": "ipython",
    "version": 3
   },
   "file_extension": ".py",
   "mimetype": "text/x-python",
   "name": "python",
   "nbconvert_exporter": "python",
   "pygments_lexer": "ipython3",
   "version": "3.12.10"
  }
 },
 "nbformat": 4,
 "nbformat_minor": 5
}
