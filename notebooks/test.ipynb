{
 "cells": [
  {
   "cell_type": "code",
   "execution_count": 1,
   "id": "e3412e50",
   "metadata": {},
   "outputs": [],
   "source": [
    "# ruff: noqa: F401"
   ]
  },
  {
   "cell_type": "code",
   "execution_count": 2,
   "id": "8a3e3f1b",
   "metadata": {},
   "outputs": [],
   "source": [
    "%load_ext autoreload\n",
    "%load_ext pyinstrument\n",
    "\n",
    "%autoreload 2"
   ]
  },
  {
   "cell_type": "code",
   "execution_count": 3,
   "id": "315aee92",
   "metadata": {},
   "outputs": [],
   "source": [
    "import sys\n",
    "\n",
    "sys.path.insert(0, \"..\")"
   ]
  },
  {
   "cell_type": "code",
   "execution_count": 4,
   "id": "faec9070",
   "metadata": {},
   "outputs": [
    {
     "data": {
      "text/html": [
       "<script type=\"esms-options\">{\"shimMode\": true}</script><style>*[data-root-id],\n",
       "*[data-root-id] > * {\n",
       "  box-sizing: border-box;\n",
       "  font-family: var(--jp-ui-font-family);\n",
       "  font-size: var(--jp-ui-font-size1);\n",
       "  color: var(--vscode-editor-foreground, var(--jp-ui-font-color1));\n",
       "}\n",
       "\n",
       "/* Override VSCode background color */\n",
       ".cell-output-ipywidget-background:has(\n",
       "    > .cell-output-ipywidget-background > .lm-Widget > *[data-root-id]\n",
       "  ),\n",
       ".cell-output-ipywidget-background:has(> .lm-Widget > *[data-root-id]) {\n",
       "  background-color: transparent !important;\n",
       "}\n",
       "</style>"
      ]
     },
     "metadata": {},
     "output_type": "display_data"
    },
    {
     "data": {
      "application/javascript": "(function(root) {\n  function now() {\n    return new Date();\n  }\n\n  const force = true;\n  const py_version = '3.7.3'.replace('rc', '-rc.').replace('.dev', '-dev.');\n  const reloading = false;\n  const Bokeh = root.Bokeh;\n\n  // Set a timeout for this load but only if we are not already initializing\n  if (typeof (root._bokeh_timeout) === \"undefined\" || (force || !root._bokeh_is_initializing)) {\n    root._bokeh_timeout = Date.now() + 5000;\n    root._bokeh_failed_load = false;\n  }\n\n  function run_callbacks() {\n    try {\n      root._bokeh_onload_callbacks.forEach(function(callback) {\n        if (callback != null)\n          callback();\n      });\n    } finally {\n      delete root._bokeh_onload_callbacks;\n    }\n    console.debug(\"Bokeh: all callbacks have finished\");\n  }\n\n  function load_libs(css_urls, js_urls, js_modules, js_exports, callback) {\n    if (css_urls == null) css_urls = [];\n    if (js_urls == null) js_urls = [];\n    if (js_modules == null) js_modules = [];\n    if (js_exports == null) js_exports = {};\n\n    root._bokeh_onload_callbacks.push(callback);\n\n    if (root._bokeh_is_loading > 0) {\n      // Don't load bokeh if it is still initializing\n      console.debug(\"Bokeh: BokehJS is being loaded, scheduling callback at\", now());\n      return null;\n    } else if (js_urls.length === 0 && js_modules.length === 0 && Object.keys(js_exports).length === 0) {\n      // There is nothing to load\n      run_callbacks();\n      return null;\n    }\n\n    function on_load() {\n      root._bokeh_is_loading--;\n      if (root._bokeh_is_loading === 0) {\n        console.debug(\"Bokeh: all BokehJS libraries/stylesheets loaded\");\n        run_callbacks()\n      }\n    }\n    window._bokeh_on_load = on_load\n\n    function on_error(e) {\n      const src_el = e.srcElement\n      console.error(\"failed to load \" + (src_el.href || src_el.src));\n    }\n\n    const skip = [];\n    if (window.requirejs) {\n      window.requirejs.config({'packages': {}, 'paths': {}, 'shim': {}});\n      root._bokeh_is_loading = css_urls.length + 0;\n    } else {\n      root._bokeh_is_loading = css_urls.length + js_urls.length + js_modules.length + Object.keys(js_exports).length;\n    }\n\n    const existing_stylesheets = []\n    const links = document.getElementsByTagName('link')\n    for (let i = 0; i < links.length; i++) {\n      const link = links[i]\n      if (link.href != null) {\n        existing_stylesheets.push(link.href)\n      }\n    }\n    for (let i = 0; i < css_urls.length; i++) {\n      const url = css_urls[i];\n      const escaped = encodeURI(url)\n      if (existing_stylesheets.indexOf(escaped) !== -1) {\n        on_load()\n        continue;\n      }\n      const element = document.createElement(\"link\");\n      element.onload = on_load;\n      element.onerror = on_error;\n      element.rel = \"stylesheet\";\n      element.type = \"text/css\";\n      element.href = url;\n      console.debug(\"Bokeh: injecting link tag for BokehJS stylesheet: \", url);\n      document.body.appendChild(element);\n    }    var existing_scripts = []\n    const scripts = document.getElementsByTagName('script')\n    for (let i = 0; i < scripts.length; i++) {\n      var script = scripts[i]\n      if (script.src != null) {\n        existing_scripts.push(script.src)\n      }\n    }\n    for (let i = 0; i < js_urls.length; i++) {\n      const url = js_urls[i];\n      const escaped = encodeURI(url)\n      if (skip.indexOf(escaped) !== -1 || existing_scripts.indexOf(escaped) !== -1) {\n        if (!window.requirejs) {\n          on_load();\n        }\n        continue;\n      }\n      const element = document.createElement('script');\n      element.onload = on_load;\n      element.onerror = on_error;\n      element.async = false;\n      element.src = url;\n      console.debug(\"Bokeh: injecting script tag for BokehJS library: \", url);\n      document.head.appendChild(element);\n    }\n    for (let i = 0; i < js_modules.length; i++) {\n      const url = js_modules[i];\n      const escaped = encodeURI(url)\n      if (skip.indexOf(escaped) !== -1 || existing_scripts.indexOf(escaped) !== -1) {\n        if (!window.requirejs) {\n          on_load();\n        }\n        continue;\n      }\n      var element = document.createElement('script');\n      element.onload = on_load;\n      element.onerror = on_error;\n      element.async = false;\n      element.src = url;\n      element.type = \"module\";\n      console.debug(\"Bokeh: injecting script tag for BokehJS library: \", url);\n      document.head.appendChild(element);\n    }\n    for (const name in js_exports) {\n      const url = js_exports[name];\n      const escaped = encodeURI(url)\n      if (skip.indexOf(escaped) >= 0 || root[name] != null) {\n        if (!window.requirejs) {\n          on_load();\n        }\n        continue;\n      }\n      var element = document.createElement('script');\n      element.onerror = on_error;\n      element.async = false;\n      element.type = \"module\";\n      console.debug(\"Bokeh: injecting script tag for BokehJS library: \", url);\n      element.textContent = `\n      import ${name} from \"${url}\"\n      window.${name} = ${name}\n      window._bokeh_on_load()\n      `\n      document.head.appendChild(element);\n    }\n    if (!js_urls.length && !js_modules.length) {\n      on_load()\n    }\n  };\n\n  function inject_raw_css(css) {\n    const element = document.createElement(\"style\");\n    element.appendChild(document.createTextNode(css));\n    document.body.appendChild(element);\n  }\n\n  const js_urls = [\"https://cdn.holoviz.org/panel/1.7.2/dist/bundled/reactiveesm/es-module-shims@^1.10.0/dist/es-module-shims.min.js\", \"https://cdn.bokeh.org/bokeh/release/bokeh-3.7.3.min.js\", \"https://cdn.bokeh.org/bokeh/release/bokeh-gl-3.7.3.min.js\", \"https://cdn.bokeh.org/bokeh/release/bokeh-widgets-3.7.3.min.js\", \"https://cdn.bokeh.org/bokeh/release/bokeh-tables-3.7.3.min.js\", \"https://cdn.holoviz.org/panel/1.7.2/dist/panel.min.js\"];\n  const js_modules = [];\n  const js_exports = {};\n  const css_urls = [];\n  const inline_js = [    function(Bokeh) {\n      Bokeh.set_log_level(\"info\");\n    },\nfunction(Bokeh) {} // ensure no trailing comma for IE\n  ];\n\n  function run_inline_js() {\n    if ((root.Bokeh !== undefined) || (force === true)) {\n      for (let i = 0; i < inline_js.length; i++) {\n        try {\n          inline_js[i].call(root, root.Bokeh);\n        } catch(e) {\n          if (!reloading) {\n            throw e;\n          }\n        }\n      }\n      // Cache old bokeh versions\n      if (Bokeh != undefined && !reloading) {\n        var NewBokeh = root.Bokeh;\n        if (Bokeh.versions === undefined) {\n          Bokeh.versions = new Map();\n        }\n        if (NewBokeh.version !== Bokeh.version) {\n          Bokeh.versions.set(NewBokeh.version, NewBokeh)\n        }\n        root.Bokeh = Bokeh;\n      }\n    } else if (Date.now() < root._bokeh_timeout) {\n      setTimeout(run_inline_js, 100);\n    } else if (!root._bokeh_failed_load) {\n      console.log(\"Bokeh: BokehJS failed to load within specified timeout.\");\n      root._bokeh_failed_load = true;\n    }\n    root._bokeh_is_initializing = false\n  }\n\n  function load_or_wait() {\n    // Implement a backoff loop that tries to ensure we do not load multiple\n    // versions of Bokeh and its dependencies at the same time.\n    // In recent versions we use the root._bokeh_is_initializing flag\n    // to determine whether there is an ongoing attempt to initialize\n    // bokeh, however for backward compatibility we also try to ensure\n    // that we do not start loading a newer (Panel>=1.0 and Bokeh>3) version\n    // before older versions are fully initialized.\n    if (root._bokeh_is_initializing && Date.now() > root._bokeh_timeout) {\n      // If the timeout and bokeh was not successfully loaded we reset\n      // everything and try loading again\n      root._bokeh_timeout = Date.now() + 5000;\n      root._bokeh_is_initializing = false;\n      root._bokeh_onload_callbacks = undefined;\n      root._bokeh_is_loading = 0\n      console.log(\"Bokeh: BokehJS was loaded multiple times but one version failed to initialize.\");\n      load_or_wait();\n    } else if (root._bokeh_is_initializing || (typeof root._bokeh_is_initializing === \"undefined\" && root._bokeh_onload_callbacks !== undefined)) {\n      setTimeout(load_or_wait, 100);\n    } else {\n      root._bokeh_is_initializing = true\n      root._bokeh_onload_callbacks = []\n      const bokeh_loaded = root.Bokeh != null && (root.Bokeh.version === py_version || (root.Bokeh.versions !== undefined && root.Bokeh.versions.has(py_version)));\n      if (!reloading && !bokeh_loaded) {\n        if (root.Bokeh) {\n          root.Bokeh = undefined;\n        }\n        console.debug(\"Bokeh: BokehJS not loaded, scheduling load and callback at\", now());\n      }\n      load_libs(css_urls, js_urls, js_modules, js_exports, function() {\n        console.debug(\"Bokeh: BokehJS plotting callback run at\", now());\n        run_inline_js();\n      });\n    }\n  }\n  // Give older versions of the autoload script a head-start to ensure\n  // they initialize before we start loading newer version.\n  setTimeout(load_or_wait, 100)\n}(window));",
      "application/vnd.holoviews_load.v0+json": ""
     },
     "metadata": {},
     "output_type": "display_data"
    },
    {
     "data": {
      "application/javascript": "\nif ((window.PyViz === undefined) || (window.PyViz instanceof HTMLElement)) {\n  window.PyViz = {comms: {}, comm_status:{}, kernels:{}, receivers: {}, plot_index: []}\n}\n\n\n    function JupyterCommManager() {\n    }\n\n    JupyterCommManager.prototype.register_target = function(plot_id, comm_id, msg_handler) {\n      if (window.comm_manager || ((window.Jupyter !== undefined) && (Jupyter.notebook.kernel != null))) {\n        var comm_manager = window.comm_manager || Jupyter.notebook.kernel.comm_manager;\n        comm_manager.register_target(comm_id, function(comm) {\n          comm.on_msg(msg_handler);\n        });\n      } else if ((plot_id in window.PyViz.kernels) && (window.PyViz.kernels[plot_id])) {\n        window.PyViz.kernels[plot_id].registerCommTarget(comm_id, function(comm) {\n          comm.onMsg = msg_handler;\n        });\n      } else if (typeof google != 'undefined' && google.colab.kernel != null) {\n        google.colab.kernel.comms.registerTarget(comm_id, (comm) => {\n          var messages = comm.messages[Symbol.asyncIterator]();\n          function processIteratorResult(result) {\n            var message = result.value;\n            var content = {data: message.data, comm_id};\n            var buffers = []\n            for (var buffer of message.buffers || []) {\n              buffers.push(new DataView(buffer))\n            }\n            var metadata = message.metadata || {};\n            var msg = {content, buffers, metadata}\n            msg_handler(msg);\n            return messages.next().then(processIteratorResult);\n          }\n          return messages.next().then(processIteratorResult);\n        })\n      }\n    }\n\n    JupyterCommManager.prototype.get_client_comm = function(plot_id, comm_id, msg_handler) {\n      if (comm_id in window.PyViz.comms) {\n        return window.PyViz.comms[comm_id];\n      } else if (window.comm_manager || ((window.Jupyter !== undefined) && (Jupyter.notebook.kernel != null))) {\n        var comm_manager = window.comm_manager || Jupyter.notebook.kernel.comm_manager;\n        var comm = comm_manager.new_comm(comm_id, {}, {}, {}, comm_id);\n        if (msg_handler) {\n          comm.on_msg(msg_handler);\n        }\n      } else if ((plot_id in window.PyViz.kernels) && (window.PyViz.kernels[plot_id])) {\n        var comm = window.PyViz.kernels[plot_id].connectToComm(comm_id);\n        let retries = 0;\n        const open = () => {\n          if (comm.active) {\n            comm.open();\n          } else if (retries > 3) {\n            console.warn('Comm target never activated')\n          } else {\n            retries += 1\n            setTimeout(open, 500)\n          }\n        }\n        if (comm.active) {\n          comm.open();\n        } else {\n          setTimeout(open, 500)\n        }\n        if (msg_handler) {\n          comm.onMsg = msg_handler;\n        }\n      } else if (typeof google != 'undefined' && google.colab.kernel != null) {\n        var comm_promise = google.colab.kernel.comms.open(comm_id)\n        comm_promise.then((comm) => {\n          window.PyViz.comms[comm_id] = comm;\n          if (msg_handler) {\n            var messages = comm.messages[Symbol.asyncIterator]();\n            function processIteratorResult(result) {\n              var message = result.value;\n              var content = {data: message.data};\n              var metadata = message.metadata || {comm_id};\n              var msg = {content, metadata}\n              msg_handler(msg);\n              return messages.next().then(processIteratorResult);\n            }\n            return messages.next().then(processIteratorResult);\n          }\n        })\n        var sendClosure = (data, metadata, buffers, disposeOnDone) => {\n          return comm_promise.then((comm) => {\n            comm.send(data, metadata, buffers, disposeOnDone);\n          });\n        };\n        var comm = {\n          send: sendClosure\n        };\n      }\n      window.PyViz.comms[comm_id] = comm;\n      return comm;\n    }\n    window.PyViz.comm_manager = new JupyterCommManager();\n    \n\n\nvar JS_MIME_TYPE = 'application/javascript';\nvar HTML_MIME_TYPE = 'text/html';\nvar EXEC_MIME_TYPE = 'application/vnd.holoviews_exec.v0+json';\nvar CLASS_NAME = 'output';\n\n/**\n * Render data to the DOM node\n */\nfunction render(props, node) {\n  var div = document.createElement(\"div\");\n  var script = document.createElement(\"script\");\n  node.appendChild(div);\n  node.appendChild(script);\n}\n\n/**\n * Handle when a new output is added\n */\nfunction handle_add_output(event, handle) {\n  var output_area = handle.output_area;\n  var output = handle.output;\n  if ((output.data == undefined) || (!output.data.hasOwnProperty(EXEC_MIME_TYPE))) {\n    return\n  }\n  var id = output.metadata[EXEC_MIME_TYPE][\"id\"];\n  var toinsert = output_area.element.find(\".\" + CLASS_NAME.split(' ')[0]);\n  if (id !== undefined) {\n    var nchildren = toinsert.length;\n    var html_node = toinsert[nchildren-1].children[0];\n    html_node.innerHTML = output.data[HTML_MIME_TYPE];\n    var scripts = [];\n    var nodelist = html_node.querySelectorAll(\"script\");\n    for (var i in nodelist) {\n      if (nodelist.hasOwnProperty(i)) {\n        scripts.push(nodelist[i])\n      }\n    }\n\n    scripts.forEach( function (oldScript) {\n      var newScript = document.createElement(\"script\");\n      var attrs = [];\n      var nodemap = oldScript.attributes;\n      for (var j in nodemap) {\n        if (nodemap.hasOwnProperty(j)) {\n          attrs.push(nodemap[j])\n        }\n      }\n      attrs.forEach(function(attr) { newScript.setAttribute(attr.name, attr.value) });\n      newScript.appendChild(document.createTextNode(oldScript.innerHTML));\n      oldScript.parentNode.replaceChild(newScript, oldScript);\n    });\n    if (JS_MIME_TYPE in output.data) {\n      toinsert[nchildren-1].children[1].textContent = output.data[JS_MIME_TYPE];\n    }\n    output_area._hv_plot_id = id;\n    if ((window.Bokeh !== undefined) && (id in Bokeh.index)) {\n      window.PyViz.plot_index[id] = Bokeh.index[id];\n    } else {\n      window.PyViz.plot_index[id] = null;\n    }\n  } else if (output.metadata[EXEC_MIME_TYPE][\"server_id\"] !== undefined) {\n    var bk_div = document.createElement(\"div\");\n    bk_div.innerHTML = output.data[HTML_MIME_TYPE];\n    var script_attrs = bk_div.children[0].attributes;\n    for (var i = 0; i < script_attrs.length; i++) {\n      toinsert[toinsert.length - 1].childNodes[1].setAttribute(script_attrs[i].name, script_attrs[i].value);\n    }\n    // store reference to server id on output_area\n    output_area._bokeh_server_id = output.metadata[EXEC_MIME_TYPE][\"server_id\"];\n  }\n}\n\n/**\n * Handle when an output is cleared or removed\n */\nfunction handle_clear_output(event, handle) {\n  var id = handle.cell.output_area._hv_plot_id;\n  var server_id = handle.cell.output_area._bokeh_server_id;\n  if (((id === undefined) || !(id in PyViz.plot_index)) && (server_id !== undefined)) { return; }\n  var comm = window.PyViz.comm_manager.get_client_comm(\"hv-extension-comm\", \"hv-extension-comm\", function () {});\n  if (server_id !== null) {\n    comm.send({event_type: 'server_delete', 'id': server_id});\n    return;\n  } else if (comm !== null) {\n    comm.send({event_type: 'delete', 'id': id});\n  }\n  delete PyViz.plot_index[id];\n  if ((window.Bokeh !== undefined) & (id in window.Bokeh.index)) {\n    var doc = window.Bokeh.index[id].model.document\n    doc.clear();\n    const i = window.Bokeh.documents.indexOf(doc);\n    if (i > -1) {\n      window.Bokeh.documents.splice(i, 1);\n    }\n  }\n}\n\n/**\n * Handle kernel restart event\n */\nfunction handle_kernel_cleanup(event, handle) {\n  delete PyViz.comms[\"hv-extension-comm\"];\n  window.PyViz.plot_index = {}\n}\n\n/**\n * Handle update_display_data messages\n */\nfunction handle_update_output(event, handle) {\n  handle_clear_output(event, {cell: {output_area: handle.output_area}})\n  handle_add_output(event, handle)\n}\n\nfunction register_renderer(events, OutputArea) {\n  function append_mime(data, metadata, element) {\n    // create a DOM node to render to\n    var toinsert = this.create_output_subarea(\n    metadata,\n    CLASS_NAME,\n    EXEC_MIME_TYPE\n    );\n    this.keyboard_manager.register_events(toinsert);\n    // Render to node\n    var props = {data: data, metadata: metadata[EXEC_MIME_TYPE]};\n    render(props, toinsert[0]);\n    element.append(toinsert);\n    return toinsert\n  }\n\n  events.on('output_added.OutputArea', handle_add_output);\n  events.on('output_updated.OutputArea', handle_update_output);\n  events.on('clear_output.CodeCell', handle_clear_output);\n  events.on('delete.Cell', handle_clear_output);\n  events.on('kernel_ready.Kernel', handle_kernel_cleanup);\n\n  OutputArea.prototype.register_mime_type(EXEC_MIME_TYPE, append_mime, {\n    safe: true,\n    index: 0\n  });\n}\n\nif (window.Jupyter !== undefined) {\n  try {\n    var events = require('base/js/events');\n    var OutputArea = require('notebook/js/outputarea').OutputArea;\n    if (OutputArea.prototype.mime_types().indexOf(EXEC_MIME_TYPE) == -1) {\n      register_renderer(events, OutputArea);\n    }\n  } catch(err) {\n  }\n}\n",
      "application/vnd.holoviews_load.v0+json": ""
     },
     "metadata": {},
     "output_type": "display_data"
    },
    {
     "data": {
      "application/vnd.holoviews_exec.v0+json": "",
      "text/html": [
       "<div id='c3b127c1-81c7-44d0-8b30-3c59248d06fb'>\n",
       "  <div id=\"c68ed20d-e2ad-4a34-b50d-3e5d64ef81fe\" data-root-id=\"c3b127c1-81c7-44d0-8b30-3c59248d06fb\" style=\"display: contents;\"></div>\n",
       "</div>\n",
       "<script type=\"application/javascript\">(function(root) {\n",
       "  var docs_json = {\"46fdc963-b0d1-447c-8017-9ae83ce87474\":{\"version\":\"3.7.3\",\"title\":\"Bokeh Application\",\"roots\":[{\"type\":\"object\",\"name\":\"panel.models.browser.BrowserInfo\",\"id\":\"c3b127c1-81c7-44d0-8b30-3c59248d06fb\"},{\"type\":\"object\",\"name\":\"panel.models.comm_manager.CommManager\",\"id\":\"04245a61-1ff7-44ca-840c-9783c742b465\",\"attributes\":{\"plot_id\":\"c3b127c1-81c7-44d0-8b30-3c59248d06fb\",\"comm_id\":\"7b71239f6065433f89d0bddecddade8f\",\"client_comm_id\":\"1b4840d23d9f42a48fe850ceeff4e368\"}}],\"defs\":[{\"type\":\"model\",\"name\":\"ReactiveHTML1\"},{\"type\":\"model\",\"name\":\"FlexBox1\",\"properties\":[{\"name\":\"align_content\",\"kind\":\"Any\",\"default\":\"flex-start\"},{\"name\":\"align_items\",\"kind\":\"Any\",\"default\":\"flex-start\"},{\"name\":\"flex_direction\",\"kind\":\"Any\",\"default\":\"row\"},{\"name\":\"flex_wrap\",\"kind\":\"Any\",\"default\":\"wrap\"},{\"name\":\"gap\",\"kind\":\"Any\",\"default\":\"\"},{\"name\":\"justify_content\",\"kind\":\"Any\",\"default\":\"flex-start\"}]},{\"type\":\"model\",\"name\":\"FloatPanel1\",\"properties\":[{\"name\":\"config\",\"kind\":\"Any\",\"default\":{\"type\":\"map\"}},{\"name\":\"contained\",\"kind\":\"Any\",\"default\":true},{\"name\":\"position\",\"kind\":\"Any\",\"default\":\"right-top\"},{\"name\":\"offsetx\",\"kind\":\"Any\",\"default\":null},{\"name\":\"offsety\",\"kind\":\"Any\",\"default\":null},{\"name\":\"theme\",\"kind\":\"Any\",\"default\":\"primary\"},{\"name\":\"status\",\"kind\":\"Any\",\"default\":\"normalized\"}]},{\"type\":\"model\",\"name\":\"GridStack1\",\"properties\":[{\"name\":\"ncols\",\"kind\":\"Any\",\"default\":null},{\"name\":\"nrows\",\"kind\":\"Any\",\"default\":null},{\"name\":\"allow_resize\",\"kind\":\"Any\",\"default\":true},{\"name\":\"allow_drag\",\"kind\":\"Any\",\"default\":true},{\"name\":\"state\",\"kind\":\"Any\",\"default\":[]}]},{\"type\":\"model\",\"name\":\"drag1\",\"properties\":[{\"name\":\"slider_width\",\"kind\":\"Any\",\"default\":5},{\"name\":\"slider_color\",\"kind\":\"Any\",\"default\":\"black\"},{\"name\":\"value\",\"kind\":\"Any\",\"default\":50}]},{\"type\":\"model\",\"name\":\"click1\",\"properties\":[{\"name\":\"terminal_output\",\"kind\":\"Any\",\"default\":\"\"},{\"name\":\"debug_name\",\"kind\":\"Any\",\"default\":\"\"},{\"name\":\"clears\",\"kind\":\"Any\",\"default\":0}]},{\"type\":\"model\",\"name\":\"ReactiveESM1\",\"properties\":[{\"name\":\"esm_constants\",\"kind\":\"Any\",\"default\":{\"type\":\"map\"}}]},{\"type\":\"model\",\"name\":\"JSComponent1\",\"properties\":[{\"name\":\"esm_constants\",\"kind\":\"Any\",\"default\":{\"type\":\"map\"}}]},{\"type\":\"model\",\"name\":\"ReactComponent1\",\"properties\":[{\"name\":\"use_shadow_dom\",\"kind\":\"Any\",\"default\":true},{\"name\":\"esm_constants\",\"kind\":\"Any\",\"default\":{\"type\":\"map\"}}]},{\"type\":\"model\",\"name\":\"AnyWidgetComponent1\",\"properties\":[{\"name\":\"use_shadow_dom\",\"kind\":\"Any\",\"default\":true},{\"name\":\"esm_constants\",\"kind\":\"Any\",\"default\":{\"type\":\"map\"}}]},{\"type\":\"model\",\"name\":\"FastWrapper1\",\"properties\":[{\"name\":\"object\",\"kind\":\"Any\",\"default\":null},{\"name\":\"style\",\"kind\":\"Any\",\"default\":null}]},{\"type\":\"model\",\"name\":\"NotificationArea1\",\"properties\":[{\"name\":\"js_events\",\"kind\":\"Any\",\"default\":{\"type\":\"map\"}},{\"name\":\"max_notifications\",\"kind\":\"Any\",\"default\":5},{\"name\":\"notifications\",\"kind\":\"Any\",\"default\":[]},{\"name\":\"position\",\"kind\":\"Any\",\"default\":\"bottom-right\"},{\"name\":\"_clear\",\"kind\":\"Any\",\"default\":0},{\"name\":\"types\",\"kind\":\"Any\",\"default\":[{\"type\":\"map\",\"entries\":[[\"type\",\"warning\"],[\"background\",\"#ffc107\"],[\"icon\",{\"type\":\"map\",\"entries\":[[\"className\",\"fas fa-exclamation-triangle\"],[\"tagName\",\"i\"],[\"color\",\"white\"]]}]]},{\"type\":\"map\",\"entries\":[[\"type\",\"info\"],[\"background\",\"#007bff\"],[\"icon\",{\"type\":\"map\",\"entries\":[[\"className\",\"fas fa-info-circle\"],[\"tagName\",\"i\"],[\"color\",\"white\"]]}]]}]}]},{\"type\":\"model\",\"name\":\"Notification\",\"properties\":[{\"name\":\"background\",\"kind\":\"Any\",\"default\":null},{\"name\":\"duration\",\"kind\":\"Any\",\"default\":3000},{\"name\":\"icon\",\"kind\":\"Any\",\"default\":null},{\"name\":\"message\",\"kind\":\"Any\",\"default\":\"\"},{\"name\":\"notification_type\",\"kind\":\"Any\",\"default\":null},{\"name\":\"_rendered\",\"kind\":\"Any\",\"default\":false},{\"name\":\"_destroyed\",\"kind\":\"Any\",\"default\":false}]},{\"type\":\"model\",\"name\":\"TemplateActions1\",\"properties\":[{\"name\":\"open_modal\",\"kind\":\"Any\",\"default\":0},{\"name\":\"close_modal\",\"kind\":\"Any\",\"default\":0}]},{\"type\":\"model\",\"name\":\"BootstrapTemplateActions1\",\"properties\":[{\"name\":\"open_modal\",\"kind\":\"Any\",\"default\":0},{\"name\":\"close_modal\",\"kind\":\"Any\",\"default\":0}]},{\"type\":\"model\",\"name\":\"TemplateEditor1\",\"properties\":[{\"name\":\"layout\",\"kind\":\"Any\",\"default\":[]}]},{\"type\":\"model\",\"name\":\"MaterialTemplateActions1\",\"properties\":[{\"name\":\"open_modal\",\"kind\":\"Any\",\"default\":0},{\"name\":\"close_modal\",\"kind\":\"Any\",\"default\":0}]},{\"type\":\"model\",\"name\":\"request_value1\",\"properties\":[{\"name\":\"fill\",\"kind\":\"Any\",\"default\":\"none\"},{\"name\":\"_synced\",\"kind\":\"Any\",\"default\":null},{\"name\":\"_request_sync\",\"kind\":\"Any\",\"default\":0}]},{\"type\":\"model\",\"name\":\"holoviews.plotting.bokeh.raster.HoverModel\",\"properties\":[{\"name\":\"xy\",\"kind\":\"Any\",\"default\":null},{\"name\":\"data\",\"kind\":\"Any\",\"default\":null}]}]}};\n",
       "  var render_items = [{\"docid\":\"46fdc963-b0d1-447c-8017-9ae83ce87474\",\"roots\":{\"c3b127c1-81c7-44d0-8b30-3c59248d06fb\":\"c68ed20d-e2ad-4a34-b50d-3e5d64ef81fe\"},\"root_ids\":[\"c3b127c1-81c7-44d0-8b30-3c59248d06fb\"]}];\n",
       "  var docs = Object.values(docs_json)\n",
       "  if (!docs) {\n",
       "    return\n",
       "  }\n",
       "  const py_version = docs[0].version.replace('rc', '-rc.').replace('.dev', '-dev.')\n",
       "  async function embed_document(root) {\n",
       "    var Bokeh = get_bokeh(root)\n",
       "    await Bokeh.embed.embed_items_notebook(docs_json, render_items);\n",
       "    for (const render_item of render_items) {\n",
       "      for (const root_id of render_item.root_ids) {\n",
       "\tconst id_el = document.getElementById(root_id)\n",
       "\tif (id_el.children.length && id_el.children[0].hasAttribute('data-root-id')) {\n",
       "\t  const root_el = id_el.children[0]\n",
       "\t  root_el.id = root_el.id + '-rendered'\n",
       "\t  for (const child of root_el.children) {\n",
       "            // Ensure JupyterLab does not capture keyboard shortcuts\n",
       "            // see: https://jupyterlab.readthedocs.io/en/4.1.x/extension/notebook.html#keyboard-interaction-model\n",
       "\t    child.setAttribute('data-lm-suppress-shortcuts', 'true')\n",
       "\t  }\n",
       "\t}\n",
       "      }\n",
       "    }\n",
       "  }\n",
       "  function get_bokeh(root) {\n",
       "    if (root.Bokeh === undefined) {\n",
       "      return null\n",
       "    } else if (root.Bokeh.version !== py_version) {\n",
       "      if (root.Bokeh.versions === undefined || !root.Bokeh.versions.has(py_version)) {\n",
       "\treturn null\n",
       "      }\n",
       "      return root.Bokeh.versions.get(py_version);\n",
       "    } else if (root.Bokeh.version === py_version) {\n",
       "      return root.Bokeh\n",
       "    }\n",
       "    return null\n",
       "  }\n",
       "  function is_loaded(root) {\n",
       "    var Bokeh = get_bokeh(root)\n",
       "    return (Bokeh != null && Bokeh.Panel !== undefined)\n",
       "  }\n",
       "  if (is_loaded(root)) {\n",
       "    embed_document(root);\n",
       "  } else {\n",
       "    var attempts = 0;\n",
       "    var timer = setInterval(function(root) {\n",
       "      if (is_loaded(root)) {\n",
       "        clearInterval(timer);\n",
       "        embed_document(root);\n",
       "      } else if (document.readyState == \"complete\") {\n",
       "        attempts++;\n",
       "        if (attempts > 200) {\n",
       "          clearInterval(timer);\n",
       "\t  var Bokeh = get_bokeh(root)\n",
       "\t  if (Bokeh == null || Bokeh.Panel == null) {\n",
       "            console.warn(\"Panel: ERROR: Unable to run Panel code because Bokeh or Panel library is missing\");\n",
       "\t  } else {\n",
       "\t    console.warn(\"Panel: WARNING: Attempting to render but not all required libraries could be resolved.\")\n",
       "\t    embed_document(root)\n",
       "\t  }\n",
       "        }\n",
       "      }\n",
       "    }, 25, root)\n",
       "  }\n",
       "})(window);</script>"
      ]
     },
     "metadata": {
      "application/vnd.holoviews_exec.v0+json": {
       "id": "c3b127c1-81c7-44d0-8b30-3c59248d06fb"
      }
     },
     "output_type": "display_data"
    }
   ],
   "source": [
    "from datetime import datetime, timedelta\n",
    "from pathlib import Path\n",
    "\n",
    "import hvplot.polars\n",
    "import numpy as np\n",
    "import polars as pl"
   ]
  },
  {
   "cell_type": "code",
   "execution_count": 5,
   "id": "b4344362",
   "metadata": {},
   "outputs": [],
   "source": [
    "from tsdb_benchmarks.monetdb import MonetDB\n",
    "from tsdb_benchmarks.monetdb.fetch import fetch_binary, fetch_pymonetdb\n",
    "\n",
    "db = MonetDB()"
   ]
  },
  {
   "cell_type": "code",
   "execution_count": 6,
   "id": "0c73bf41",
   "metadata": {},
   "outputs": [
    {
     "data": {
      "text/html": [
       "<div><style>\n",
       ".dataframe > thead > tr,\n",
       ".dataframe > tbody > tr {\n",
       "  text-align: right;\n",
       "  white-space: pre-wrap;\n",
       "}\n",
       "</style>\n",
       "<small>shape: (200_000, 501)</small><table border=\"1\" class=\"dataframe\"><thead><tr><th>time</th><th>col_1</th><th>col_2</th><th>col_3</th><th>col_4</th><th>col_5</th><th>col_6</th><th>col_7</th><th>col_8</th><th>col_9</th><th>col_10</th><th>col_11</th><th>col_12</th><th>col_13</th><th>col_14</th><th>col_15</th><th>col_16</th><th>col_17</th><th>col_18</th><th>col_19</th><th>col_20</th><th>col_21</th><th>col_22</th><th>col_23</th><th>col_24</th><th>col_25</th><th>col_26</th><th>col_27</th><th>col_28</th><th>col_29</th><th>col_30</th><th>col_31</th><th>col_32</th><th>col_33</th><th>col_34</th><th>col_35</th><th>col_36</th><th>&hellip;</th><th>col_464</th><th>col_465</th><th>col_466</th><th>col_467</th><th>col_468</th><th>col_469</th><th>col_470</th><th>col_471</th><th>col_472</th><th>col_473</th><th>col_474</th><th>col_475</th><th>col_476</th><th>col_477</th><th>col_478</th><th>col_479</th><th>col_480</th><th>col_481</th><th>col_482</th><th>col_483</th><th>col_484</th><th>col_485</th><th>col_486</th><th>col_487</th><th>col_488</th><th>col_489</th><th>col_490</th><th>col_491</th><th>col_492</th><th>col_493</th><th>col_494</th><th>col_495</th><th>col_496</th><th>col_497</th><th>col_498</th><th>col_499</th><th>col_500</th></tr><tr><td>datetime[ms]</td><td>f32</td><td>f32</td><td>f32</td><td>f32</td><td>f32</td><td>f32</td><td>f32</td><td>f32</td><td>f32</td><td>f32</td><td>f32</td><td>f32</td><td>f32</td><td>f32</td><td>f32</td><td>f32</td><td>f32</td><td>f32</td><td>f32</td><td>f32</td><td>f32</td><td>f32</td><td>f32</td><td>f32</td><td>f32</td><td>f32</td><td>f32</td><td>f32</td><td>f32</td><td>f32</td><td>f32</td><td>f32</td><td>f32</td><td>f32</td><td>f32</td><td>f32</td><td>&hellip;</td><td>f32</td><td>f32</td><td>f32</td><td>f32</td><td>f32</td><td>f32</td><td>f32</td><td>f32</td><td>f32</td><td>f32</td><td>f32</td><td>f32</td><td>f32</td><td>f32</td><td>f32</td><td>f32</td><td>f32</td><td>f32</td><td>f32</td><td>f32</td><td>f32</td><td>f32</td><td>f32</td><td>f32</td><td>f32</td><td>f32</td><td>f32</td><td>f32</td><td>f32</td><td>f32</td><td>f32</td><td>f32</td><td>f32</td><td>f32</td><td>f32</td><td>f32</td><td>f32</td></tr></thead><tbody><tr><td>2024-08-15 02:41:00</td><td>0.524554</td><td>0.477075</td><td>0.301365</td><td>0.086035</td><td>0.597285</td><td>0.043119</td><td>0.133568</td><td>0.461486</td><td>0.698985</td><td>0.373141</td><td>0.441279</td><td>0.948216</td><td>0.824963</td><td>0.751381</td><td>0.239386</td><td>0.646477</td><td>0.642296</td><td>0.742751</td><td>0.889037</td><td>0.010748</td><td>0.652077</td><td>0.617199</td><td>0.874318</td><td>0.379782</td><td>0.882789</td><td>0.131134</td><td>0.584154</td><td>0.460211</td><td>0.453917</td><td>0.183285</td><td>0.792429</td><td>0.057061</td><td>0.568505</td><td>0.415087</td><td>0.68145</td><td>0.299985</td><td>&hellip;</td><td>0.658785</td><td>0.673901</td><td>0.911354</td><td>0.392003</td><td>0.09785</td><td>0.930121</td><td>0.266884</td><td>0.834094</td><td>0.338784</td><td>0.881258</td><td>0.304751</td><td>0.555059</td><td>0.557787</td><td>0.216671</td><td>0.915053</td><td>0.721279</td><td>0.844078</td><td>0.208799</td><td>0.475463</td><td>0.299425</td><td>0.27852</td><td>0.306467</td><td>0.955012</td><td>0.889113</td><td>0.301954</td><td>0.543857</td><td>0.257937</td><td>0.726755</td><td>0.120436</td><td>0.639036</td><td>0.332407</td><td>0.065476</td><td>0.736886</td><td>0.242331</td><td>0.73887</td><td>0.265512</td><td>0.579258</td></tr><tr><td>2024-08-15 02:42:00</td><td>0.821767</td><td>0.094674</td><td>0.734972</td><td>0.139922</td><td>0.243383</td><td>0.933786</td><td>0.982846</td><td>0.169718</td><td>0.175614</td><td>0.077493</td><td>0.386409</td><td>0.89506</td><td>0.623241</td><td>0.169013</td><td>0.298351</td><td>0.935542</td><td>0.377471</td><td>0.837869</td><td>0.035134</td><td>0.576103</td><td>0.266573</td><td>0.890418</td><td>0.739812</td><td>0.682906</td><td>0.455877</td><td>0.235325</td><td>0.022218</td><td>0.457534</td><td>0.959367</td><td>0.854082</td><td>0.984065</td><td>0.014234</td><td>0.619545</td><td>0.121988</td><td>0.791543</td><td>0.035017</td><td>&hellip;</td><td>0.401361</td><td>0.602122</td><td>0.615821</td><td>0.642681</td><td>0.643345</td><td>0.342692</td><td>0.847906</td><td>0.711583</td><td>0.700303</td><td>0.211273</td><td>0.13723</td><td>0.5056</td><td>0.99652</td><td>0.997432</td><td>0.825113</td><td>0.059829</td><td>0.244591</td><td>0.660734</td><td>0.151219</td><td>0.108214</td><td>0.189322</td><td>0.062207</td><td>0.233855</td><td>0.636825</td><td>0.103887</td><td>0.54953</td><td>0.190117</td><td>0.550293</td><td>0.738653</td><td>0.530214</td><td>0.840682</td><td>0.481012</td><td>0.632614</td><td>0.747848</td><td>0.946399</td><td>0.900591</td><td>0.338668</td></tr><tr><td>2024-08-15 02:43:00</td><td>0.951276</td><td>0.73122</td><td>0.850451</td><td>0.092366</td><td>0.531921</td><td>0.189276</td><td>0.193364</td><td>0.592709</td><td>0.180091</td><td>0.365319</td><td>0.17455</td><td>0.246438</td><td>0.538032</td><td>0.701703</td><td>0.740081</td><td>0.972118</td><td>0.904549</td><td>0.063419</td><td>0.106535</td><td>0.989887</td><td>0.362526</td><td>0.089641</td><td>0.379953</td><td>0.029863</td><td>0.459022</td><td>0.37723</td><td>0.073348</td><td>0.107763</td><td>0.977561</td><td>0.795237</td><td>0.841256</td><td>0.751879</td><td>0.145434</td><td>0.838341</td><td>0.958389</td><td>0.794217</td><td>&hellip;</td><td>0.598174</td><td>0.313713</td><td>0.555852</td><td>0.160766</td><td>0.387838</td><td>0.623015</td><td>0.782178</td><td>0.485091</td><td>0.237087</td><td>0.807508</td><td>0.311178</td><td>0.043058</td><td>0.598655</td><td>0.86598</td><td>0.834221</td><td>0.354705</td><td>0.666874</td><td>0.696533</td><td>0.627946</td><td>0.151129</td><td>0.698691</td><td>0.177376</td><td>0.665253</td><td>0.556835</td><td>0.96466</td><td>0.004346</td><td>0.187415</td><td>0.63757</td><td>0.252799</td><td>0.234687</td><td>0.217925</td><td>0.570648</td><td>0.034986</td><td>0.586152</td><td>0.914273</td><td>0.346273</td><td>0.621301</td></tr><tr><td>2024-08-15 02:44:00</td><td>0.709948</td><td>0.733406</td><td>0.669951</td><td>0.011403</td><td>0.913939</td><td>0.560171</td><td>0.639244</td><td>0.02121</td><td>0.59154</td><td>0.981022</td><td>0.324198</td><td>0.140568</td><td>0.478056</td><td>0.430004</td><td>0.630211</td><td>0.181801</td><td>0.956042</td><td>0.633534</td><td>0.85354</td><td>0.554621</td><td>0.667286</td><td>0.397782</td><td>0.154186</td><td>0.318276</td><td>0.747251</td><td>0.562591</td><td>0.022063</td><td>0.027042</td><td>0.804215</td><td>0.796928</td><td>0.551176</td><td>0.309716</td><td>0.242808</td><td>0.719653</td><td>0.934386</td><td>0.715833</td><td>&hellip;</td><td>0.207523</td><td>0.264835</td><td>0.460942</td><td>0.753063</td><td>0.712024</td><td>0.718616</td><td>0.000127</td><td>0.924721</td><td>0.655736</td><td>0.959097</td><td>0.348856</td><td>0.638585</td><td>0.124401</td><td>0.190957</td><td>0.94741</td><td>0.425781</td><td>0.26549</td><td>0.919619</td><td>0.661019</td><td>0.023029</td><td>0.141693</td><td>0.574829</td><td>0.739743</td><td>0.033745</td><td>0.354654</td><td>0.737228</td><td>0.492518</td><td>0.027382</td><td>0.62796</td><td>0.693517</td><td>0.39653</td><td>0.195085</td><td>0.568654</td><td>0.046906</td><td>0.939424</td><td>0.791977</td><td>0.547603</td></tr><tr><td>2024-08-15 02:45:00</td><td>0.978002</td><td>0.424412</td><td>0.632919</td><td>0.691689</td><td>0.107125</td><td>0.248206</td><td>0.954185</td><td>0.715923</td><td>0.931482</td><td>0.676695</td><td>0.705899</td><td>0.046435</td><td>0.236004</td><td>0.895172</td><td>0.458681</td><td>0.167613</td><td>0.188648</td><td>0.769202</td><td>0.417068</td><td>0.141955</td><td>0.940635</td><td>0.85125</td><td>0.809939</td><td>0.928289</td><td>0.397367</td><td>0.658095</td><td>0.970745</td><td>0.174064</td><td>0.860759</td><td>0.465051</td><td>0.950083</td><td>0.41839</td><td>0.22112</td><td>0.283718</td><td>0.603743</td><td>0.668797</td><td>&hellip;</td><td>0.712693</td><td>0.976222</td><td>0.655139</td><td>0.852947</td><td>0.543362</td><td>0.496692</td><td>0.363136</td><td>0.236596</td><td>0.006429</td><td>0.903507</td><td>0.48896</td><td>0.753444</td><td>0.363144</td><td>0.328691</td><td>0.681696</td><td>0.678427</td><td>0.134375</td><td>0.953743</td><td>0.073801</td><td>0.658153</td><td>0.147921</td><td>0.991674</td><td>0.624472</td><td>0.107597</td><td>0.449136</td><td>0.165349</td><td>0.546922</td><td>0.844191</td><td>0.240397</td><td>0.339367</td><td>0.154764</td><td>0.789399</td><td>0.514484</td><td>0.097382</td><td>0.689014</td><td>0.496624</td><td>0.29754</td></tr><tr><td>&hellip;</td><td>&hellip;</td><td>&hellip;</td><td>&hellip;</td><td>&hellip;</td><td>&hellip;</td><td>&hellip;</td><td>&hellip;</td><td>&hellip;</td><td>&hellip;</td><td>&hellip;</td><td>&hellip;</td><td>&hellip;</td><td>&hellip;</td><td>&hellip;</td><td>&hellip;</td><td>&hellip;</td><td>&hellip;</td><td>&hellip;</td><td>&hellip;</td><td>&hellip;</td><td>&hellip;</td><td>&hellip;</td><td>&hellip;</td><td>&hellip;</td><td>&hellip;</td><td>&hellip;</td><td>&hellip;</td><td>&hellip;</td><td>&hellip;</td><td>&hellip;</td><td>&hellip;</td><td>&hellip;</td><td>&hellip;</td><td>&hellip;</td><td>&hellip;</td><td>&hellip;</td><td>&hellip;</td><td>&hellip;</td><td>&hellip;</td><td>&hellip;</td><td>&hellip;</td><td>&hellip;</td><td>&hellip;</td><td>&hellip;</td><td>&hellip;</td><td>&hellip;</td><td>&hellip;</td><td>&hellip;</td><td>&hellip;</td><td>&hellip;</td><td>&hellip;</td><td>&hellip;</td><td>&hellip;</td><td>&hellip;</td><td>&hellip;</td><td>&hellip;</td><td>&hellip;</td><td>&hellip;</td><td>&hellip;</td><td>&hellip;</td><td>&hellip;</td><td>&hellip;</td><td>&hellip;</td><td>&hellip;</td><td>&hellip;</td><td>&hellip;</td><td>&hellip;</td><td>&hellip;</td><td>&hellip;</td><td>&hellip;</td><td>&hellip;</td><td>&hellip;</td><td>&hellip;</td><td>&hellip;</td></tr><tr><td>2024-12-31 23:56:00</td><td>0.140222</td><td>0.525429</td><td>0.503118</td><td>0.323336</td><td>0.770159</td><td>0.988965</td><td>0.026295</td><td>0.027552</td><td>0.19186</td><td>0.904292</td><td>0.477865</td><td>0.477788</td><td>0.255188</td><td>0.973056</td><td>0.951939</td><td>0.579024</td><td>0.700732</td><td>0.131963</td><td>0.840651</td><td>0.546734</td><td>0.361591</td><td>0.63238</td><td>0.090908</td><td>0.292023</td><td>0.907075</td><td>0.252858</td><td>0.539729</td><td>0.743791</td><td>0.517861</td><td>0.28477</td><td>0.032481</td><td>0.415767</td><td>0.750808</td><td>0.026333</td><td>0.843167</td><td>0.856345</td><td>&hellip;</td><td>0.356612</td><td>0.154145</td><td>0.43958</td><td>0.943343</td><td>0.485884</td><td>0.900075</td><td>0.727252</td><td>0.441155</td><td>0.084041</td><td>0.898993</td><td>0.254188</td><td>0.677386</td><td>0.741329</td><td>0.197616</td><td>0.461123</td><td>0.144307</td><td>0.770002</td><td>0.179262</td><td>0.390588</td><td>0.706254</td><td>0.767351</td><td>0.978795</td><td>0.838259</td><td>0.179567</td><td>0.017982</td><td>0.360384</td><td>0.317142</td><td>0.232748</td><td>0.696122</td><td>0.45992</td><td>0.339463</td><td>0.66594</td><td>0.864443</td><td>0.401472</td><td>0.515272</td><td>0.065308</td><td>0.879162</td></tr><tr><td>2024-12-31 23:57:00</td><td>0.551554</td><td>0.155373</td><td>0.059865</td><td>0.387883</td><td>0.389685</td><td>0.672156</td><td>0.864779</td><td>0.809599</td><td>0.5599</td><td>0.53282</td><td>0.516323</td><td>0.532887</td><td>0.107733</td><td>0.244275</td><td>0.370467</td><td>0.586165</td><td>0.373528</td><td>0.225493</td><td>0.935268</td><td>0.040375</td><td>0.436233</td><td>0.583667</td><td>0.961586</td><td>0.895844</td><td>0.42876</td><td>0.826282</td><td>0.702531</td><td>0.103153</td><td>0.209535</td><td>0.168403</td><td>0.672594</td><td>0.127461</td><td>0.422029</td><td>0.900555</td><td>0.232257</td><td>0.919075</td><td>&hellip;</td><td>0.692391</td><td>0.237336</td><td>0.63312</td><td>0.770565</td><td>0.706151</td><td>0.554682</td><td>0.914869</td><td>0.342208</td><td>0.318529</td><td>0.983286</td><td>0.529141</td><td>0.703659</td><td>0.087936</td><td>0.226699</td><td>0.354355</td><td>0.319163</td><td>0.556732</td><td>0.599948</td><td>0.821681</td><td>0.144431</td><td>0.148847</td><td>0.243153</td><td>0.885741</td><td>0.047171</td><td>0.089324</td><td>0.7928</td><td>0.878837</td><td>0.329209</td><td>0.094281</td><td>0.202153</td><td>0.990906</td><td>0.738358</td><td>0.902445</td><td>0.502189</td><td>0.92918</td><td>0.779485</td><td>0.7728</td></tr><tr><td>2024-12-31 23:58:00</td><td>0.718039</td><td>0.439882</td><td>0.772651</td><td>0.897012</td><td>0.170085</td><td>0.956922</td><td>0.633215</td><td>0.10236</td><td>0.853963</td><td>0.084485</td><td>0.480645</td><td>0.289543</td><td>0.928971</td><td>0.987819</td><td>0.609796</td><td>0.507455</td><td>0.344265</td><td>0.406022</td><td>0.248904</td><td>0.19842</td><td>0.710471</td><td>0.912932</td><td>0.908588</td><td>0.465388</td><td>0.735199</td><td>0.99207</td><td>0.55209</td><td>0.811162</td><td>0.126359</td><td>0.253856</td><td>0.579871</td><td>0.348835</td><td>0.318542</td><td>0.28143</td><td>0.362641</td><td>0.886687</td><td>&hellip;</td><td>0.728472</td><td>0.944385</td><td>0.642229</td><td>0.688985</td><td>0.647754</td><td>0.15505</td><td>0.892663</td><td>0.785399</td><td>0.551229</td><td>0.17568</td><td>0.913138</td><td>0.269456</td><td>0.383666</td><td>0.7172</td><td>0.599546</td><td>0.831341</td><td>0.007487</td><td>0.294086</td><td>0.419447</td><td>0.058146</td><td>0.538691</td><td>0.444658</td><td>0.947793</td><td>0.265667</td><td>0.514249</td><td>0.750931</td><td>0.375447</td><td>0.653874</td><td>0.036665</td><td>0.336116</td><td>0.07936</td><td>0.747235</td><td>0.350357</td><td>0.993183</td><td>0.269211</td><td>0.342089</td><td>0.719461</td></tr><tr><td>2024-12-31 23:59:00</td><td>0.82746</td><td>0.683406</td><td>0.73413</td><td>0.365533</td><td>0.120478</td><td>0.393913</td><td>0.842626</td><td>0.883315</td><td>0.210288</td><td>0.569084</td><td>0.91971</td><td>0.543244</td><td>0.767656</td><td>0.36662</td><td>0.200999</td><td>0.854551</td><td>0.676041</td><td>0.108905</td><td>0.60714</td><td>0.947559</td><td>0.866024</td><td>0.761789</td><td>0.076629</td><td>0.330413</td><td>0.075931</td><td>0.693013</td><td>0.387206</td><td>0.345539</td><td>0.928834</td><td>0.845151</td><td>0.097044</td><td>0.454801</td><td>0.586907</td><td>0.588601</td><td>0.1208</td><td>0.270077</td><td>&hellip;</td><td>0.98905</td><td>0.512778</td><td>0.773145</td><td>0.324433</td><td>0.355038</td><td>0.364003</td><td>0.334989</td><td>0.340038</td><td>0.197425</td><td>0.427903</td><td>0.698771</td><td>0.080758</td><td>0.802474</td><td>0.343671</td><td>0.602599</td><td>0.934397</td><td>0.050299</td><td>0.169955</td><td>0.971115</td><td>0.54801</td><td>0.009562</td><td>0.471564</td><td>0.478754</td><td>0.563358</td><td>0.998781</td><td>0.433353</td><td>0.774951</td><td>0.217775</td><td>0.685536</td><td>0.101764</td><td>0.519027</td><td>0.657317</td><td>0.795471</td><td>0.43395</td><td>0.181198</td><td>0.266281</td><td>0.378735</td></tr><tr><td>2025-01-01 00:00:00</td><td>0.076021</td><td>0.672617</td><td>0.91678</td><td>0.727828</td><td>0.776865</td><td>0.447415</td><td>0.601227</td><td>0.911921</td><td>0.602101</td><td>0.509889</td><td>0.261096</td><td>0.103081</td><td>0.106409</td><td>0.823357</td><td>0.147259</td><td>0.425645</td><td>0.624708</td><td>0.371068</td><td>0.275112</td><td>0.590794</td><td>0.091001</td><td>0.758608</td><td>0.295227</td><td>0.76647</td><td>0.042499</td><td>0.495778</td><td>0.858084</td><td>0.815116</td><td>0.736308</td><td>0.132409</td><td>0.045689</td><td>0.657803</td><td>0.401341</td><td>0.510319</td><td>0.569702</td><td>0.007345</td><td>&hellip;</td><td>0.27134</td><td>0.68197</td><td>0.805818</td><td>0.572754</td><td>0.912584</td><td>0.666273</td><td>0.838129</td><td>0.951618</td><td>0.142735</td><td>0.052563</td><td>0.231834</td><td>0.852018</td><td>0.228684</td><td>0.811059</td><td>0.074575</td><td>0.003186</td><td>0.53725</td><td>0.674913</td><td>0.287062</td><td>0.664222</td><td>0.704816</td><td>0.659156</td><td>0.40165</td><td>0.901197</td><td>0.062214</td><td>0.649801</td><td>0.469559</td><td>0.920523</td><td>0.07642</td><td>0.268781</td><td>0.578476</td><td>0.908172</td><td>0.153675</td><td>0.648913</td><td>0.070399</td><td>0.750093</td><td>0.533499</td></tr></tbody></table></div>"
      ],
      "text/plain": [
       "shape: (200_000, 501)\n",
       "┌──────────────┬──────────┬──────────┬──────────┬───┬──────────┬──────────┬──────────┬──────────┐\n",
       "│ time         ┆ col_1    ┆ col_2    ┆ col_3    ┆ … ┆ col_497  ┆ col_498  ┆ col_499  ┆ col_500  │\n",
       "│ ---          ┆ ---      ┆ ---      ┆ ---      ┆   ┆ ---      ┆ ---      ┆ ---      ┆ ---      │\n",
       "│ datetime[ms] ┆ f32      ┆ f32      ┆ f32      ┆   ┆ f32      ┆ f32      ┆ f32      ┆ f32      │\n",
       "╞══════════════╪══════════╪══════════╪══════════╪═══╪══════════╪══════════╪══════════╪══════════╡\n",
       "│ 2024-08-15   ┆ 0.524554 ┆ 0.477075 ┆ 0.301365 ┆ … ┆ 0.242331 ┆ 0.73887  ┆ 0.265512 ┆ 0.579258 │\n",
       "│ 02:41:00     ┆          ┆          ┆          ┆   ┆          ┆          ┆          ┆          │\n",
       "│ 2024-08-15   ┆ 0.821767 ┆ 0.094674 ┆ 0.734972 ┆ … ┆ 0.747848 ┆ 0.946399 ┆ 0.900591 ┆ 0.338668 │\n",
       "│ 02:42:00     ┆          ┆          ┆          ┆   ┆          ┆          ┆          ┆          │\n",
       "│ 2024-08-15   ┆ 0.951276 ┆ 0.73122  ┆ 0.850451 ┆ … ┆ 0.586152 ┆ 0.914273 ┆ 0.346273 ┆ 0.621301 │\n",
       "│ 02:43:00     ┆          ┆          ┆          ┆   ┆          ┆          ┆          ┆          │\n",
       "│ 2024-08-15   ┆ 0.709948 ┆ 0.733406 ┆ 0.669951 ┆ … ┆ 0.046906 ┆ 0.939424 ┆ 0.791977 ┆ 0.547603 │\n",
       "│ 02:44:00     ┆          ┆          ┆          ┆   ┆          ┆          ┆          ┆          │\n",
       "│ 2024-08-15   ┆ 0.978002 ┆ 0.424412 ┆ 0.632919 ┆ … ┆ 0.097382 ┆ 0.689014 ┆ 0.496624 ┆ 0.29754  │\n",
       "│ 02:45:00     ┆          ┆          ┆          ┆   ┆          ┆          ┆          ┆          │\n",
       "│ …            ┆ …        ┆ …        ┆ …        ┆ … ┆ …        ┆ …        ┆ …        ┆ …        │\n",
       "│ 2024-12-31   ┆ 0.140222 ┆ 0.525429 ┆ 0.503118 ┆ … ┆ 0.401472 ┆ 0.515272 ┆ 0.065308 ┆ 0.879162 │\n",
       "│ 23:56:00     ┆          ┆          ┆          ┆   ┆          ┆          ┆          ┆          │\n",
       "│ 2024-12-31   ┆ 0.551554 ┆ 0.155373 ┆ 0.059865 ┆ … ┆ 0.502189 ┆ 0.92918  ┆ 0.779485 ┆ 0.7728   │\n",
       "│ 23:57:00     ┆          ┆          ┆          ┆   ┆          ┆          ┆          ┆          │\n",
       "│ 2024-12-31   ┆ 0.718039 ┆ 0.439882 ┆ 0.772651 ┆ … ┆ 0.993183 ┆ 0.269211 ┆ 0.342089 ┆ 0.719461 │\n",
       "│ 23:58:00     ┆          ┆          ┆          ┆   ┆          ┆          ┆          ┆          │\n",
       "│ 2024-12-31   ┆ 0.82746  ┆ 0.683406 ┆ 0.73413  ┆ … ┆ 0.43395  ┆ 0.181198 ┆ 0.266281 ┆ 0.378735 │\n",
       "│ 23:59:00     ┆          ┆          ┆          ┆   ┆          ┆          ┆          ┆          │\n",
       "│ 2025-01-01   ┆ 0.076021 ┆ 0.672617 ┆ 0.91678  ┆ … ┆ 0.648913 ┆ 0.070399 ┆ 0.750093 ┆ 0.533499 │\n",
       "│ 00:00:00     ┆          ┆          ┆          ┆   ┆          ┆          ┆          ┆          │\n",
       "└──────────────┴──────────┴──────────┴──────────┴───┴──────────┴──────────┴──────────┴──────────┘"
      ]
     },
     "execution_count": 6,
     "metadata": {},
     "output_type": "execute_result"
    }
   ],
   "source": [
    "df = pl.read_parquet(\"../data/input/data_0.2M_0.5k.parquet\")\n",
    "\n",
    "df"
   ]
  },
  {
   "cell_type": "code",
   "execution_count": null,
   "id": "2224da33",
   "metadata": {},
   "outputs": [
    {
     "name": "stderr",
     "output_type": "stream",
     "text": [
      "/Users/williamlauren/repos/tsdb-benchmarks/.venv/lib/python3.12/site-packages/sqlalchemy_monetdb/__init__.py:5: UserWarning: pkg_resources is deprecated as an API. See https://setuptools.pypa.io/en/latest/pkg_resources.html. The pkg_resources package is slated for removal as early as 2025-11-30. Refrain from using this package or pin to Setuptools<81.\n",
      "  import pkg_resources\n",
      "/Users/williamlauren/repos/tsdb-benchmarks/notebooks/../tsdb_benchmarks/monetdb/fetch.py:181: PolarsInefficientMapWarning: \n",
      "Series.map_elements is significantly slower than the native series API.\n",
      "Only use if you absolutely CANNOT implement your logic otherwise.\n",
      "Replace this expression...\n",
      "  - s.map_elements(json.loads)\n",
      "with this one instead:\n",
      "  + s.str.json_decode()\n",
      "\n",
      "  return s.map_elements(json.loads, pl.Object)\n"
     ]
    },
    {
     "name": "stdout",
     "output_type": "stream",
     "text": [
      "Fetched with limit 1\n",
      "Fetched with limit 10\n",
      "Fetched with limit 100\n",
      "Fetched with limit 1_000\n",
      "Fetched with limit 5_000\n",
      "Fetched with limit 10_000\n",
      "Fetched with limit 50_000\n",
      "Fetched with limit 100_000\n",
      "Fetched with limit 500_000\n",
      "Fetched with limit 1_000_000\n",
      "Fetched with limit 5_000_000\n",
      "Fetched with limit 10_000_000\n",
      "Fetched with limit 20_000_000\n"
     ]
    }
   ],
   "source": [
    "from time import perf_counter\n",
    "\n",
    "data = {\"limit\": [], \"binary\": [], \"pymonetdb\": []}\n",
    "\n",
    "for limit in [1, 10, 100, 1_000, 5_000, 10_000, 50_000, 100_000, 500_000, 1_000_000, 5_000_000] + [\n",
    "    n * 10_000_000 for n in range(1, 5)\n",
    "]:\n",
    "    q = f\"select * from large order by id limit {limit}\"\n",
    "\n",
    "    t0 = perf_counter()\n",
    "\n",
    "    fetch_pymonetdb(q, db.connect())\n",
    "\n",
    "    data[\"pymonetdb\"].append(perf_counter() - t0)\n",
    "\n",
    "    t0 = perf_counter()\n",
    "\n",
    "    fetch_binary(q, db.connect())\n",
    "\n",
    "    data[\"binary\"].append(perf_counter() - t0)\n",
    "\n",
    "    data[\"limit\"].append(limit)\n",
    "\n",
    "    print(f\"Fetched with limit {limit:_}\")"
   ]
  },
  {
   "cell_type": "code",
   "execution_count": 8,
   "id": "af5579fa",
   "metadata": {},
   "outputs": [
    {
     "data": {},
     "metadata": {},
     "output_type": "display_data"
    },
    {
     "data": {
      "application/vnd.holoviews_exec.v0+json": "",
      "text/html": [
       "<div id='c4445179-765c-4300-bb81-d17297778a7a'>\n",
       "  <div id=\"c212b1f9-65e5-4e83-a69b-27d21fd28986\" data-root-id=\"c4445179-765c-4300-bb81-d17297778a7a\" style=\"display: contents;\"></div>\n",
       "</div>\n",
       "<script type=\"application/javascript\">(function(root) {\n",
       "  var docs_json = {\"69505f99-4c79-4ee0-b6d5-dc293e29e5ad\":{\"version\":\"3.7.3\",\"title\":\"Bokeh Application\",\"roots\":[{\"type\":\"object\",\"name\":\"Row\",\"id\":\"c4445179-765c-4300-bb81-d17297778a7a\",\"attributes\":{\"name\":\"Row00278\",\"tags\":[\"embedded\"],\"stylesheets\":[\"\\n:host(.pn-loading):before, .pn-loading:before {\\n  background-color: #c3c3c3;\\n  mask-size: auto calc(min(50%, 400px));\\n  -webkit-mask-size: auto calc(min(50%, 400px));\\n}\",{\"type\":\"object\",\"name\":\"ImportedStyleSheet\",\"id\":\"a2cdc590-4c00-4a2f-aa31-da6af04c7324\",\"attributes\":{\"url\":\"https://cdn.holoviz.org/panel/1.7.2/dist/css/loading.css\"}},{\"type\":\"object\",\"name\":\"ImportedStyleSheet\",\"id\":\"95169bdd-01cc-4a3f-8111-3b3e93d2353a\",\"attributes\":{\"url\":\"https://cdn.holoviz.org/panel/1.7.2/dist/css/listpanel.css\"}},{\"type\":\"object\",\"name\":\"ImportedStyleSheet\",\"id\":\"45075f70-d6f4-4848-8eea-c2e2098f3958\",\"attributes\":{\"url\":\"https://cdn.holoviz.org/panel/1.7.2/dist/bundled/theme/default.css\"}},{\"type\":\"object\",\"name\":\"ImportedStyleSheet\",\"id\":\"b9e9bbe8-2330-4ca4-8e6b-fd31ebc25cfe\",\"attributes\":{\"url\":\"https://cdn.holoviz.org/panel/1.7.2/dist/bundled/theme/native.css\"}}],\"min_width\":900,\"margin\":0,\"sizing_mode\":\"stretch_width\",\"align\":\"start\",\"children\":[{\"type\":\"object\",\"name\":\"Spacer\",\"id\":\"7f17203c-9f3f-4e59-a568-77c0fa8dcc78\",\"attributes\":{\"name\":\"HSpacer00282\",\"stylesheets\":[\"\\n:host(.pn-loading):before, .pn-loading:before {\\n  background-color: #c3c3c3;\\n  mask-size: auto calc(min(50%, 400px));\\n  -webkit-mask-size: auto calc(min(50%, 400px));\\n}\",{\"id\":\"a2cdc590-4c00-4a2f-aa31-da6af04c7324\"},{\"id\":\"45075f70-d6f4-4848-8eea-c2e2098f3958\"},{\"id\":\"b9e9bbe8-2330-4ca4-8e6b-fd31ebc25cfe\"}],\"min_width\":0,\"margin\":0,\"sizing_mode\":\"stretch_width\",\"align\":\"start\"}},{\"type\":\"object\",\"name\":\"Figure\",\"id\":\"6a542260-0a9b-4e6c-ad9a-aeea0c45ac36\",\"attributes\":{\"width\":900,\"margin\":[5,10],\"sizing_mode\":\"fixed\",\"align\":\"start\",\"x_range\":{\"type\":\"object\",\"name\":\"Range1d\",\"id\":\"293c8f00-43a3-4e29-96fc-08e84c0dba2e\",\"attributes\":{\"name\":\"limit\",\"tags\":[[[\"limit\",null]],[]],\"start\":-1333332.2666666666,\"end\":21333333.266666666,\"reset_start\":-1333332.2666666666,\"reset_end\":21333333.266666666}},\"y_range\":{\"type\":\"object\",\"name\":\"Range1d\",\"id\":\"39721f8c-6984-4726-964d-b1ac8395826b\",\"attributes\":{\"name\":\"binary\",\"tags\":[[[\"value\",null]],{\"type\":\"map\",\"entries\":[[\"invert_yaxis\",false],[\"autorange\",false]]}],\"start\":-6.983289058716037,\"end\":76.92829514171463,\"reset_start\":-6.983289058716037,\"reset_end\":76.92829514171463}},\"x_scale\":{\"type\":\"object\",\"name\":\"LinearScale\",\"id\":\"b3bf9da6-8f5c-4025-81c0-55c501706c89\"},\"y_scale\":{\"type\":\"object\",\"name\":\"LinearScale\",\"id\":\"23002212-024c-473e-b5d9-7c6f83d998b4\"},\"title\":{\"type\":\"object\",\"name\":\"Title\",\"id\":\"730adc45-18ad-450e-9a71-a8e79dfd8c58\",\"attributes\":{\"text_color\":\"black\",\"text_font_size\":\"12pt\"}},\"renderers\":[{\"type\":\"object\",\"name\":\"GlyphRenderer\",\"id\":\"98e1aaf6-9189-44bb-a3a7-ecdc4bcc2885\",\"attributes\":{\"name\":\"binary\",\"data_source\":{\"type\":\"object\",\"name\":\"ColumnDataSource\",\"id\":\"2fa9abfb-abdd-4adf-b0c8-eef91e82e4af\",\"attributes\":{\"selected\":{\"type\":\"object\",\"name\":\"Selection\",\"id\":\"0094e5b7-d534-4388-9c2b-dfad57461feb\",\"attributes\":{\"indices\":[],\"line_indices\":[]}},\"selection_policy\":{\"type\":\"object\",\"name\":\"UnionRenderers\",\"id\":\"0ef6eece-5bd5-4b5a-884b-d99bd59a30e0\"},\"data\":{\"type\":\"map\",\"entries\":[[\"limit\",{\"type\":\"ndarray\",\"array\":{\"type\":\"bytes\",\"data\":\"AQAAAAoAAABkAAAA6AMAAIgTAAAQJwAAUMMAAKCGAQAgoQcAQEIPAEBLTACAlpgAAC0xAQ==\"},\"shape\":[13],\"dtype\":\"int32\",\"order\":\"little\"}],[\"binary\",{\"type\":\"ndarray\",\"array\":{\"type\":\"bytes\",\"data\":\"AAAAaQEAoD8AAADMA6ScPwAAANanHJc/AAAAZBZVmD8AAADcaLSePwAAADm4dKM/AAAAdWeAxT8AAKD3DTnSPwAAkPuGnPA/AADgyW7W/j8AAPInBKMhQACAhsUo0TBAAIDW/WNyMEA=\"},\"shape\":[13],\"dtype\":\"float64\",\"order\":\"little\"}],[\"Variable\",[\"binary\",\"binary\",\"binary\",\"binary\",\"binary\",\"binary\",\"binary\",\"binary\",\"binary\",\"binary\",\"binary\",\"binary\",\"binary\"]]]}}},\"view\":{\"type\":\"object\",\"name\":\"CDSView\",\"id\":\"d7da5fd3-7d72-40ff-b9cf-7214776a5bc6\",\"attributes\":{\"filter\":{\"type\":\"object\",\"name\":\"AllIndices\",\"id\":\"72f98514-0ebe-410b-a664-1daf0cad2f09\"}}},\"glyph\":{\"type\":\"object\",\"name\":\"Scatter\",\"id\":\"91b1e186-7a8d-44ac-87fc-20688a1c9cfc\",\"attributes\":{\"tags\":[\"apply_ranges\"],\"x\":{\"type\":\"field\",\"field\":\"limit\"},\"y\":{\"type\":\"field\",\"field\":\"binary\"},\"size\":{\"type\":\"value\",\"value\":5.477225575051661},\"line_color\":{\"type\":\"value\",\"value\":\"#30a2da\"},\"fill_color\":{\"type\":\"value\",\"value\":\"#30a2da\"},\"hatch_color\":{\"type\":\"value\",\"value\":\"#30a2da\"}}},\"selection_glyph\":{\"type\":\"object\",\"name\":\"Scatter\",\"id\":\"0340721e-1dbf-4202-8df4-6fbd0514a071\",\"attributes\":{\"tags\":[\"apply_ranges\"],\"x\":{\"type\":\"field\",\"field\":\"limit\"},\"y\":{\"type\":\"field\",\"field\":\"binary\"},\"size\":{\"type\":\"value\",\"value\":5.477225575051661},\"angle\":{\"type\":\"value\",\"value\":0.0},\"line_color\":{\"type\":\"value\",\"value\":\"#30a2da\"},\"line_alpha\":{\"type\":\"value\",\"value\":1.0},\"line_width\":{\"type\":\"value\",\"value\":1},\"line_join\":{\"type\":\"value\",\"value\":\"bevel\"},\"line_cap\":{\"type\":\"value\",\"value\":\"butt\"},\"line_dash\":{\"type\":\"value\",\"value\":[]},\"line_dash_offset\":{\"type\":\"value\",\"value\":0},\"fill_color\":{\"type\":\"value\",\"value\":\"#30a2da\"},\"fill_alpha\":{\"type\":\"value\",\"value\":1.0},\"hatch_color\":{\"type\":\"value\",\"value\":\"#30a2da\"},\"hatch_alpha\":{\"type\":\"value\",\"value\":1.0},\"hatch_scale\":{\"type\":\"value\",\"value\":12.0},\"hatch_pattern\":{\"type\":\"value\",\"value\":null},\"hatch_weight\":{\"type\":\"value\",\"value\":1.0},\"marker\":{\"type\":\"value\",\"value\":\"circle\"}}},\"nonselection_glyph\":{\"type\":\"object\",\"name\":\"Scatter\",\"id\":\"7f2dfde8-5a92-40b7-8d8a-03ad7e6afaa6\",\"attributes\":{\"tags\":[\"apply_ranges\"],\"x\":{\"type\":\"field\",\"field\":\"limit\"},\"y\":{\"type\":\"field\",\"field\":\"binary\"},\"size\":{\"type\":\"value\",\"value\":5.477225575051661},\"line_color\":{\"type\":\"value\",\"value\":\"#30a2da\"},\"line_alpha\":{\"type\":\"value\",\"value\":0.1},\"fill_color\":{\"type\":\"value\",\"value\":\"#30a2da\"},\"fill_alpha\":{\"type\":\"value\",\"value\":0.1},\"hatch_color\":{\"type\":\"value\",\"value\":\"#30a2da\"},\"hatch_alpha\":{\"type\":\"value\",\"value\":0.1}}},\"muted_glyph\":{\"type\":\"object\",\"name\":\"Scatter\",\"id\":\"0b44c130-8fb9-4492-8933-b161829e6945\",\"attributes\":{\"tags\":[\"apply_ranges\"],\"x\":{\"type\":\"field\",\"field\":\"limit\"},\"y\":{\"type\":\"field\",\"field\":\"binary\"},\"size\":{\"type\":\"value\",\"value\":5.477225575051661},\"line_color\":{\"type\":\"value\",\"value\":\"#30a2da\"},\"line_alpha\":{\"type\":\"value\",\"value\":0.2},\"fill_color\":{\"type\":\"value\",\"value\":\"#30a2da\"},\"fill_alpha\":{\"type\":\"value\",\"value\":0.2},\"hatch_color\":{\"type\":\"value\",\"value\":\"#30a2da\"},\"hatch_alpha\":{\"type\":\"value\",\"value\":0.2}}}}},{\"type\":\"object\",\"name\":\"GlyphRenderer\",\"id\":\"21e9a96c-dde9-423b-89b3-5c7ca82eb7ed\",\"attributes\":{\"name\":\"pymonetdb\",\"data_source\":{\"type\":\"object\",\"name\":\"ColumnDataSource\",\"id\":\"9b20c8fe-0cf4-4743-9c23-9f4725b2e1fb\",\"attributes\":{\"selected\":{\"type\":\"object\",\"name\":\"Selection\",\"id\":\"9f08ad48-5ab0-4df2-8a5e-d7b99138f9bf\",\"attributes\":{\"indices\":[],\"line_indices\":[]}},\"selection_policy\":{\"type\":\"object\",\"name\":\"UnionRenderers\",\"id\":\"1e4b6a13-6e5a-44ee-b725-1371836550f8\"},\"data\":{\"type\":\"map\",\"entries\":[[\"limit\",{\"type\":\"ndarray\",\"array\":{\"type\":\"bytes\",\"data\":\"AQAAAAoAAABkAAAA6AMAAIgTAAAQJwAAUMMAAKCGAQAgoQcAQEIPAEBLTACAlpgAAC0xAQ==\"},\"shape\":[13],\"dtype\":\"int32\",\"order\":\"little\"}],[\"pymonetdb\",{\"type\":\"ndarray\",\"array\":{\"type\":\"bytes\",\"data\":\"AACA/UmPsT8AAACgRe+IPwAAAJhmIoM/AAAAZkzBkD8AAAAJibSnPwAAgBfR0LI/AABgpInX1j8AALBNYxvnPwAASJvj6ApAAACuwUf7GkAAgP9LP1tAQACAlufhe1FAACBltnHYUEA=\"},\"shape\":[13],\"dtype\":\"float64\",\"order\":\"little\"}],[\"Variable\",[\"pymonetdb\",\"pymonetdb\",\"pymonetdb\",\"pymonetdb\",\"pymonetdb\",\"pymonetdb\",\"pymonetdb\",\"pymonetdb\",\"pymonetdb\",\"pymonetdb\",\"pymonetdb\",\"pymonetdb\",\"pymonetdb\"]]]}}},\"view\":{\"type\":\"object\",\"name\":\"CDSView\",\"id\":\"675a2338-0f50-486c-b427-3912eb86d131\",\"attributes\":{\"filter\":{\"type\":\"object\",\"name\":\"AllIndices\",\"id\":\"b77184ac-0564-4d37-ad30-1d6641b41f64\"}}},\"glyph\":{\"type\":\"object\",\"name\":\"Scatter\",\"id\":\"57979f3c-a667-41be-903b-cbae6e9f9086\",\"attributes\":{\"tags\":[\"apply_ranges\"],\"x\":{\"type\":\"field\",\"field\":\"limit\"},\"y\":{\"type\":\"field\",\"field\":\"pymonetdb\"},\"size\":{\"type\":\"value\",\"value\":5.477225575051661},\"line_color\":{\"type\":\"value\",\"value\":\"#fc4f30\"},\"fill_color\":{\"type\":\"value\",\"value\":\"#fc4f30\"},\"hatch_color\":{\"type\":\"value\",\"value\":\"#fc4f30\"}}},\"selection_glyph\":{\"type\":\"object\",\"name\":\"Scatter\",\"id\":\"e4eaafc4-d52f-4297-8573-7e1cab229e96\",\"attributes\":{\"tags\":[\"apply_ranges\"],\"x\":{\"type\":\"field\",\"field\":\"limit\"},\"y\":{\"type\":\"field\",\"field\":\"pymonetdb\"},\"size\":{\"type\":\"value\",\"value\":5.477225575051661},\"angle\":{\"type\":\"value\",\"value\":0.0},\"line_color\":{\"type\":\"value\",\"value\":\"#fc4f30\"},\"line_alpha\":{\"type\":\"value\",\"value\":1.0},\"line_width\":{\"type\":\"value\",\"value\":1},\"line_join\":{\"type\":\"value\",\"value\":\"bevel\"},\"line_cap\":{\"type\":\"value\",\"value\":\"butt\"},\"line_dash\":{\"type\":\"value\",\"value\":[]},\"line_dash_offset\":{\"type\":\"value\",\"value\":0},\"fill_color\":{\"type\":\"value\",\"value\":\"#fc4f30\"},\"fill_alpha\":{\"type\":\"value\",\"value\":1.0},\"hatch_color\":{\"type\":\"value\",\"value\":\"#fc4f30\"},\"hatch_alpha\":{\"type\":\"value\",\"value\":1.0},\"hatch_scale\":{\"type\":\"value\",\"value\":12.0},\"hatch_pattern\":{\"type\":\"value\",\"value\":null},\"hatch_weight\":{\"type\":\"value\",\"value\":1.0},\"marker\":{\"type\":\"value\",\"value\":\"circle\"}}},\"nonselection_glyph\":{\"type\":\"object\",\"name\":\"Scatter\",\"id\":\"eb077a13-95cb-46fe-81a6-54f1c69c5321\",\"attributes\":{\"tags\":[\"apply_ranges\"],\"x\":{\"type\":\"field\",\"field\":\"limit\"},\"y\":{\"type\":\"field\",\"field\":\"pymonetdb\"},\"size\":{\"type\":\"value\",\"value\":5.477225575051661},\"line_color\":{\"type\":\"value\",\"value\":\"#fc4f30\"},\"line_alpha\":{\"type\":\"value\",\"value\":0.1},\"fill_color\":{\"type\":\"value\",\"value\":\"#fc4f30\"},\"fill_alpha\":{\"type\":\"value\",\"value\":0.1},\"hatch_color\":{\"type\":\"value\",\"value\":\"#fc4f30\"},\"hatch_alpha\":{\"type\":\"value\",\"value\":0.1}}},\"muted_glyph\":{\"type\":\"object\",\"name\":\"Scatter\",\"id\":\"4f90bc3a-d65a-4d0f-b931-129b6d314d74\",\"attributes\":{\"tags\":[\"apply_ranges\"],\"x\":{\"type\":\"field\",\"field\":\"limit\"},\"y\":{\"type\":\"field\",\"field\":\"pymonetdb\"},\"size\":{\"type\":\"value\",\"value\":5.477225575051661},\"line_color\":{\"type\":\"value\",\"value\":\"#fc4f30\"},\"line_alpha\":{\"type\":\"value\",\"value\":0.2},\"fill_color\":{\"type\":\"value\",\"value\":\"#fc4f30\"},\"fill_alpha\":{\"type\":\"value\",\"value\":0.2},\"hatch_color\":{\"type\":\"value\",\"value\":\"#fc4f30\"},\"hatch_alpha\":{\"type\":\"value\",\"value\":0.2}}}}}],\"toolbar\":{\"type\":\"object\",\"name\":\"Toolbar\",\"id\":\"9ee64e76-e01b-472d-af9e-7b848c3233d1\",\"attributes\":{\"tools\":[{\"type\":\"object\",\"name\":\"WheelZoomTool\",\"id\":\"b9d19f0d-e8fb-4936-a6ff-020cd531296d\",\"attributes\":{\"tags\":[\"hv_created\"],\"renderers\":\"auto\",\"zoom_together\":\"none\"}},{\"type\":\"object\",\"name\":\"HoverTool\",\"id\":\"715df23c-78b8-4976-9136-1882a6ff3c72\",\"attributes\":{\"tags\":[\"hv_created\"],\"renderers\":[{\"id\":\"98e1aaf6-9189-44bb-a3a7-ecdc4bcc2885\"}],\"tooltips\":[[\"Variable\",\"@{Variable}\"],[\"limit\",\"@{limit}\"],[\"value\",\"@{binary}\"]]}},{\"type\":\"object\",\"name\":\"HoverTool\",\"id\":\"d4536ea2-eb8d-4227-9221-fa80a8fd3a94\",\"attributes\":{\"tags\":[\"hv_created\"],\"renderers\":[{\"id\":\"21e9a96c-dde9-423b-89b3-5c7ca82eb7ed\"}],\"tooltips\":[[\"Variable\",\"@{Variable}\"],[\"limit\",\"@{limit}\"],[\"value\",\"@{pymonetdb}\"]]}},{\"type\":\"object\",\"name\":\"SaveTool\",\"id\":\"5c160567-ae63-4f17-ad7e-2801a1d01161\"},{\"type\":\"object\",\"name\":\"PanTool\",\"id\":\"c66e492a-7f9c-4352-b471-94f80546d3ad\"},{\"type\":\"object\",\"name\":\"BoxZoomTool\",\"id\":\"f137cd28-c53f-42f8-9f50-9bf4488a593f\",\"attributes\":{\"dimensions\":\"both\",\"overlay\":{\"type\":\"object\",\"name\":\"BoxAnnotation\",\"id\":\"efed66cb-86a0-42df-aab5-cf57dc2476fc\",\"attributes\":{\"syncable\":false,\"line_color\":\"black\",\"line_alpha\":1.0,\"line_width\":2,\"line_dash\":[4,4],\"fill_color\":\"lightgrey\",\"fill_alpha\":0.5,\"level\":\"overlay\",\"visible\":false,\"left\":{\"type\":\"number\",\"value\":\"nan\"},\"right\":{\"type\":\"number\",\"value\":\"nan\"},\"top\":{\"type\":\"number\",\"value\":\"nan\"},\"bottom\":{\"type\":\"number\",\"value\":\"nan\"},\"left_units\":\"canvas\",\"right_units\":\"canvas\",\"top_units\":\"canvas\",\"bottom_units\":\"canvas\",\"handles\":{\"type\":\"object\",\"name\":\"BoxInteractionHandles\",\"id\":\"c238b74c-b37c-4a21-871e-50d6fe41a5dd\",\"attributes\":{\"all\":{\"type\":\"object\",\"name\":\"AreaVisuals\",\"id\":\"4e430f85-e9cb-46cd-8c98-d89108b50b2d\",\"attributes\":{\"fill_color\":\"white\",\"hover_fill_color\":\"lightgray\"}}}}}}}},{\"type\":\"object\",\"name\":\"ResetTool\",\"id\":\"85e97947-1579-4f5d-8f3c-d74dcf1fc02f\"}],\"active_drag\":{\"id\":\"c66e492a-7f9c-4352-b471-94f80546d3ad\"},\"active_scroll\":{\"id\":\"b9d19f0d-e8fb-4936-a6ff-020cd531296d\"}}},\"left\":[{\"type\":\"object\",\"name\":\"LinearAxis\",\"id\":\"4ab2b15b-6acb-4af6-9700-de314ec11836\",\"attributes\":{\"ticker\":{\"type\":\"object\",\"name\":\"BasicTicker\",\"id\":\"a8d13769-e306-4dab-a277-421d5f54a31a\",\"attributes\":{\"mantissas\":[1,2,5]}},\"formatter\":{\"type\":\"object\",\"name\":\"BasicTickFormatter\",\"id\":\"e3f0e643-2fb6-4871-9af4-1e1edeebdaef\"},\"axis_label\":\"\",\"major_label_policy\":{\"type\":\"object\",\"name\":\"AllLabels\",\"id\":\"fb7428fd-17e6-4747-8049-30a74bd50b5c\"}}}],\"right\":[{\"type\":\"object\",\"name\":\"Legend\",\"id\":\"eae77d68-79ac-443a-9a08-a43a3f2b57dd\",\"attributes\":{\"location\":[0,0],\"title\":\"Variable\",\"click_policy\":\"mute\",\"items\":[{\"type\":\"object\",\"name\":\"LegendItem\",\"id\":\"d3be851e-26a5-464c-bba1-c04789e1b287\",\"attributes\":{\"label\":{\"type\":\"value\",\"value\":\"binary\"},\"renderers\":[{\"id\":\"98e1aaf6-9189-44bb-a3a7-ecdc4bcc2885\"}]}},{\"type\":\"object\",\"name\":\"LegendItem\",\"id\":\"89a4ec64-3fa2-4c2b-b705-ac351336f05a\",\"attributes\":{\"label\":{\"type\":\"value\",\"value\":\"pymonetdb\"},\"renderers\":[{\"id\":\"21e9a96c-dde9-423b-89b3-5c7ca82eb7ed\"}]}}]}}],\"below\":[{\"type\":\"object\",\"name\":\"LinearAxis\",\"id\":\"7ac25a1a-a1b2-4fb8-9a0f-429a6a5dd92c\",\"attributes\":{\"ticker\":{\"type\":\"object\",\"name\":\"BasicTicker\",\"id\":\"14fcf78b-8dfc-4155-b5d5-4ce8d14bd09a\",\"attributes\":{\"mantissas\":[1,2,5]}},\"formatter\":{\"type\":\"object\",\"name\":\"BasicTickFormatter\",\"id\":\"6054febe-6304-49db-a996-36d302504df9\"},\"axis_label\":\"limit\",\"major_label_policy\":{\"type\":\"object\",\"name\":\"AllLabels\",\"id\":\"bb88b013-afd8-4f0e-a7fb-cdaf21d09c3b\"}}}],\"center\":[{\"type\":\"object\",\"name\":\"Grid\",\"id\":\"d1ce1280-6a5d-4ab7-8752-2d295d4d71c9\",\"attributes\":{\"axis\":{\"id\":\"7ac25a1a-a1b2-4fb8-9a0f-429a6a5dd92c\"},\"ticker\":{\"id\":\"14fcf78b-8dfc-4155-b5d5-4ce8d14bd09a\"}}},{\"type\":\"object\",\"name\":\"Grid\",\"id\":\"d9648136-1f20-4afd-af2c-013fc4d208fe\",\"attributes\":{\"dimension\":1,\"axis\":{\"id\":\"4ab2b15b-6acb-4af6-9700-de314ec11836\"},\"ticker\":{\"id\":\"a8d13769-e306-4dab-a277-421d5f54a31a\"}}}],\"min_border_top\":10,\"min_border_bottom\":10,\"min_border_left\":10,\"min_border_right\":10,\"output_backend\":\"webgl\"}},{\"type\":\"object\",\"name\":\"Spacer\",\"id\":\"50087344-7261-4499-a6da-024fb5c78724\",\"attributes\":{\"name\":\"HSpacer00283\",\"stylesheets\":[\"\\n:host(.pn-loading):before, .pn-loading:before {\\n  background-color: #c3c3c3;\\n  mask-size: auto calc(min(50%, 400px));\\n  -webkit-mask-size: auto calc(min(50%, 400px));\\n}\",{\"id\":\"a2cdc590-4c00-4a2f-aa31-da6af04c7324\"},{\"id\":\"45075f70-d6f4-4848-8eea-c2e2098f3958\"},{\"id\":\"b9e9bbe8-2330-4ca4-8e6b-fd31ebc25cfe\"}],\"min_width\":0,\"margin\":0,\"sizing_mode\":\"stretch_width\",\"align\":\"start\"}}]}}],\"defs\":[{\"type\":\"model\",\"name\":\"ReactiveHTML1\"},{\"type\":\"model\",\"name\":\"FlexBox1\",\"properties\":[{\"name\":\"align_content\",\"kind\":\"Any\",\"default\":\"flex-start\"},{\"name\":\"align_items\",\"kind\":\"Any\",\"default\":\"flex-start\"},{\"name\":\"flex_direction\",\"kind\":\"Any\",\"default\":\"row\"},{\"name\":\"flex_wrap\",\"kind\":\"Any\",\"default\":\"wrap\"},{\"name\":\"gap\",\"kind\":\"Any\",\"default\":\"\"},{\"name\":\"justify_content\",\"kind\":\"Any\",\"default\":\"flex-start\"}]},{\"type\":\"model\",\"name\":\"FloatPanel1\",\"properties\":[{\"name\":\"config\",\"kind\":\"Any\",\"default\":{\"type\":\"map\"}},{\"name\":\"contained\",\"kind\":\"Any\",\"default\":true},{\"name\":\"position\",\"kind\":\"Any\",\"default\":\"right-top\"},{\"name\":\"offsetx\",\"kind\":\"Any\",\"default\":null},{\"name\":\"offsety\",\"kind\":\"Any\",\"default\":null},{\"name\":\"theme\",\"kind\":\"Any\",\"default\":\"primary\"},{\"name\":\"status\",\"kind\":\"Any\",\"default\":\"normalized\"}]},{\"type\":\"model\",\"name\":\"GridStack1\",\"properties\":[{\"name\":\"ncols\",\"kind\":\"Any\",\"default\":null},{\"name\":\"nrows\",\"kind\":\"Any\",\"default\":null},{\"name\":\"allow_resize\",\"kind\":\"Any\",\"default\":true},{\"name\":\"allow_drag\",\"kind\":\"Any\",\"default\":true},{\"name\":\"state\",\"kind\":\"Any\",\"default\":[]}]},{\"type\":\"model\",\"name\":\"drag1\",\"properties\":[{\"name\":\"slider_width\",\"kind\":\"Any\",\"default\":5},{\"name\":\"slider_color\",\"kind\":\"Any\",\"default\":\"black\"},{\"name\":\"value\",\"kind\":\"Any\",\"default\":50}]},{\"type\":\"model\",\"name\":\"click1\",\"properties\":[{\"name\":\"terminal_output\",\"kind\":\"Any\",\"default\":\"\"},{\"name\":\"debug_name\",\"kind\":\"Any\",\"default\":\"\"},{\"name\":\"clears\",\"kind\":\"Any\",\"default\":0}]},{\"type\":\"model\",\"name\":\"ReactiveESM1\",\"properties\":[{\"name\":\"esm_constants\",\"kind\":\"Any\",\"default\":{\"type\":\"map\"}}]},{\"type\":\"model\",\"name\":\"JSComponent1\",\"properties\":[{\"name\":\"esm_constants\",\"kind\":\"Any\",\"default\":{\"type\":\"map\"}}]},{\"type\":\"model\",\"name\":\"ReactComponent1\",\"properties\":[{\"name\":\"use_shadow_dom\",\"kind\":\"Any\",\"default\":true},{\"name\":\"esm_constants\",\"kind\":\"Any\",\"default\":{\"type\":\"map\"}}]},{\"type\":\"model\",\"name\":\"AnyWidgetComponent1\",\"properties\":[{\"name\":\"use_shadow_dom\",\"kind\":\"Any\",\"default\":true},{\"name\":\"esm_constants\",\"kind\":\"Any\",\"default\":{\"type\":\"map\"}}]},{\"type\":\"model\",\"name\":\"FastWrapper1\",\"properties\":[{\"name\":\"object\",\"kind\":\"Any\",\"default\":null},{\"name\":\"style\",\"kind\":\"Any\",\"default\":null}]},{\"type\":\"model\",\"name\":\"NotificationArea1\",\"properties\":[{\"name\":\"js_events\",\"kind\":\"Any\",\"default\":{\"type\":\"map\"}},{\"name\":\"max_notifications\",\"kind\":\"Any\",\"default\":5},{\"name\":\"notifications\",\"kind\":\"Any\",\"default\":[]},{\"name\":\"position\",\"kind\":\"Any\",\"default\":\"bottom-right\"},{\"name\":\"_clear\",\"kind\":\"Any\",\"default\":0},{\"name\":\"types\",\"kind\":\"Any\",\"default\":[{\"type\":\"map\",\"entries\":[[\"type\",\"warning\"],[\"background\",\"#ffc107\"],[\"icon\",{\"type\":\"map\",\"entries\":[[\"className\",\"fas fa-exclamation-triangle\"],[\"tagName\",\"i\"],[\"color\",\"white\"]]}]]},{\"type\":\"map\",\"entries\":[[\"type\",\"info\"],[\"background\",\"#007bff\"],[\"icon\",{\"type\":\"map\",\"entries\":[[\"className\",\"fas fa-info-circle\"],[\"tagName\",\"i\"],[\"color\",\"white\"]]}]]}]}]},{\"type\":\"model\",\"name\":\"Notification\",\"properties\":[{\"name\":\"background\",\"kind\":\"Any\",\"default\":null},{\"name\":\"duration\",\"kind\":\"Any\",\"default\":3000},{\"name\":\"icon\",\"kind\":\"Any\",\"default\":null},{\"name\":\"message\",\"kind\":\"Any\",\"default\":\"\"},{\"name\":\"notification_type\",\"kind\":\"Any\",\"default\":null},{\"name\":\"_rendered\",\"kind\":\"Any\",\"default\":false},{\"name\":\"_destroyed\",\"kind\":\"Any\",\"default\":false}]},{\"type\":\"model\",\"name\":\"TemplateActions1\",\"properties\":[{\"name\":\"open_modal\",\"kind\":\"Any\",\"default\":0},{\"name\":\"close_modal\",\"kind\":\"Any\",\"default\":0}]},{\"type\":\"model\",\"name\":\"BootstrapTemplateActions1\",\"properties\":[{\"name\":\"open_modal\",\"kind\":\"Any\",\"default\":0},{\"name\":\"close_modal\",\"kind\":\"Any\",\"default\":0}]},{\"type\":\"model\",\"name\":\"TemplateEditor1\",\"properties\":[{\"name\":\"layout\",\"kind\":\"Any\",\"default\":[]}]},{\"type\":\"model\",\"name\":\"MaterialTemplateActions1\",\"properties\":[{\"name\":\"open_modal\",\"kind\":\"Any\",\"default\":0},{\"name\":\"close_modal\",\"kind\":\"Any\",\"default\":0}]},{\"type\":\"model\",\"name\":\"request_value1\",\"properties\":[{\"name\":\"fill\",\"kind\":\"Any\",\"default\":\"none\"},{\"name\":\"_synced\",\"kind\":\"Any\",\"default\":null},{\"name\":\"_request_sync\",\"kind\":\"Any\",\"default\":0}]},{\"type\":\"model\",\"name\":\"holoviews.plotting.bokeh.raster.HoverModel\",\"properties\":[{\"name\":\"xy\",\"kind\":\"Any\",\"default\":null},{\"name\":\"data\",\"kind\":\"Any\",\"default\":null}]}]}};\n",
       "  var render_items = [{\"docid\":\"69505f99-4c79-4ee0-b6d5-dc293e29e5ad\",\"roots\":{\"c4445179-765c-4300-bb81-d17297778a7a\":\"c212b1f9-65e5-4e83-a69b-27d21fd28986\"},\"root_ids\":[\"c4445179-765c-4300-bb81-d17297778a7a\"]}];\n",
       "  var docs = Object.values(docs_json)\n",
       "  if (!docs) {\n",
       "    return\n",
       "  }\n",
       "  const py_version = docs[0].version.replace('rc', '-rc.').replace('.dev', '-dev.')\n",
       "  async function embed_document(root) {\n",
       "    var Bokeh = get_bokeh(root)\n",
       "    await Bokeh.embed.embed_items_notebook(docs_json, render_items);\n",
       "    for (const render_item of render_items) {\n",
       "      for (const root_id of render_item.root_ids) {\n",
       "\tconst id_el = document.getElementById(root_id)\n",
       "\tif (id_el.children.length && id_el.children[0].hasAttribute('data-root-id')) {\n",
       "\t  const root_el = id_el.children[0]\n",
       "\t  root_el.id = root_el.id + '-rendered'\n",
       "\t  for (const child of root_el.children) {\n",
       "            // Ensure JupyterLab does not capture keyboard shortcuts\n",
       "            // see: https://jupyterlab.readthedocs.io/en/4.1.x/extension/notebook.html#keyboard-interaction-model\n",
       "\t    child.setAttribute('data-lm-suppress-shortcuts', 'true')\n",
       "\t  }\n",
       "\t}\n",
       "      }\n",
       "    }\n",
       "  }\n",
       "  function get_bokeh(root) {\n",
       "    if (root.Bokeh === undefined) {\n",
       "      return null\n",
       "    } else if (root.Bokeh.version !== py_version) {\n",
       "      if (root.Bokeh.versions === undefined || !root.Bokeh.versions.has(py_version)) {\n",
       "\treturn null\n",
       "      }\n",
       "      return root.Bokeh.versions.get(py_version);\n",
       "    } else if (root.Bokeh.version === py_version) {\n",
       "      return root.Bokeh\n",
       "    }\n",
       "    return null\n",
       "  }\n",
       "  function is_loaded(root) {\n",
       "    var Bokeh = get_bokeh(root)\n",
       "    return (Bokeh != null && Bokeh.Panel !== undefined)\n",
       "  }\n",
       "  if (is_loaded(root)) {\n",
       "    embed_document(root);\n",
       "  } else {\n",
       "    var attempts = 0;\n",
       "    var timer = setInterval(function(root) {\n",
       "      if (is_loaded(root)) {\n",
       "        clearInterval(timer);\n",
       "        embed_document(root);\n",
       "      } else if (document.readyState == \"complete\") {\n",
       "        attempts++;\n",
       "        if (attempts > 200) {\n",
       "          clearInterval(timer);\n",
       "\t  var Bokeh = get_bokeh(root)\n",
       "\t  if (Bokeh == null || Bokeh.Panel == null) {\n",
       "            console.warn(\"Panel: ERROR: Unable to run Panel code because Bokeh or Panel library is missing\");\n",
       "\t  } else {\n",
       "\t    console.warn(\"Panel: WARNING: Attempting to render but not all required libraries could be resolved.\")\n",
       "\t    embed_document(root)\n",
       "\t  }\n",
       "        }\n",
       "      }\n",
       "    }, 25, root)\n",
       "  }\n",
       "})(window);</script>"
      ],
      "text/plain": [
       ":NdOverlay   [Variable]\n",
       "   :Scatter   [limit]   (value)"
      ]
     },
     "execution_count": 8,
     "metadata": {
      "application/vnd.holoviews_exec.v0+json": {
       "id": "c4445179-765c-4300-bb81-d17297778a7a"
      }
     },
     "output_type": "execute_result"
    }
   ],
   "source": [
    "pl.DataFrame(data).hvplot(x=\"limit\", kind=\"scatter\", grid=True, width=900, height=600)"
   ]
  }
 ],
 "metadata": {
  "kernelspec": {
   "display_name": "tsdb-benchmarks",
   "language": "python",
   "name": "python3"
  },
  "language_info": {
   "codemirror_mode": {
    "name": "ipython",
    "version": 3
   },
   "file_extension": ".py",
   "mimetype": "text/x-python",
   "name": "python",
   "nbconvert_exporter": "python",
   "pygments_lexer": "ipython3",
   "version": "3.12.10"
  }
 },
 "nbformat": 4,
 "nbformat_minor": 5
}
