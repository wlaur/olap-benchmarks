{
 "cells": [
  {
   "cell_type": "code",
   "execution_count": 1,
   "id": "e3412e50",
   "metadata": {},
   "outputs": [],
   "source": [
    "# ruff: noqa: F401"
   ]
  },
  {
   "cell_type": "code",
   "execution_count": 2,
   "id": "8a3e3f1b",
   "metadata": {},
   "outputs": [],
   "source": [
    "%load_ext autoreload\n",
    "%load_ext pyinstrument\n",
    "\n",
    "%autoreload 2"
   ]
  },
  {
   "cell_type": "code",
   "execution_count": 3,
   "id": "315aee92",
   "metadata": {},
   "outputs": [],
   "source": [
    "import sys\n",
    "\n",
    "sys.path.insert(0, \"..\")"
   ]
  },
  {
   "cell_type": "code",
   "execution_count": 4,
   "id": "faec9070",
   "metadata": {},
   "outputs": [],
   "source": [
    "from datetime import datetime, timedelta\n",
    "from pathlib import Path\n",
    "\n",
    "import numpy as np\n",
    "import polars as pl"
   ]
  },
  {
   "cell_type": "code",
   "execution_count": 21,
   "id": "b4344362",
   "metadata": {},
   "outputs": [
    {
     "data": {
      "text/html": [
       "<div><style>\n",
       ".dataframe > thead > tr,\n",
       ".dataframe > tbody > tr {\n",
       "  text-align: right;\n",
       "  white-space: pre-wrap;\n",
       "}\n",
       "</style>\n",
       "<small>shape: (6, 5)</small><table border=\"1\" class=\"dataframe\"><thead><tr><th>id</th><th>val</th><th>time</th><th>on_off</th><th>dbl</th></tr><tr><td>i32</td><td>f32</td><td>datetime[ns]</td><td>bool</td><td>f64</td></tr></thead><tbody><tr><td>1</td><td>1.0</td><td>null</td><td>true</td><td>null</td></tr><tr><td>2</td><td>null</td><td>null</td><td>true</td><td>null</td></tr><tr><td>3</td><td>2.0</td><td>null</td><td>true</td><td>null</td></tr><tr><td>22</td><td>null</td><td>2025-05-02 12:00:00</td><td>true</td><td>null</td></tr><tr><td>222</td><td>null</td><td>null</td><td>true</td><td>null</td></tr><tr><td>223</td><td>null</td><td>null</td><td>false</td><td>null</td></tr></tbody></table></div>"
      ],
      "text/plain": [
       "shape: (6, 5)\n",
       "┌─────┬──────┬─────────────────────┬────────┬──────┐\n",
       "│ id  ┆ val  ┆ time                ┆ on_off ┆ dbl  │\n",
       "│ --- ┆ ---  ┆ ---                 ┆ ---    ┆ ---  │\n",
       "│ i32 ┆ f32  ┆ datetime[ns]        ┆ bool   ┆ f64  │\n",
       "╞═════╪══════╪═════════════════════╪════════╪══════╡\n",
       "│ 1   ┆ 1.0  ┆ null                ┆ true   ┆ null │\n",
       "│ 2   ┆ null ┆ null                ┆ true   ┆ null │\n",
       "│ 3   ┆ 2.0  ┆ null                ┆ true   ┆ null │\n",
       "│ 22  ┆ null ┆ 2025-05-02 12:00:00 ┆ true   ┆ null │\n",
       "│ 222 ┆ null ┆ null                ┆ true   ┆ null │\n",
       "│ 223 ┆ null ┆ null                ┆ false  ┆ null │\n",
       "└─────┴──────┴─────────────────────┴────────┴──────┘"
      ]
     },
     "execution_count": 21,
     "metadata": {},
     "output_type": "execute_result"
    }
   ],
   "source": [
    "from tsdb_benchmarks.monetdb import MonetDB\n",
    "\n",
    "db = MonetDB()\n",
    "\n",
    "\n",
    "db.fetch(\"select * from test\")"
   ]
  },
  {
   "cell_type": "code",
   "execution_count": null,
   "id": "e210bc4f",
   "metadata": {},
   "outputs": [],
   "source": []
  },
  {
   "cell_type": "code",
   "execution_count": null,
   "id": "a5f5bf33",
   "metadata": {},
   "outputs": [],
   "source": []
  },
  {
   "cell_type": "code",
   "execution_count": null,
   "id": "f9cc92a1",
   "metadata": {},
   "outputs": [],
   "source": []
  },
  {
   "cell_type": "code",
   "execution_count": null,
   "id": "31214444",
   "metadata": {},
   "outputs": [],
   "source": []
  },
  {
   "cell_type": "code",
   "execution_count": null,
   "id": "6d5eeaa3",
   "metadata": {},
   "outputs": [],
   "source": []
  },
  {
   "cell_type": "code",
   "execution_count": null,
   "id": "86970671",
   "metadata": {},
   "outputs": [],
   "source": []
  },
  {
   "cell_type": "code",
   "execution_count": null,
   "id": "de1616e0",
   "metadata": {},
   "outputs": [],
   "source": []
  },
  {
   "cell_type": "code",
   "execution_count": null,
   "id": "1d732a14",
   "metadata": {},
   "outputs": [],
   "source": []
  },
  {
   "cell_type": "code",
   "execution_count": null,
   "id": "60957f39",
   "metadata": {},
   "outputs": [],
   "source": []
  },
  {
   "cell_type": "code",
   "execution_count": null,
   "id": "38125fbb",
   "metadata": {},
   "outputs": [],
   "source": []
  },
  {
   "cell_type": "code",
   "execution_count": null,
   "id": "e00b096e",
   "metadata": {},
   "outputs": [],
   "source": []
  },
  {
   "cell_type": "code",
   "execution_count": null,
   "id": "6a372807",
   "metadata": {},
   "outputs": [],
   "source": []
  },
  {
   "cell_type": "code",
   "execution_count": null,
   "id": "9681df42",
   "metadata": {},
   "outputs": [],
   "source": []
  },
  {
   "cell_type": "code",
   "execution_count": null,
   "id": "8d44c57f",
   "metadata": {},
   "outputs": [],
   "source": []
  },
  {
   "cell_type": "code",
   "execution_count": null,
   "id": "067b2887",
   "metadata": {},
   "outputs": [],
   "source": []
  },
  {
   "cell_type": "code",
   "execution_count": null,
   "id": "3fc62ef6",
   "metadata": {},
   "outputs": [],
   "source": []
  },
  {
   "cell_type": "code",
   "execution_count": null,
   "id": "24b7edd4",
   "metadata": {},
   "outputs": [],
   "source": []
  }
 ],
 "metadata": {
  "kernelspec": {
   "display_name": "tsdb-benchmarks",
   "language": "python",
   "name": "python3"
  },
  "language_info": {
   "codemirror_mode": {
    "name": "ipython",
    "version": 3
   },
   "file_extension": ".py",
   "mimetype": "text/x-python",
   "name": "python",
   "nbconvert_exporter": "python",
   "pygments_lexer": "ipython3",
   "version": "3.12.10"
  }
 },
 "nbformat": 4,
 "nbformat_minor": 5
}
