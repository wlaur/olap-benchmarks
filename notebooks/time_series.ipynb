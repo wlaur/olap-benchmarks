{
 "cells": [
  {
   "cell_type": "code",
   "execution_count": 1,
   "id": "e3412e50",
   "metadata": {},
   "outputs": [],
   "source": [
    "# ruff: noqa: F401"
   ]
  },
  {
   "cell_type": "code",
   "execution_count": 2,
   "id": "8a3e3f1b",
   "metadata": {},
   "outputs": [],
   "source": [
    "%load_ext autoreload\n",
    "%load_ext pyinstrument\n",
    "\n",
    "%autoreload 2"
   ]
  },
  {
   "cell_type": "code",
   "execution_count": 3,
   "id": "315aee92",
   "metadata": {},
   "outputs": [],
   "source": [
    "import sys\n",
    "\n",
    "sys.path.insert(0, \"..\")"
   ]
  },
  {
   "cell_type": "code",
   "execution_count": 4,
   "id": "4bc370ac",
   "metadata": {},
   "outputs": [
    {
     "data": {
      "text/plain": [
       "True"
      ]
     },
     "execution_count": 4,
     "metadata": {},
     "output_type": "execute_result"
    }
   ],
   "source": [
    "from dotenv import load_dotenv\n",
    "\n",
    "load_dotenv()"
   ]
  },
  {
   "cell_type": "code",
   "execution_count": 5,
   "id": "faec9070",
   "metadata": {},
   "outputs": [
    {
     "data": {
      "text/html": [
       "<script type=\"esms-options\">{\"shimMode\": true}</script><style>*[data-root-id],\n",
       "*[data-root-id] > * {\n",
       "  box-sizing: border-box;\n",
       "  font-family: var(--jp-ui-font-family);\n",
       "  font-size: var(--jp-ui-font-size1);\n",
       "  color: var(--vscode-editor-foreground, var(--jp-ui-font-color1));\n",
       "}\n",
       "\n",
       "/* Override VSCode background color */\n",
       ".cell-output-ipywidget-background:has(\n",
       "    > .cell-output-ipywidget-background > .lm-Widget > *[data-root-id]\n",
       "  ),\n",
       ".cell-output-ipywidget-background:has(> .lm-Widget > *[data-root-id]) {\n",
       "  background-color: transparent !important;\n",
       "}\n",
       "</style>"
      ]
     },
     "metadata": {},
     "output_type": "display_data"
    },
    {
     "data": {
      "application/javascript": "(function(root) {\n  function now() {\n    return new Date();\n  }\n\n  const force = true;\n  const py_version = '3.7.3'.replace('rc', '-rc.').replace('.dev', '-dev.');\n  const reloading = false;\n  const Bokeh = root.Bokeh;\n\n  // Set a timeout for this load but only if we are not already initializing\n  if (typeof (root._bokeh_timeout) === \"undefined\" || (force || !root._bokeh_is_initializing)) {\n    root._bokeh_timeout = Date.now() + 5000;\n    root._bokeh_failed_load = false;\n  }\n\n  function run_callbacks() {\n    try {\n      root._bokeh_onload_callbacks.forEach(function(callback) {\n        if (callback != null)\n          callback();\n      });\n    } finally {\n      delete root._bokeh_onload_callbacks;\n    }\n    console.debug(\"Bokeh: all callbacks have finished\");\n  }\n\n  function load_libs(css_urls, js_urls, js_modules, js_exports, callback) {\n    if (css_urls == null) css_urls = [];\n    if (js_urls == null) js_urls = [];\n    if (js_modules == null) js_modules = [];\n    if (js_exports == null) js_exports = {};\n\n    root._bokeh_onload_callbacks.push(callback);\n\n    if (root._bokeh_is_loading > 0) {\n      // Don't load bokeh if it is still initializing\n      console.debug(\"Bokeh: BokehJS is being loaded, scheduling callback at\", now());\n      return null;\n    } else if (js_urls.length === 0 && js_modules.length === 0 && Object.keys(js_exports).length === 0) {\n      // There is nothing to load\n      run_callbacks();\n      return null;\n    }\n\n    function on_load() {\n      root._bokeh_is_loading--;\n      if (root._bokeh_is_loading === 0) {\n        console.debug(\"Bokeh: all BokehJS libraries/stylesheets loaded\");\n        run_callbacks()\n      }\n    }\n    window._bokeh_on_load = on_load\n\n    function on_error(e) {\n      const src_el = e.srcElement\n      console.error(\"failed to load \" + (src_el.href || src_el.src));\n    }\n\n    const skip = [];\n    if (window.requirejs) {\n      window.requirejs.config({'packages': {}, 'paths': {}, 'shim': {}});\n      root._bokeh_is_loading = css_urls.length + 0;\n    } else {\n      root._bokeh_is_loading = css_urls.length + js_urls.length + js_modules.length + Object.keys(js_exports).length;\n    }\n\n    const existing_stylesheets = []\n    const links = document.getElementsByTagName('link')\n    for (let i = 0; i < links.length; i++) {\n      const link = links[i]\n      if (link.href != null) {\n        existing_stylesheets.push(link.href)\n      }\n    }\n    for (let i = 0; i < css_urls.length; i++) {\n      const url = css_urls[i];\n      const escaped = encodeURI(url)\n      if (existing_stylesheets.indexOf(escaped) !== -1) {\n        on_load()\n        continue;\n      }\n      const element = document.createElement(\"link\");\n      element.onload = on_load;\n      element.onerror = on_error;\n      element.rel = \"stylesheet\";\n      element.type = \"text/css\";\n      element.href = url;\n      console.debug(\"Bokeh: injecting link tag for BokehJS stylesheet: \", url);\n      document.body.appendChild(element);\n    }    var existing_scripts = []\n    const scripts = document.getElementsByTagName('script')\n    for (let i = 0; i < scripts.length; i++) {\n      var script = scripts[i]\n      if (script.src != null) {\n        existing_scripts.push(script.src)\n      }\n    }\n    for (let i = 0; i < js_urls.length; i++) {\n      const url = js_urls[i];\n      const escaped = encodeURI(url)\n      if (skip.indexOf(escaped) !== -1 || existing_scripts.indexOf(escaped) !== -1) {\n        if (!window.requirejs) {\n          on_load();\n        }\n        continue;\n      }\n      const element = document.createElement('script');\n      element.onload = on_load;\n      element.onerror = on_error;\n      element.async = false;\n      element.src = url;\n      console.debug(\"Bokeh: injecting script tag for BokehJS library: \", url);\n      document.head.appendChild(element);\n    }\n    for (let i = 0; i < js_modules.length; i++) {\n      const url = js_modules[i];\n      const escaped = encodeURI(url)\n      if (skip.indexOf(escaped) !== -1 || existing_scripts.indexOf(escaped) !== -1) {\n        if (!window.requirejs) {\n          on_load();\n        }\n        continue;\n      }\n      var element = document.createElement('script');\n      element.onload = on_load;\n      element.onerror = on_error;\n      element.async = false;\n      element.src = url;\n      element.type = \"module\";\n      console.debug(\"Bokeh: injecting script tag for BokehJS library: \", url);\n      document.head.appendChild(element);\n    }\n    for (const name in js_exports) {\n      const url = js_exports[name];\n      const escaped = encodeURI(url)\n      if (skip.indexOf(escaped) >= 0 || root[name] != null) {\n        if (!window.requirejs) {\n          on_load();\n        }\n        continue;\n      }\n      var element = document.createElement('script');\n      element.onerror = on_error;\n      element.async = false;\n      element.type = \"module\";\n      console.debug(\"Bokeh: injecting script tag for BokehJS library: \", url);\n      element.textContent = `\n      import ${name} from \"${url}\"\n      window.${name} = ${name}\n      window._bokeh_on_load()\n      `\n      document.head.appendChild(element);\n    }\n    if (!js_urls.length && !js_modules.length) {\n      on_load()\n    }\n  };\n\n  function inject_raw_css(css) {\n    const element = document.createElement(\"style\");\n    element.appendChild(document.createTextNode(css));\n    document.body.appendChild(element);\n  }\n\n  const js_urls = [\"https://cdn.holoviz.org/panel/1.7.2/dist/bundled/reactiveesm/es-module-shims@^1.10.0/dist/es-module-shims.min.js\", \"https://cdn.bokeh.org/bokeh/release/bokeh-3.7.3.min.js\", \"https://cdn.bokeh.org/bokeh/release/bokeh-gl-3.7.3.min.js\", \"https://cdn.bokeh.org/bokeh/release/bokeh-widgets-3.7.3.min.js\", \"https://cdn.bokeh.org/bokeh/release/bokeh-tables-3.7.3.min.js\", \"https://cdn.holoviz.org/panel/1.7.2/dist/panel.min.js\"];\n  const js_modules = [];\n  const js_exports = {};\n  const css_urls = [];\n  const inline_js = [    function(Bokeh) {\n      Bokeh.set_log_level(\"info\");\n    },\nfunction(Bokeh) {} // ensure no trailing comma for IE\n  ];\n\n  function run_inline_js() {\n    if ((root.Bokeh !== undefined) || (force === true)) {\n      for (let i = 0; i < inline_js.length; i++) {\n        try {\n          inline_js[i].call(root, root.Bokeh);\n        } catch(e) {\n          if (!reloading) {\n            throw e;\n          }\n        }\n      }\n      // Cache old bokeh versions\n      if (Bokeh != undefined && !reloading) {\n        var NewBokeh = root.Bokeh;\n        if (Bokeh.versions === undefined) {\n          Bokeh.versions = new Map();\n        }\n        if (NewBokeh.version !== Bokeh.version) {\n          Bokeh.versions.set(NewBokeh.version, NewBokeh)\n        }\n        root.Bokeh = Bokeh;\n      }\n    } else if (Date.now() < root._bokeh_timeout) {\n      setTimeout(run_inline_js, 100);\n    } else if (!root._bokeh_failed_load) {\n      console.log(\"Bokeh: BokehJS failed to load within specified timeout.\");\n      root._bokeh_failed_load = true;\n    }\n    root._bokeh_is_initializing = false\n  }\n\n  function load_or_wait() {\n    // Implement a backoff loop that tries to ensure we do not load multiple\n    // versions of Bokeh and its dependencies at the same time.\n    // In recent versions we use the root._bokeh_is_initializing flag\n    // to determine whether there is an ongoing attempt to initialize\n    // bokeh, however for backward compatibility we also try to ensure\n    // that we do not start loading a newer (Panel>=1.0 and Bokeh>3) version\n    // before older versions are fully initialized.\n    if (root._bokeh_is_initializing && Date.now() > root._bokeh_timeout) {\n      // If the timeout and bokeh was not successfully loaded we reset\n      // everything and try loading again\n      root._bokeh_timeout = Date.now() + 5000;\n      root._bokeh_is_initializing = false;\n      root._bokeh_onload_callbacks = undefined;\n      root._bokeh_is_loading = 0\n      console.log(\"Bokeh: BokehJS was loaded multiple times but one version failed to initialize.\");\n      load_or_wait();\n    } else if (root._bokeh_is_initializing || (typeof root._bokeh_is_initializing === \"undefined\" && root._bokeh_onload_callbacks !== undefined)) {\n      setTimeout(load_or_wait, 100);\n    } else {\n      root._bokeh_is_initializing = true\n      root._bokeh_onload_callbacks = []\n      const bokeh_loaded = root.Bokeh != null && (root.Bokeh.version === py_version || (root.Bokeh.versions !== undefined && root.Bokeh.versions.has(py_version)));\n      if (!reloading && !bokeh_loaded) {\n        if (root.Bokeh) {\n          root.Bokeh = undefined;\n        }\n        console.debug(\"Bokeh: BokehJS not loaded, scheduling load and callback at\", now());\n      }\n      load_libs(css_urls, js_urls, js_modules, js_exports, function() {\n        console.debug(\"Bokeh: BokehJS plotting callback run at\", now());\n        run_inline_js();\n      });\n    }\n  }\n  // Give older versions of the autoload script a head-start to ensure\n  // they initialize before we start loading newer version.\n  setTimeout(load_or_wait, 100)\n}(window));",
      "application/vnd.holoviews_load.v0+json": ""
     },
     "metadata": {},
     "output_type": "display_data"
    },
    {
     "data": {
      "application/javascript": "\nif ((window.PyViz === undefined) || (window.PyViz instanceof HTMLElement)) {\n  window.PyViz = {comms: {}, comm_status:{}, kernels:{}, receivers: {}, plot_index: []}\n}\n\n\n    function JupyterCommManager() {\n    }\n\n    JupyterCommManager.prototype.register_target = function(plot_id, comm_id, msg_handler) {\n      if (window.comm_manager || ((window.Jupyter !== undefined) && (Jupyter.notebook.kernel != null))) {\n        var comm_manager = window.comm_manager || Jupyter.notebook.kernel.comm_manager;\n        comm_manager.register_target(comm_id, function(comm) {\n          comm.on_msg(msg_handler);\n        });\n      } else if ((plot_id in window.PyViz.kernels) && (window.PyViz.kernels[plot_id])) {\n        window.PyViz.kernels[plot_id].registerCommTarget(comm_id, function(comm) {\n          comm.onMsg = msg_handler;\n        });\n      } else if (typeof google != 'undefined' && google.colab.kernel != null) {\n        google.colab.kernel.comms.registerTarget(comm_id, (comm) => {\n          var messages = comm.messages[Symbol.asyncIterator]();\n          function processIteratorResult(result) {\n            var message = result.value;\n            var content = {data: message.data, comm_id};\n            var buffers = []\n            for (var buffer of message.buffers || []) {\n              buffers.push(new DataView(buffer))\n            }\n            var metadata = message.metadata || {};\n            var msg = {content, buffers, metadata}\n            msg_handler(msg);\n            return messages.next().then(processIteratorResult);\n          }\n          return messages.next().then(processIteratorResult);\n        })\n      }\n    }\n\n    JupyterCommManager.prototype.get_client_comm = function(plot_id, comm_id, msg_handler) {\n      if (comm_id in window.PyViz.comms) {\n        return window.PyViz.comms[comm_id];\n      } else if (window.comm_manager || ((window.Jupyter !== undefined) && (Jupyter.notebook.kernel != null))) {\n        var comm_manager = window.comm_manager || Jupyter.notebook.kernel.comm_manager;\n        var comm = comm_manager.new_comm(comm_id, {}, {}, {}, comm_id);\n        if (msg_handler) {\n          comm.on_msg(msg_handler);\n        }\n      } else if ((plot_id in window.PyViz.kernels) && (window.PyViz.kernels[plot_id])) {\n        var comm = window.PyViz.kernels[plot_id].connectToComm(comm_id);\n        let retries = 0;\n        const open = () => {\n          if (comm.active) {\n            comm.open();\n          } else if (retries > 3) {\n            console.warn('Comm target never activated')\n          } else {\n            retries += 1\n            setTimeout(open, 500)\n          }\n        }\n        if (comm.active) {\n          comm.open();\n        } else {\n          setTimeout(open, 500)\n        }\n        if (msg_handler) {\n          comm.onMsg = msg_handler;\n        }\n      } else if (typeof google != 'undefined' && google.colab.kernel != null) {\n        var comm_promise = google.colab.kernel.comms.open(comm_id)\n        comm_promise.then((comm) => {\n          window.PyViz.comms[comm_id] = comm;\n          if (msg_handler) {\n            var messages = comm.messages[Symbol.asyncIterator]();\n            function processIteratorResult(result) {\n              var message = result.value;\n              var content = {data: message.data};\n              var metadata = message.metadata || {comm_id};\n              var msg = {content, metadata}\n              msg_handler(msg);\n              return messages.next().then(processIteratorResult);\n            }\n            return messages.next().then(processIteratorResult);\n          }\n        })\n        var sendClosure = (data, metadata, buffers, disposeOnDone) => {\n          return comm_promise.then((comm) => {\n            comm.send(data, metadata, buffers, disposeOnDone);\n          });\n        };\n        var comm = {\n          send: sendClosure\n        };\n      }\n      window.PyViz.comms[comm_id] = comm;\n      return comm;\n    }\n    window.PyViz.comm_manager = new JupyterCommManager();\n    \n\n\nvar JS_MIME_TYPE = 'application/javascript';\nvar HTML_MIME_TYPE = 'text/html';\nvar EXEC_MIME_TYPE = 'application/vnd.holoviews_exec.v0+json';\nvar CLASS_NAME = 'output';\n\n/**\n * Render data to the DOM node\n */\nfunction render(props, node) {\n  var div = document.createElement(\"div\");\n  var script = document.createElement(\"script\");\n  node.appendChild(div);\n  node.appendChild(script);\n}\n\n/**\n * Handle when a new output is added\n */\nfunction handle_add_output(event, handle) {\n  var output_area = handle.output_area;\n  var output = handle.output;\n  if ((output.data == undefined) || (!output.data.hasOwnProperty(EXEC_MIME_TYPE))) {\n    return\n  }\n  var id = output.metadata[EXEC_MIME_TYPE][\"id\"];\n  var toinsert = output_area.element.find(\".\" + CLASS_NAME.split(' ')[0]);\n  if (id !== undefined) {\n    var nchildren = toinsert.length;\n    var html_node = toinsert[nchildren-1].children[0];\n    html_node.innerHTML = output.data[HTML_MIME_TYPE];\n    var scripts = [];\n    var nodelist = html_node.querySelectorAll(\"script\");\n    for (var i in nodelist) {\n      if (nodelist.hasOwnProperty(i)) {\n        scripts.push(nodelist[i])\n      }\n    }\n\n    scripts.forEach( function (oldScript) {\n      var newScript = document.createElement(\"script\");\n      var attrs = [];\n      var nodemap = oldScript.attributes;\n      for (var j in nodemap) {\n        if (nodemap.hasOwnProperty(j)) {\n          attrs.push(nodemap[j])\n        }\n      }\n      attrs.forEach(function(attr) { newScript.setAttribute(attr.name, attr.value) });\n      newScript.appendChild(document.createTextNode(oldScript.innerHTML));\n      oldScript.parentNode.replaceChild(newScript, oldScript);\n    });\n    if (JS_MIME_TYPE in output.data) {\n      toinsert[nchildren-1].children[1].textContent = output.data[JS_MIME_TYPE];\n    }\n    output_area._hv_plot_id = id;\n    if ((window.Bokeh !== undefined) && (id in Bokeh.index)) {\n      window.PyViz.plot_index[id] = Bokeh.index[id];\n    } else {\n      window.PyViz.plot_index[id] = null;\n    }\n  } else if (output.metadata[EXEC_MIME_TYPE][\"server_id\"] !== undefined) {\n    var bk_div = document.createElement(\"div\");\n    bk_div.innerHTML = output.data[HTML_MIME_TYPE];\n    var script_attrs = bk_div.children[0].attributes;\n    for (var i = 0; i < script_attrs.length; i++) {\n      toinsert[toinsert.length - 1].childNodes[1].setAttribute(script_attrs[i].name, script_attrs[i].value);\n    }\n    // store reference to server id on output_area\n    output_area._bokeh_server_id = output.metadata[EXEC_MIME_TYPE][\"server_id\"];\n  }\n}\n\n/**\n * Handle when an output is cleared or removed\n */\nfunction handle_clear_output(event, handle) {\n  var id = handle.cell.output_area._hv_plot_id;\n  var server_id = handle.cell.output_area._bokeh_server_id;\n  if (((id === undefined) || !(id in PyViz.plot_index)) && (server_id !== undefined)) { return; }\n  var comm = window.PyViz.comm_manager.get_client_comm(\"hv-extension-comm\", \"hv-extension-comm\", function () {});\n  if (server_id !== null) {\n    comm.send({event_type: 'server_delete', 'id': server_id});\n    return;\n  } else if (comm !== null) {\n    comm.send({event_type: 'delete', 'id': id});\n  }\n  delete PyViz.plot_index[id];\n  if ((window.Bokeh !== undefined) & (id in window.Bokeh.index)) {\n    var doc = window.Bokeh.index[id].model.document\n    doc.clear();\n    const i = window.Bokeh.documents.indexOf(doc);\n    if (i > -1) {\n      window.Bokeh.documents.splice(i, 1);\n    }\n  }\n}\n\n/**\n * Handle kernel restart event\n */\nfunction handle_kernel_cleanup(event, handle) {\n  delete PyViz.comms[\"hv-extension-comm\"];\n  window.PyViz.plot_index = {}\n}\n\n/**\n * Handle update_display_data messages\n */\nfunction handle_update_output(event, handle) {\n  handle_clear_output(event, {cell: {output_area: handle.output_area}})\n  handle_add_output(event, handle)\n}\n\nfunction register_renderer(events, OutputArea) {\n  function append_mime(data, metadata, element) {\n    // create a DOM node to render to\n    var toinsert = this.create_output_subarea(\n    metadata,\n    CLASS_NAME,\n    EXEC_MIME_TYPE\n    );\n    this.keyboard_manager.register_events(toinsert);\n    // Render to node\n    var props = {data: data, metadata: metadata[EXEC_MIME_TYPE]};\n    render(props, toinsert[0]);\n    element.append(toinsert);\n    return toinsert\n  }\n\n  events.on('output_added.OutputArea', handle_add_output);\n  events.on('output_updated.OutputArea', handle_update_output);\n  events.on('clear_output.CodeCell', handle_clear_output);\n  events.on('delete.Cell', handle_clear_output);\n  events.on('kernel_ready.Kernel', handle_kernel_cleanup);\n\n  OutputArea.prototype.register_mime_type(EXEC_MIME_TYPE, append_mime, {\n    safe: true,\n    index: 0\n  });\n}\n\nif (window.Jupyter !== undefined) {\n  try {\n    var events = require('base/js/events');\n    var OutputArea = require('notebook/js/outputarea').OutputArea;\n    if (OutputArea.prototype.mime_types().indexOf(EXEC_MIME_TYPE) == -1) {\n      register_renderer(events, OutputArea);\n    }\n  } catch(err) {\n  }\n}\n",
      "application/vnd.holoviews_load.v0+json": ""
     },
     "metadata": {},
     "output_type": "display_data"
    },
    {
     "data": {
      "application/vnd.holoviews_exec.v0+json": "",
      "text/html": [
       "<div id='8eb86a68-e828-4ea6-af8e-7f0566a10860'>\n",
       "  <div id=\"d5b56b9a-6baa-43d5-8b50-ff5e94de2516\" data-root-id=\"8eb86a68-e828-4ea6-af8e-7f0566a10860\" style=\"display: contents;\"></div>\n",
       "</div>\n",
       "<script type=\"application/javascript\">(function(root) {\n",
       "  var docs_json = {\"fbabb78c-5045-4532-81fb-eddcb73826cb\":{\"version\":\"3.7.3\",\"title\":\"Bokeh Application\",\"roots\":[{\"type\":\"object\",\"name\":\"panel.models.browser.BrowserInfo\",\"id\":\"8eb86a68-e828-4ea6-af8e-7f0566a10860\"},{\"type\":\"object\",\"name\":\"panel.models.comm_manager.CommManager\",\"id\":\"df710c0c-57da-45a9-91c9-e30209d0aba8\",\"attributes\":{\"plot_id\":\"8eb86a68-e828-4ea6-af8e-7f0566a10860\",\"comm_id\":\"67addbac2a9d4014a14313601b66e552\",\"client_comm_id\":\"5a1be9db867446feb08087b8aeb778f0\"}}],\"defs\":[{\"type\":\"model\",\"name\":\"ReactiveHTML1\"},{\"type\":\"model\",\"name\":\"FlexBox1\",\"properties\":[{\"name\":\"align_content\",\"kind\":\"Any\",\"default\":\"flex-start\"},{\"name\":\"align_items\",\"kind\":\"Any\",\"default\":\"flex-start\"},{\"name\":\"flex_direction\",\"kind\":\"Any\",\"default\":\"row\"},{\"name\":\"flex_wrap\",\"kind\":\"Any\",\"default\":\"wrap\"},{\"name\":\"gap\",\"kind\":\"Any\",\"default\":\"\"},{\"name\":\"justify_content\",\"kind\":\"Any\",\"default\":\"flex-start\"}]},{\"type\":\"model\",\"name\":\"FloatPanel1\",\"properties\":[{\"name\":\"config\",\"kind\":\"Any\",\"default\":{\"type\":\"map\"}},{\"name\":\"contained\",\"kind\":\"Any\",\"default\":true},{\"name\":\"position\",\"kind\":\"Any\",\"default\":\"right-top\"},{\"name\":\"offsetx\",\"kind\":\"Any\",\"default\":null},{\"name\":\"offsety\",\"kind\":\"Any\",\"default\":null},{\"name\":\"theme\",\"kind\":\"Any\",\"default\":\"primary\"},{\"name\":\"status\",\"kind\":\"Any\",\"default\":\"normalized\"}]},{\"type\":\"model\",\"name\":\"GridStack1\",\"properties\":[{\"name\":\"ncols\",\"kind\":\"Any\",\"default\":null},{\"name\":\"nrows\",\"kind\":\"Any\",\"default\":null},{\"name\":\"allow_resize\",\"kind\":\"Any\",\"default\":true},{\"name\":\"allow_drag\",\"kind\":\"Any\",\"default\":true},{\"name\":\"state\",\"kind\":\"Any\",\"default\":[]}]},{\"type\":\"model\",\"name\":\"drag1\",\"properties\":[{\"name\":\"slider_width\",\"kind\":\"Any\",\"default\":5},{\"name\":\"slider_color\",\"kind\":\"Any\",\"default\":\"black\"},{\"name\":\"value\",\"kind\":\"Any\",\"default\":50}]},{\"type\":\"model\",\"name\":\"click1\",\"properties\":[{\"name\":\"terminal_output\",\"kind\":\"Any\",\"default\":\"\"},{\"name\":\"debug_name\",\"kind\":\"Any\",\"default\":\"\"},{\"name\":\"clears\",\"kind\":\"Any\",\"default\":0}]},{\"type\":\"model\",\"name\":\"ReactiveESM1\",\"properties\":[{\"name\":\"esm_constants\",\"kind\":\"Any\",\"default\":{\"type\":\"map\"}}]},{\"type\":\"model\",\"name\":\"JSComponent1\",\"properties\":[{\"name\":\"esm_constants\",\"kind\":\"Any\",\"default\":{\"type\":\"map\"}}]},{\"type\":\"model\",\"name\":\"ReactComponent1\",\"properties\":[{\"name\":\"use_shadow_dom\",\"kind\":\"Any\",\"default\":true},{\"name\":\"esm_constants\",\"kind\":\"Any\",\"default\":{\"type\":\"map\"}}]},{\"type\":\"model\",\"name\":\"AnyWidgetComponent1\",\"properties\":[{\"name\":\"use_shadow_dom\",\"kind\":\"Any\",\"default\":true},{\"name\":\"esm_constants\",\"kind\":\"Any\",\"default\":{\"type\":\"map\"}}]},{\"type\":\"model\",\"name\":\"FastWrapper1\",\"properties\":[{\"name\":\"object\",\"kind\":\"Any\",\"default\":null},{\"name\":\"style\",\"kind\":\"Any\",\"default\":null}]},{\"type\":\"model\",\"name\":\"NotificationArea1\",\"properties\":[{\"name\":\"js_events\",\"kind\":\"Any\",\"default\":{\"type\":\"map\"}},{\"name\":\"max_notifications\",\"kind\":\"Any\",\"default\":5},{\"name\":\"notifications\",\"kind\":\"Any\",\"default\":[]},{\"name\":\"position\",\"kind\":\"Any\",\"default\":\"bottom-right\"},{\"name\":\"_clear\",\"kind\":\"Any\",\"default\":0},{\"name\":\"types\",\"kind\":\"Any\",\"default\":[{\"type\":\"map\",\"entries\":[[\"type\",\"warning\"],[\"background\",\"#ffc107\"],[\"icon\",{\"type\":\"map\",\"entries\":[[\"className\",\"fas fa-exclamation-triangle\"],[\"tagName\",\"i\"],[\"color\",\"white\"]]}]]},{\"type\":\"map\",\"entries\":[[\"type\",\"info\"],[\"background\",\"#007bff\"],[\"icon\",{\"type\":\"map\",\"entries\":[[\"className\",\"fas fa-info-circle\"],[\"tagName\",\"i\"],[\"color\",\"white\"]]}]]}]}]},{\"type\":\"model\",\"name\":\"Notification\",\"properties\":[{\"name\":\"background\",\"kind\":\"Any\",\"default\":null},{\"name\":\"duration\",\"kind\":\"Any\",\"default\":3000},{\"name\":\"icon\",\"kind\":\"Any\",\"default\":null},{\"name\":\"message\",\"kind\":\"Any\",\"default\":\"\"},{\"name\":\"notification_type\",\"kind\":\"Any\",\"default\":null},{\"name\":\"_rendered\",\"kind\":\"Any\",\"default\":false},{\"name\":\"_destroyed\",\"kind\":\"Any\",\"default\":false}]},{\"type\":\"model\",\"name\":\"TemplateActions1\",\"properties\":[{\"name\":\"open_modal\",\"kind\":\"Any\",\"default\":0},{\"name\":\"close_modal\",\"kind\":\"Any\",\"default\":0}]},{\"type\":\"model\",\"name\":\"BootstrapTemplateActions1\",\"properties\":[{\"name\":\"open_modal\",\"kind\":\"Any\",\"default\":0},{\"name\":\"close_modal\",\"kind\":\"Any\",\"default\":0}]},{\"type\":\"model\",\"name\":\"TemplateEditor1\",\"properties\":[{\"name\":\"layout\",\"kind\":\"Any\",\"default\":[]}]},{\"type\":\"model\",\"name\":\"MaterialTemplateActions1\",\"properties\":[{\"name\":\"open_modal\",\"kind\":\"Any\",\"default\":0},{\"name\":\"close_modal\",\"kind\":\"Any\",\"default\":0}]},{\"type\":\"model\",\"name\":\"request_value1\",\"properties\":[{\"name\":\"fill\",\"kind\":\"Any\",\"default\":\"none\"},{\"name\":\"_synced\",\"kind\":\"Any\",\"default\":null},{\"name\":\"_request_sync\",\"kind\":\"Any\",\"default\":0}]},{\"type\":\"model\",\"name\":\"holoviews.plotting.bokeh.raster.HoverModel\",\"properties\":[{\"name\":\"xy\",\"kind\":\"Any\",\"default\":null},{\"name\":\"data\",\"kind\":\"Any\",\"default\":null}]}]}};\n",
       "  var render_items = [{\"docid\":\"fbabb78c-5045-4532-81fb-eddcb73826cb\",\"roots\":{\"8eb86a68-e828-4ea6-af8e-7f0566a10860\":\"d5b56b9a-6baa-43d5-8b50-ff5e94de2516\"},\"root_ids\":[\"8eb86a68-e828-4ea6-af8e-7f0566a10860\"]}];\n",
       "  var docs = Object.values(docs_json)\n",
       "  if (!docs) {\n",
       "    return\n",
       "  }\n",
       "  const py_version = docs[0].version.replace('rc', '-rc.').replace('.dev', '-dev.')\n",
       "  async function embed_document(root) {\n",
       "    var Bokeh = get_bokeh(root)\n",
       "    await Bokeh.embed.embed_items_notebook(docs_json, render_items);\n",
       "    for (const render_item of render_items) {\n",
       "      for (const root_id of render_item.root_ids) {\n",
       "\tconst id_el = document.getElementById(root_id)\n",
       "\tif (id_el.children.length && id_el.children[0].hasAttribute('data-root-id')) {\n",
       "\t  const root_el = id_el.children[0]\n",
       "\t  root_el.id = root_el.id + '-rendered'\n",
       "\t  for (const child of root_el.children) {\n",
       "            // Ensure JupyterLab does not capture keyboard shortcuts\n",
       "            // see: https://jupyterlab.readthedocs.io/en/4.1.x/extension/notebook.html#keyboard-interaction-model\n",
       "\t    child.setAttribute('data-lm-suppress-shortcuts', 'true')\n",
       "\t  }\n",
       "\t}\n",
       "      }\n",
       "    }\n",
       "  }\n",
       "  function get_bokeh(root) {\n",
       "    if (root.Bokeh === undefined) {\n",
       "      return null\n",
       "    } else if (root.Bokeh.version !== py_version) {\n",
       "      if (root.Bokeh.versions === undefined || !root.Bokeh.versions.has(py_version)) {\n",
       "\treturn null\n",
       "      }\n",
       "      return root.Bokeh.versions.get(py_version);\n",
       "    } else if (root.Bokeh.version === py_version) {\n",
       "      return root.Bokeh\n",
       "    }\n",
       "    return null\n",
       "  }\n",
       "  function is_loaded(root) {\n",
       "    var Bokeh = get_bokeh(root)\n",
       "    return (Bokeh != null && Bokeh.Panel !== undefined)\n",
       "  }\n",
       "  if (is_loaded(root)) {\n",
       "    embed_document(root);\n",
       "  } else {\n",
       "    var attempts = 0;\n",
       "    var timer = setInterval(function(root) {\n",
       "      if (is_loaded(root)) {\n",
       "        clearInterval(timer);\n",
       "        embed_document(root);\n",
       "      } else if (document.readyState == \"complete\") {\n",
       "        attempts++;\n",
       "        if (attempts > 200) {\n",
       "          clearInterval(timer);\n",
       "\t  var Bokeh = get_bokeh(root)\n",
       "\t  if (Bokeh == null || Bokeh.Panel == null) {\n",
       "            console.warn(\"Panel: ERROR: Unable to run Panel code because Bokeh or Panel library is missing\");\n",
       "\t  } else {\n",
       "\t    console.warn(\"Panel: WARNING: Attempting to render but not all required libraries could be resolved.\")\n",
       "\t    embed_document(root)\n",
       "\t  }\n",
       "        }\n",
       "      }\n",
       "    }, 25, root)\n",
       "  }\n",
       "})(window);</script>"
      ]
     },
     "metadata": {
      "application/vnd.holoviews_exec.v0+json": {
       "id": "8eb86a68-e828-4ea6-af8e-7f0566a10860"
      }
     },
     "output_type": "display_data"
    }
   ],
   "source": [
    "from datetime import datetime, timedelta\n",
    "from pathlib import Path\n",
    "\n",
    "import hvplot.polars\n",
    "import numpy as np\n",
    "import polars as pl\n",
    "from sqlalchemy import text"
   ]
  },
  {
   "cell_type": "code",
   "execution_count": 6,
   "id": "6c96e543",
   "metadata": {},
   "outputs": [],
   "source": [
    "from tsdb_benchmarks.dbs.utils import drop_table"
   ]
  },
  {
   "cell_type": "code",
   "execution_count": 7,
   "id": "11fee878",
   "metadata": {},
   "outputs": [],
   "source": [
    "from tsdb_benchmarks.dbs.clickhouse import Clickhouse\n",
    "from tsdb_benchmarks.dbs.duckdb import DuckDB\n",
    "from tsdb_benchmarks.dbs.monetdb import MonetDB\n",
    "from tsdb_benchmarks.dbs.monetdb.settings import SETTINGS as MONETDB_SETTINGS\n",
    "from tsdb_benchmarks.dbs.timescaledb import TimescaleDB\n",
    "from tsdb_benchmarks.settings import REPO_ROOT, setup_stdout_logging\n",
    "\n",
    "setup_stdout_logging()\n",
    "\n",
    "monetdb = MonetDB()\n",
    "duckdb = DuckDB()\n",
    "clickhouse = Clickhouse()\n",
    "timescaledb = TimescaleDB()\n",
    "\n",
    "# RTA bench has heavy queries that do not return much data, avoid using binary\n",
    "# fetch since this emits a \"... limit 1\" query to determine the result schema\n",
    "MONETDB_SETTINGS.default_fetch_method = \"pymonetdb\""
   ]
  },
  {
   "cell_type": "code",
   "execution_count": 8,
   "id": "ee07f451",
   "metadata": {},
   "outputs": [],
   "source": [
    "queries_dir = REPO_ROOT / \"tsdb_benchmarks/suites/time_series/queries\"\n",
    "\n",
    "\n",
    "def load_query(name: str, db: str) -> str:\n",
    "    with (queries_dir / f\"{db}/{name}.sql\").open() as f:\n",
    "        return f.read()"
   ]
  },
  {
   "cell_type": "code",
   "execution_count": 9,
   "id": "2a95f1d4",
   "metadata": {},
   "outputs": [
    {
     "data": {
      "text/plain": [
       "{'data_small_wide': PosixPath('/Users/williamlauren/repos/tsdb-benchmarks/data/input/time_series/data_wide_0.2M_0.1k.parquet'),\n",
       " 'data_large_wide': PosixPath('/Users/williamlauren/repos/tsdb-benchmarks/data/input/time_series/data_wide_2.0M_0.1k.parquet'),\n",
       " 'data_small_eav': PosixPath('/Users/williamlauren/repos/tsdb-benchmarks/data/input/time_series/data_eav_0.2M_0.1k.parquet'),\n",
       " 'data_large_eav': PosixPath('/Users/williamlauren/repos/tsdb-benchmarks/data/input/time_series/data_eav_2.0M_0.1k.parquet')}"
      ]
     },
     "execution_count": 9,
     "metadata": {},
     "output_type": "execute_result"
    }
   ],
   "source": [
    "from tsdb_benchmarks.suites.time_series.config import get_time_series_input_files\n",
    "\n",
    "get_time_series_input_files()"
   ]
  },
  {
   "cell_type": "code",
   "execution_count": 10,
   "id": "4a109e3f",
   "metadata": {},
   "outputs": [],
   "source": [
    "df_small = pl.read_parquet(\"../data/input/time_series/data_wide_0.2M_0.1k.parquet\")"
   ]
  },
  {
   "cell_type": "code",
   "execution_count": 11,
   "id": "dfafd6ba",
   "metadata": {},
   "outputs": [],
   "source": [
    "df_large = pl.read_parquet(\"../data/input/time_series/data_wide_2.0M_0.1k.parquet\")"
   ]
  },
  {
   "cell_type": "code",
   "execution_count": 12,
   "id": "01b606fa",
   "metadata": {},
   "outputs": [
    {
     "data": {
      "text/html": [
       "<div><style>\n",
       ".dataframe > thead > tr,\n",
       ".dataframe > tbody > tr {\n",
       "  text-align: right;\n",
       "  white-space: pre-wrap;\n",
       "}\n",
       "</style>\n",
       "<small>shape: (2_000_000, 101)</small><table border=\"1\" class=\"dataframe\"><thead><tr><th>time</th><th>process_4</th><th>binary_3</th><th>process_18</th><th>deviation_3</th><th>process_77</th><th>binary_5</th><th>process_80</th><th>process_5</th><th>process_16</th><th>process_2</th><th>ratio_1</th><th>process_75</th><th>process_11</th><th>process_20</th><th>process_9</th><th>process_60</th><th>deviation_1</th><th>process_58</th><th>process_36</th><th>ratio_2</th><th>process_82</th><th>process_63</th><th>process_28</th><th>process_23</th><th>process_31</th><th>process_40</th><th>process_10</th><th>process_42</th><th>binary_4</th><th>process_41</th><th>process_59</th><th>process_45</th><th>process_1</th><th>process_34</th><th>process_35</th><th>process_47</th><th>&hellip;</th><th>process_73</th><th>process_29</th><th>process_44</th><th>process_53</th><th>process_27</th><th>process_33</th><th>process_21</th><th>process_67</th><th>process_14</th><th>process_25</th><th>process_69</th><th>process_55</th><th>process_70</th><th>process_6</th><th>process_85</th><th>deviation_4</th><th>process_65</th><th>process_19</th><th>process_22</th><th>process_46</th><th>process_57</th><th>process_50</th><th>deviation_5</th><th>process_79</th><th>ratio_5</th><th>process_52</th><th>process_81</th><th>ratio_4</th><th>process_13</th><th>process_17</th><th>process_61</th><th>process_8</th><th>process_78</th><th>process_32</th><th>binary_2</th><th>process_30</th><th>process_71</th></tr><tr><td>datetime[ms]</td><td>f32</td><td>bool</td><td>f32</td><td>f32</td><td>f32</td><td>bool</td><td>f32</td><td>f32</td><td>f32</td><td>f32</td><td>f32</td><td>f32</td><td>f32</td><td>f32</td><td>f32</td><td>f32</td><td>f32</td><td>f32</td><td>f32</td><td>f32</td><td>f32</td><td>f32</td><td>f32</td><td>f32</td><td>f32</td><td>f32</td><td>f32</td><td>f32</td><td>bool</td><td>f32</td><td>f32</td><td>f32</td><td>f32</td><td>f32</td><td>f32</td><td>f32</td><td>&hellip;</td><td>f32</td><td>f32</td><td>f32</td><td>f32</td><td>f32</td><td>f32</td><td>f32</td><td>f32</td><td>f32</td><td>f32</td><td>f32</td><td>f32</td><td>f32</td><td>f32</td><td>f32</td><td>f32</td><td>f32</td><td>f32</td><td>f32</td><td>f32</td><td>f32</td><td>f32</td><td>f32</td><td>f32</td><td>f32</td><td>f32</td><td>f32</td><td>f32</td><td>f32</td><td>f32</td><td>f32</td><td>f32</td><td>f32</td><td>f32</td><td>bool</td><td>f32</td><td>f32</td></tr></thead><tbody><tr><td>2021-03-14 02:41:00</td><td>485.821716</td><td>true</td><td>1108.630493</td><td>47.008812</td><td>131.541687</td><td>true</td><td>548.409302</td><td>658.197144</td><td>314.258911</td><td>842.423462</td><td>0.432263</td><td>970.02533</td><td>680.001526</td><td>937.692627</td><td>304.989441</td><td>268.193756</td><td>2.547028</td><td>717.441711</td><td>82.419861</td><td>0.386208</td><td>319.937653</td><td>1177.31958</td><td>511.813354</td><td>46.82671</td><td>378.628143</td><td>568.57196</td><td>621.558716</td><td>287.461761</td><td>true</td><td>324.238342</td><td>1002.618347</td><td>92.309639</td><td>935.960083</td><td>353.983185</td><td>631.037903</td><td>1199.821411</td><td>&hellip;</td><td>53.613346</td><td>384.458649</td><td>172.204636</td><td>1219.653198</td><td>757.058655</td><td>722.962097</td><td>47.651703</td><td>336.545135</td><td>631.689331</td><td>859.0672</td><td>276.390015</td><td>362.175964</td><td>603.493042</td><td>219.548126</td><td>228.796921</td><td>-27.712986</td><td>161.994293</td><td>641.684814</td><td>120.486954</td><td>857.649109</td><td>439.147522</td><td>137.868835</td><td>20.741936</td><td>65.606194</td><td>0.80898</td><td>1067.872314</td><td>856.603271</td><td>0.626373</td><td>216.607437</td><td>115.473526</td><td>895.805359</td><td>52.682476</td><td>55.478359</td><td>604.682983</td><td>true</td><td>413.30658</td><td>374.90799</td></tr><tr><td>2021-03-14 02:42:00</td><td>485.822601</td><td>true</td><td>1108.517578</td><td>-34.569168</td><td>131.363495</td><td>true</td><td>548.425171</td><td>658.196045</td><td>314.10498</td><td>842.657593</td><td>0.339784</td><td>971.118103</td><td>679.955627</td><td>937.423706</td><td>305.102966</td><td>268.276947</td><td>14.069798</td><td>717.573547</td><td>82.558601</td><td>0.217332</td><td>319.788513</td><td>1176.930786</td><td>512.149902</td><td>47.15242</td><td>378.741669</td><td>569.078552</td><td>621.689819</td><td>287.539368</td><td>false</td><td>324.29538</td><td>1002.635071</td><td>92.434975</td><td>935.391174</td><td>353.669739</td><td>630.695312</td><td>1200.146851</td><td>&hellip;</td><td>53.431297</td><td>384.512146</td><td>171.921906</td><td>1219.351807</td><td>757.070862</td><td>722.926086</td><td>47.649639</td><td>336.409546</td><td>631.615723</td><td>858.490601</td><td>276.977356</td><td>362.256927</td><td>603.441833</td><td>219.450958</td><td>228.641769</td><td>20.682272</td><td>162.05397</td><td>641.497192</td><td>120.39119</td><td>857.812805</td><td>438.69223</td><td>137.964325</td><td>-24.241034</td><td>65.515366</td><td>0.864773</td><td>1067.831055</td><td>856.840942</td><td>0.492569</td><td>216.316544</td><td>115.279549</td><td>895.531555</td><td>52.473701</td><td>55.354897</td><td>604.448364</td><td>true</td><td>413.428009</td><td>374.858337</td></tr><tr><td>2021-03-14 02:43:00</td><td>485.916626</td><td>true</td><td>1108.944336</td><td>-38.76989</td><td>131.48494</td><td>true</td><td>548.638062</td><td>657.918213</td><td>314.416901</td><td>842.698608</td><td>0.60675</td><td>971.241333</td><td>679.836304</td><td>937.723572</td><td>305.037048</td><td>268.313202</td><td>11.697422</td><td>718.093323</td><td>82.366768</td><td>0.343206</td><td>319.917633</td><td>1177.300293</td><td>511.783051</td><td>47.128326</td><td>379.076538</td><td>568.971802</td><td>621.57666</td><td>287.479523</td><td>false</td><td>324.448944</td><td>1002.581665</td><td>92.515366</td><td>935.906921</td><td>353.442596</td><td>630.907166</td><td>1200.220703</td><td>&hellip;</td><td>53.703094</td><td>384.858032</td><td>172.097549</td><td>1219.702026</td><td>757.216125</td><td>722.616516</td><td>47.696045</td><td>336.404053</td><td>631.560608</td><td>858.858826</td><td>276.808594</td><td>362.283081</td><td>603.507019</td><td>219.595291</td><td>228.838699</td><td>23.453012</td><td>162.228119</td><td>641.705444</td><td>120.533836</td><td>857.660828</td><td>438.821106</td><td>138.23999</td><td>4.194476</td><td>65.178398</td><td>0.392867</td><td>1067.305664</td><td>856.40155</td><td>0.546515</td><td>216.773361</td><td>114.921165</td><td>895.774719</td><td>52.832581</td><td>55.4002</td><td>604.172668</td><td>true</td><td>413.444183</td><td>375.21283</td></tr><tr><td>2021-03-14 02:44:00</td><td>485.618896</td><td>true</td><td>1109.101807</td><td>-35.69651</td><td>131.327667</td><td>true</td><td>548.372864</td><td>657.949036</td><td>314.267273</td><td>842.524963</td><td>0.277884</td><td>971.627319</td><td>680.019836</td><td>937.799316</td><td>304.937836</td><td>268.099426</td><td>-8.082939</td><td>717.5849</td><td>82.508179</td><td>0.591075</td><td>319.723877</td><td>1177.268921</td><td>511.701691</td><td>46.971649</td><td>379.070007</td><td>568.8526</td><td>621.675659</td><td>287.529694</td><td>false</td><td>324.61322</td><td>1002.936768</td><td>92.519821</td><td>936.021057</td><td>353.82373</td><td>630.760071</td><td>1200.13501</td><td>&hellip;</td><td>53.570976</td><td>384.619415</td><td>171.865982</td><td>1219.033203</td><td>756.975159</td><td>722.869812</td><td>47.637463</td><td>336.543335</td><td>631.512878</td><td>858.918213</td><td>276.912598</td><td>362.21109</td><td>603.556885</td><td>219.526901</td><td>228.868668</td><td>-18.219637</td><td>162.21701</td><td>641.749573</td><td>120.314804</td><td>857.745117</td><td>439.012207</td><td>137.821671</td><td>4.612097</td><td>66.038033</td><td>0.561163</td><td>1067.327026</td><td>855.931885</td><td>0.277347</td><td>216.807053</td><td>114.945869</td><td>895.532593</td><td>52.606487</td><td>55.451141</td><td>604.297668</td><td>true</td><td>413.294403</td><td>375.023407</td></tr><tr><td>2021-03-14 02:45:00</td><td>485.513062</td><td>true</td><td>1108.724365</td><td>-25.140057</td><td>131.60498</td><td>false</td><td>548.630859</td><td>658.384766</td><td>314.387573</td><td>842.851196</td><td>0.21806</td><td>970.559875</td><td>679.820557</td><td>937.324951</td><td>305.102509</td><td>267.920044</td><td>20.833717</td><td>717.584412</td><td>82.489235</td><td>0.361235</td><td>319.601929</td><td>1177.370239</td><td>511.723206</td><td>46.941574</td><td>378.765015</td><td>568.676086</td><td>621.719299</td><td>287.541046</td><td>false</td><td>324.563446</td><td>1002.651611</td><td>92.499702</td><td>935.848755</td><td>353.843262</td><td>630.834167</td><td>1200.15564</td><td>&hellip;</td><td>53.563679</td><td>384.781311</td><td>171.995346</td><td>1220.013306</td><td>757.169373</td><td>723.136597</td><td>47.778</td><td>336.355011</td><td>631.575134</td><td>859.250244</td><td>276.061859</td><td>362.256622</td><td>603.613281</td><td>219.386841</td><td>228.664062</td><td>-28.543644</td><td>162.271469</td><td>641.575317</td><td>120.449127</td><td>858.078186</td><td>438.971802</td><td>137.718018</td><td>47.837975</td><td>65.641342</td><td>0.128614</td><td>1067.208374</td><td>856.526489</td><td>0.499716</td><td>216.53595</td><td>114.839867</td><td>895.730103</td><td>52.609272</td><td>55.351124</td><td>604.650024</td><td>true</td><td>413.457184</td><td>375.128723</td></tr><tr><td>&hellip;</td><td>&hellip;</td><td>&hellip;</td><td>&hellip;</td><td>&hellip;</td><td>&hellip;</td><td>&hellip;</td><td>&hellip;</td><td>&hellip;</td><td>&hellip;</td><td>&hellip;</td><td>&hellip;</td><td>&hellip;</td><td>&hellip;</td><td>&hellip;</td><td>&hellip;</td><td>&hellip;</td><td>&hellip;</td><td>&hellip;</td><td>&hellip;</td><td>&hellip;</td><td>&hellip;</td><td>&hellip;</td><td>&hellip;</td><td>&hellip;</td><td>&hellip;</td><td>&hellip;</td><td>&hellip;</td><td>&hellip;</td><td>&hellip;</td><td>&hellip;</td><td>&hellip;</td><td>&hellip;</td><td>&hellip;</td><td>&hellip;</td><td>&hellip;</td><td>&hellip;</td><td>&hellip;</td><td>&hellip;</td><td>&hellip;</td><td>&hellip;</td><td>&hellip;</td><td>&hellip;</td><td>&hellip;</td><td>&hellip;</td><td>&hellip;</td><td>&hellip;</td><td>&hellip;</td><td>&hellip;</td><td>&hellip;</td><td>&hellip;</td><td>&hellip;</td><td>&hellip;</td><td>&hellip;</td><td>&hellip;</td><td>&hellip;</td><td>&hellip;</td><td>&hellip;</td><td>&hellip;</td><td>&hellip;</td><td>&hellip;</td><td>&hellip;</td><td>&hellip;</td><td>&hellip;</td><td>&hellip;</td><td>&hellip;</td><td>&hellip;</td><td>&hellip;</td><td>&hellip;</td><td>&hellip;</td><td>&hellip;</td><td>&hellip;</td><td>&hellip;</td><td>&hellip;</td><td>&hellip;</td></tr><tr><td>2024-12-31 23:56:00</td><td>485.092865</td><td>true</td><td>1111.635986</td><td>90.325363</td><td>131.100998</td><td>true</td><td>548.242432</td><td>657.617859</td><td>313.565186</td><td>842.94635</td><td>0.585904</td><td>969.069153</td><td>680.10675</td><td>936.77478</td><td>305.624847</td><td>267.811676</td><td>7.845583</td><td>718.27887</td><td>81.828987</td><td>0.563133</td><td>320.365875</td><td>1179.09729</td><td>509.970551</td><td>46.805637</td><td>377.744232</td><td>567.578308</td><td>619.948364</td><td>287.583282</td><td>false</td><td>326.267365</td><td>1000.201477</td><td>92.357475</td><td>935.91156</td><td>352.631775</td><td>631.868225</td><td>1198.72937</td><td>&hellip;</td><td>53.19957</td><td>384.707733</td><td>171.813263</td><td>1221.231689</td><td>756.940247</td><td>722.504211</td><td>47.545219</td><td>336.56485</td><td>632.050293</td><td>860.640442</td><td>278.304016</td><td>362.12381</td><td>603.691711</td><td>218.849426</td><td>228.887665</td><td>-21.310846</td><td>162.508621</td><td>640.858154</td><td>120.326363</td><td>859.543274</td><td>438.874908</td><td>137.555695</td><td>-6.650695</td><td>65.429947</td><td>0.513371</td><td>1067.546753</td><td>858.126953</td><td>0.342444</td><td>217.931595</td><td>115.151726</td><td>895.676697</td><td>52.073128</td><td>55.236908</td><td>603.435974</td><td>false</td><td>413.637085</td><td>374.504669</td></tr><tr><td>2024-12-31 23:57:00</td><td>485.048035</td><td>true</td><td>1111.472168</td><td>81.677345</td><td>131.265244</td><td>true</td><td>548.693054</td><td>657.624207</td><td>313.887207</td><td>842.961365</td><td>0.250814</td><td>969.627014</td><td>680.188538</td><td>936.828491</td><td>305.366638</td><td>267.946869</td><td>-22.278625</td><td>717.62085</td><td>81.854668</td><td>0.572889</td><td>320.731445</td><td>1178.759277</td><td>509.922211</td><td>46.837074</td><td>377.987518</td><td>567.307068</td><td>619.838013</td><td>287.51062</td><td>false</td><td>326.036316</td><td>1000.42511</td><td>92.22496</td><td>936.064514</td><td>352.661011</td><td>631.509338</td><td>1198.493774</td><td>&hellip;</td><td>53.367378</td><td>384.641235</td><td>171.487473</td><td>1221.80896</td><td>756.935913</td><td>722.130066</td><td>47.592033</td><td>336.534851</td><td>631.853943</td><td>860.475891</td><td>278.146515</td><td>362.146088</td><td>603.64093</td><td>219.012894</td><td>229.183853</td><td>29.834541</td><td>162.304031</td><td>640.838257</td><td>120.271606</td><td>859.70282</td><td>438.763977</td><td>137.617188</td><td>53.21067</td><td>65.25164</td><td>0.63445</td><td>1067.348999</td><td>857.997986</td><td>0.381619</td><td>217.788696</td><td>115.214745</td><td>895.268799</td><td>52.09642</td><td>55.229668</td><td>603.455261</td><td>false</td><td>413.504608</td><td>374.502106</td></tr><tr><td>2024-12-31 23:58:00</td><td>484.909363</td><td>true</td><td>1111.16626</td><td>-15.284688</td><td>131.147903</td><td>false</td><td>547.922363</td><td>657.293701</td><td>313.501099</td><td>843.280945</td><td>0.098205</td><td>969.335144</td><td>679.999146</td><td>936.765442</td><td>305.780792</td><td>267.757416</td><td>-18.500082</td><td>718.139954</td><td>81.716675</td><td>0.4841</td><td>320.574219</td><td>1179.363281</td><td>509.666534</td><td>46.720207</td><td>377.380981</td><td>567.455383</td><td>619.962708</td><td>287.565094</td><td>false</td><td>325.882721</td><td>1000.130066</td><td>92.352005</td><td>935.692078</td><td>352.921448</td><td>631.89386</td><td>1198.351074</td><td>&hellip;</td><td>53.352146</td><td>384.92926</td><td>171.682526</td><td>1222.505737</td><td>757.152039</td><td>722.15686</td><td>47.748512</td><td>336.418518</td><td>631.768555</td><td>860.605591</td><td>277.881134</td><td>362.336365</td><td>603.660461</td><td>219.052917</td><td>228.501083</td><td>-34.113228</td><td>162.396942</td><td>640.561035</td><td>120.075203</td><td>859.291321</td><td>438.611481</td><td>137.556366</td><td>16.74538</td><td>64.791443</td><td>0.818058</td><td>1067.225342</td><td>857.961487</td><td>0.584708</td><td>217.895203</td><td>115.108376</td><td>895.342896</td><td>52.058304</td><td>55.22187</td><td>603.425049</td><td>false</td><td>413.700867</td><td>374.135071</td></tr><tr><td>2024-12-31 23:59:00</td><td>484.791962</td><td>true</td><td>1111.779785</td><td>25.930529</td><td>131.05101</td><td>true</td><td>548.399048</td><td>657.498596</td><td>313.718933</td><td>843.288147</td><td>0.918043</td><td>969.450928</td><td>679.9151</td><td>936.590393</td><td>305.798218</td><td>267.72464</td><td>34.683083</td><td>718.031677</td><td>81.677444</td><td>0.628225</td><td>320.322479</td><td>1178.944946</td><td>509.577576</td><td>46.665371</td><td>378.05658</td><td>566.822205</td><td>620.212952</td><td>287.608521</td><td>false</td><td>326.371704</td><td>1000.426575</td><td>92.190918</td><td>936.003357</td><td>352.629883</td><td>631.908142</td><td>1198.411133</td><td>&hellip;</td><td>53.337471</td><td>384.725739</td><td>172.167816</td><td>1222.002319</td><td>756.993347</td><td>722.466064</td><td>47.437141</td><td>336.406677</td><td>631.499756</td><td>860.695068</td><td>278.022003</td><td>362.1586</td><td>603.528381</td><td>219.014389</td><td>228.855042</td><td>-3.641219</td><td>162.473007</td><td>640.964111</td><td>120.373375</td><td>859.764404</td><td>438.739258</td><td>137.811172</td><td>-25.706581</td><td>65.171341</td><td>0.572051</td><td>1067.419312</td><td>858.378418</td><td>0.566301</td><td>218.159042</td><td>114.851135</td><td>894.91626</td><td>52.37455</td><td>55.424549</td><td>603.430603</td><td>false</td><td>413.505096</td><td>374.373383</td></tr><tr><td>2025-01-01 00:00:00</td><td>485.267334</td><td>false</td><td>1112.204834</td><td>-12.605132</td><td>131.262115</td><td>false</td><td>548.167114</td><td>657.611145</td><td>313.7211</td><td>842.650818</td><td>0.329747</td><td>969.922791</td><td>680.045593</td><td>936.932556</td><td>305.567017</td><td>267.9328</td><td>1.836676</td><td>717.9328</td><td>81.681221</td><td>0.423982</td><td>320.730988</td><td>1179.306885</td><td>509.812378</td><td>46.993507</td><td>377.684387</td><td>567.632019</td><td>619.926147</td><td>287.49472</td><td>false</td><td>326.115265</td><td>999.894714</td><td>92.322784</td><td>935.538147</td><td>352.630585</td><td>631.771606</td><td>1198.770142</td><td>&hellip;</td><td>53.163567</td><td>384.584747</td><td>171.592392</td><td>1221.83374</td><td>756.900146</td><td>722.507385</td><td>47.553692</td><td>336.541443</td><td>631.520264</td><td>860.624512</td><td>278.31601</td><td>362.248322</td><td>603.437378</td><td>218.904099</td><td>229.132629</td><td>-2.980292</td><td>162.289261</td><td>640.796875</td><td>120.128975</td><td>859.687378</td><td>438.668091</td><td>137.445908</td><td>27.276718</td><td>65.496414</td><td>0.328914</td><td>1067.595825</td><td>857.764587</td><td>0.259747</td><td>217.888626</td><td>115.162636</td><td>895.193909</td><td>52.257275</td><td>55.161591</td><td>603.661865</td><td>false</td><td>413.483032</td><td>374.570282</td></tr></tbody></table></div>"
      ],
      "text/plain": [
       "shape: (2_000_000, 101)\n",
       "┌────────────┬───────────┬──────────┬───────────┬───┬───────────┬──────────┬───────────┬───────────┐\n",
       "│ time       ┆ process_4 ┆ binary_3 ┆ process_1 ┆ … ┆ process_3 ┆ binary_2 ┆ process_3 ┆ process_7 │\n",
       "│ ---        ┆ ---       ┆ ---      ┆ 8         ┆   ┆ 2         ┆ ---      ┆ 0         ┆ 1         │\n",
       "│ datetime[m ┆ f32       ┆ bool     ┆ ---       ┆   ┆ ---       ┆ bool     ┆ ---       ┆ ---       │\n",
       "│ s]         ┆           ┆          ┆ f32       ┆   ┆ f32       ┆          ┆ f32       ┆ f32       │\n",
       "╞════════════╪═══════════╪══════════╪═══════════╪═══╪═══════════╪══════════╪═══════════╪═══════════╡\n",
       "│ 2021-03-14 ┆ 485.82171 ┆ true     ┆ 1108.6304 ┆ … ┆ 604.68298 ┆ true     ┆ 413.30658 ┆ 374.90799 │\n",
       "│ 02:41:00   ┆ 6         ┆          ┆ 93        ┆   ┆ 3         ┆          ┆           ┆           │\n",
       "│ 2021-03-14 ┆ 485.82260 ┆ true     ┆ 1108.5175 ┆ … ┆ 604.44836 ┆ true     ┆ 413.42800 ┆ 374.85833 │\n",
       "│ 02:42:00   ┆ 1         ┆          ┆ 78        ┆   ┆ 4         ┆          ┆ 9         ┆ 7         │\n",
       "│ 2021-03-14 ┆ 485.91662 ┆ true     ┆ 1108.9443 ┆ … ┆ 604.17266 ┆ true     ┆ 413.44418 ┆ 375.21283 │\n",
       "│ 02:43:00   ┆ 6         ┆          ┆ 36        ┆   ┆ 8         ┆          ┆ 3         ┆           │\n",
       "│ 2021-03-14 ┆ 485.61889 ┆ true     ┆ 1109.1018 ┆ … ┆ 604.29766 ┆ true     ┆ 413.29440 ┆ 375.02340 │\n",
       "│ 02:44:00   ┆ 6         ┆          ┆ 07        ┆   ┆ 8         ┆          ┆ 3         ┆ 7         │\n",
       "│ 2021-03-14 ┆ 485.51306 ┆ true     ┆ 1108.7243 ┆ … ┆ 604.65002 ┆ true     ┆ 413.45718 ┆ 375.12872 │\n",
       "│ 02:45:00   ┆ 2         ┆          ┆ 65        ┆   ┆ 4         ┆          ┆ 4         ┆ 3         │\n",
       "│ …          ┆ …         ┆ …        ┆ …         ┆ … ┆ …         ┆ …        ┆ …         ┆ …         │\n",
       "│ 2024-12-31 ┆ 485.09286 ┆ true     ┆ 1111.6359 ┆ … ┆ 603.43597 ┆ false    ┆ 413.63708 ┆ 374.50466 │\n",
       "│ 23:56:00   ┆ 5         ┆          ┆ 86        ┆   ┆ 4         ┆          ┆ 5         ┆ 9         │\n",
       "│ 2024-12-31 ┆ 485.04803 ┆ true     ┆ 1111.4721 ┆ … ┆ 603.45526 ┆ false    ┆ 413.50460 ┆ 374.50210 │\n",
       "│ 23:57:00   ┆ 5         ┆          ┆ 68        ┆   ┆ 1         ┆          ┆ 8         ┆ 6         │\n",
       "│ 2024-12-31 ┆ 484.90936 ┆ true     ┆ 1111.1662 ┆ … ┆ 603.42504 ┆ false    ┆ 413.70086 ┆ 374.13507 │\n",
       "│ 23:58:00   ┆ 3         ┆          ┆ 6         ┆   ┆ 9         ┆          ┆ 7         ┆ 1         │\n",
       "│ 2024-12-31 ┆ 484.79196 ┆ true     ┆ 1111.7797 ┆ … ┆ 603.43060 ┆ false    ┆ 413.50509 ┆ 374.37338 │\n",
       "│ 23:59:00   ┆ 2         ┆          ┆ 85        ┆   ┆ 3         ┆          ┆ 6         ┆ 3         │\n",
       "│ 2025-01-01 ┆ 485.26733 ┆ false    ┆ 1112.2048 ┆ … ┆ 603.66186 ┆ false    ┆ 413.48303 ┆ 374.57028 │\n",
       "│ 00:00:00   ┆ 4         ┆          ┆ 34        ┆   ┆ 5         ┆          ┆ 2         ┆ 2         │\n",
       "└────────────┴───────────┴──────────┴───────────┴───┴───────────┴──────────┴───────────┴───────────┘"
      ]
     },
     "execution_count": 12,
     "metadata": {},
     "output_type": "execute_result"
    }
   ],
   "source": [
    "df_large"
   ]
  }
 ],
 "metadata": {
  "kernelspec": {
   "display_name": "tsdb-benchmarks (3.12.10)",
   "language": "python",
   "name": "python3"
  },
  "language_info": {
   "codemirror_mode": {
    "name": "ipython",
    "version": 3
   },
   "file_extension": ".py",
   "mimetype": "text/x-python",
   "name": "python",
   "nbconvert_exporter": "python",
   "pygments_lexer": "ipython3",
   "version": "3.12.10"
  }
 },
 "nbformat": 4,
 "nbformat_minor": 5
}
