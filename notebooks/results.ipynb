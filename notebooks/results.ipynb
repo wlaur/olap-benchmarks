{
 "cells": [
  {
   "cell_type": "code",
   "execution_count": 1,
   "id": "e3412e50",
   "metadata": {},
   "outputs": [],
   "source": [
    "# ruff: noqa: F401, ANN201"
   ]
  },
  {
   "cell_type": "code",
   "execution_count": 2,
   "id": "8a3e3f1b",
   "metadata": {},
   "outputs": [],
   "source": [
    "%load_ext autoreload\n",
    "%load_ext pyinstrument\n",
    "\n",
    "%autoreload 2"
   ]
  },
  {
   "cell_type": "code",
   "execution_count": 3,
   "id": "82b75346",
   "metadata": {},
   "outputs": [
    {
     "data": {
      "text/plain": [
       "True"
      ]
     },
     "execution_count": 3,
     "metadata": {},
     "output_type": "execute_result"
    }
   ],
   "source": [
    "import sys\n",
    "\n",
    "from dotenv import load_dotenv\n",
    "\n",
    "sys.path.insert(0, \"..\")\n",
    "\n",
    "load_dotenv()"
   ]
  },
  {
   "cell_type": "code",
   "execution_count": 4,
   "id": "faec9070",
   "metadata": {},
   "outputs": [
    {
     "data": {
      "text/html": [
       "<script type=\"esms-options\">{\"shimMode\": true}</script><style>*[data-root-id],\n",
       "*[data-root-id] > * {\n",
       "  box-sizing: border-box;\n",
       "  font-family: var(--jp-ui-font-family);\n",
       "  font-size: var(--jp-ui-font-size1);\n",
       "  color: var(--vscode-editor-foreground, var(--jp-ui-font-color1));\n",
       "}\n",
       "\n",
       "/* Override VSCode background color */\n",
       ".cell-output-ipywidget-background:has(\n",
       "    > .cell-output-ipywidget-background > .lm-Widget > *[data-root-id]\n",
       "  ),\n",
       ".cell-output-ipywidget-background:has(> .lm-Widget > *[data-root-id]) {\n",
       "  background-color: transparent !important;\n",
       "}\n",
       "</style>"
      ]
     },
     "metadata": {},
     "output_type": "display_data"
    },
    {
     "data": {
      "application/javascript": "(function(root) {\n  function now() {\n    return new Date();\n  }\n\n  const force = true;\n  const py_version = '3.7.3'.replace('rc', '-rc.').replace('.dev', '-dev.');\n  const reloading = false;\n  const Bokeh = root.Bokeh;\n\n  // Set a timeout for this load but only if we are not already initializing\n  if (typeof (root._bokeh_timeout) === \"undefined\" || (force || !root._bokeh_is_initializing)) {\n    root._bokeh_timeout = Date.now() + 5000;\n    root._bokeh_failed_load = false;\n  }\n\n  function run_callbacks() {\n    try {\n      root._bokeh_onload_callbacks.forEach(function(callback) {\n        if (callback != null)\n          callback();\n      });\n    } finally {\n      delete root._bokeh_onload_callbacks;\n    }\n    console.debug(\"Bokeh: all callbacks have finished\");\n  }\n\n  function load_libs(css_urls, js_urls, js_modules, js_exports, callback) {\n    if (css_urls == null) css_urls = [];\n    if (js_urls == null) js_urls = [];\n    if (js_modules == null) js_modules = [];\n    if (js_exports == null) js_exports = {};\n\n    root._bokeh_onload_callbacks.push(callback);\n\n    if (root._bokeh_is_loading > 0) {\n      // Don't load bokeh if it is still initializing\n      console.debug(\"Bokeh: BokehJS is being loaded, scheduling callback at\", now());\n      return null;\n    } else if (js_urls.length === 0 && js_modules.length === 0 && Object.keys(js_exports).length === 0) {\n      // There is nothing to load\n      run_callbacks();\n      return null;\n    }\n\n    function on_load() {\n      root._bokeh_is_loading--;\n      if (root._bokeh_is_loading === 0) {\n        console.debug(\"Bokeh: all BokehJS libraries/stylesheets loaded\");\n        run_callbacks()\n      }\n    }\n    window._bokeh_on_load = on_load\n\n    function on_error(e) {\n      const src_el = e.srcElement\n      console.error(\"failed to load \" + (src_el.href || src_el.src));\n    }\n\n    const skip = [];\n    if (window.requirejs) {\n      window.requirejs.config({'packages': {}, 'paths': {}, 'shim': {}});\n      root._bokeh_is_loading = css_urls.length + 0;\n    } else {\n      root._bokeh_is_loading = css_urls.length + js_urls.length + js_modules.length + Object.keys(js_exports).length;\n    }\n\n    const existing_stylesheets = []\n    const links = document.getElementsByTagName('link')\n    for (let i = 0; i < links.length; i++) {\n      const link = links[i]\n      if (link.href != null) {\n        existing_stylesheets.push(link.href)\n      }\n    }\n    for (let i = 0; i < css_urls.length; i++) {\n      const url = css_urls[i];\n      const escaped = encodeURI(url)\n      if (existing_stylesheets.indexOf(escaped) !== -1) {\n        on_load()\n        continue;\n      }\n      const element = document.createElement(\"link\");\n      element.onload = on_load;\n      element.onerror = on_error;\n      element.rel = \"stylesheet\";\n      element.type = \"text/css\";\n      element.href = url;\n      console.debug(\"Bokeh: injecting link tag for BokehJS stylesheet: \", url);\n      document.body.appendChild(element);\n    }    var existing_scripts = []\n    const scripts = document.getElementsByTagName('script')\n    for (let i = 0; i < scripts.length; i++) {\n      var script = scripts[i]\n      if (script.src != null) {\n        existing_scripts.push(script.src)\n      }\n    }\n    for (let i = 0; i < js_urls.length; i++) {\n      const url = js_urls[i];\n      const escaped = encodeURI(url)\n      if (skip.indexOf(escaped) !== -1 || existing_scripts.indexOf(escaped) !== -1) {\n        if (!window.requirejs) {\n          on_load();\n        }\n        continue;\n      }\n      const element = document.createElement('script');\n      element.onload = on_load;\n      element.onerror = on_error;\n      element.async = false;\n      element.src = url;\n      console.debug(\"Bokeh: injecting script tag for BokehJS library: \", url);\n      document.head.appendChild(element);\n    }\n    for (let i = 0; i < js_modules.length; i++) {\n      const url = js_modules[i];\n      const escaped = encodeURI(url)\n      if (skip.indexOf(escaped) !== -1 || existing_scripts.indexOf(escaped) !== -1) {\n        if (!window.requirejs) {\n          on_load();\n        }\n        continue;\n      }\n      var element = document.createElement('script');\n      element.onload = on_load;\n      element.onerror = on_error;\n      element.async = false;\n      element.src = url;\n      element.type = \"module\";\n      console.debug(\"Bokeh: injecting script tag for BokehJS library: \", url);\n      document.head.appendChild(element);\n    }\n    for (const name in js_exports) {\n      const url = js_exports[name];\n      const escaped = encodeURI(url)\n      if (skip.indexOf(escaped) >= 0 || root[name] != null) {\n        if (!window.requirejs) {\n          on_load();\n        }\n        continue;\n      }\n      var element = document.createElement('script');\n      element.onerror = on_error;\n      element.async = false;\n      element.type = \"module\";\n      console.debug(\"Bokeh: injecting script tag for BokehJS library: \", url);\n      element.textContent = `\n      import ${name} from \"${url}\"\n      window.${name} = ${name}\n      window._bokeh_on_load()\n      `\n      document.head.appendChild(element);\n    }\n    if (!js_urls.length && !js_modules.length) {\n      on_load()\n    }\n  };\n\n  function inject_raw_css(css) {\n    const element = document.createElement(\"style\");\n    element.appendChild(document.createTextNode(css));\n    document.body.appendChild(element);\n  }\n\n  const js_urls = [\"https://cdn.holoviz.org/panel/1.7.2/dist/bundled/reactiveesm/es-module-shims@^1.10.0/dist/es-module-shims.min.js\", \"https://cdn.bokeh.org/bokeh/release/bokeh-3.7.3.min.js\", \"https://cdn.bokeh.org/bokeh/release/bokeh-gl-3.7.3.min.js\", \"https://cdn.bokeh.org/bokeh/release/bokeh-widgets-3.7.3.min.js\", \"https://cdn.bokeh.org/bokeh/release/bokeh-tables-3.7.3.min.js\", \"https://cdn.holoviz.org/panel/1.7.2/dist/panel.min.js\"];\n  const js_modules = [];\n  const js_exports = {};\n  const css_urls = [];\n  const inline_js = [    function(Bokeh) {\n      Bokeh.set_log_level(\"info\");\n    },\nfunction(Bokeh) {} // ensure no trailing comma for IE\n  ];\n\n  function run_inline_js() {\n    if ((root.Bokeh !== undefined) || (force === true)) {\n      for (let i = 0; i < inline_js.length; i++) {\n        try {\n          inline_js[i].call(root, root.Bokeh);\n        } catch(e) {\n          if (!reloading) {\n            throw e;\n          }\n        }\n      }\n      // Cache old bokeh versions\n      if (Bokeh != undefined && !reloading) {\n        var NewBokeh = root.Bokeh;\n        if (Bokeh.versions === undefined) {\n          Bokeh.versions = new Map();\n        }\n        if (NewBokeh.version !== Bokeh.version) {\n          Bokeh.versions.set(NewBokeh.version, NewBokeh)\n        }\n        root.Bokeh = Bokeh;\n      }\n    } else if (Date.now() < root._bokeh_timeout) {\n      setTimeout(run_inline_js, 100);\n    } else if (!root._bokeh_failed_load) {\n      console.log(\"Bokeh: BokehJS failed to load within specified timeout.\");\n      root._bokeh_failed_load = true;\n    }\n    root._bokeh_is_initializing = false\n  }\n\n  function load_or_wait() {\n    // Implement a backoff loop that tries to ensure we do not load multiple\n    // versions of Bokeh and its dependencies at the same time.\n    // In recent versions we use the root._bokeh_is_initializing flag\n    // to determine whether there is an ongoing attempt to initialize\n    // bokeh, however for backward compatibility we also try to ensure\n    // that we do not start loading a newer (Panel>=1.0 and Bokeh>3) version\n    // before older versions are fully initialized.\n    if (root._bokeh_is_initializing && Date.now() > root._bokeh_timeout) {\n      // If the timeout and bokeh was not successfully loaded we reset\n      // everything and try loading again\n      root._bokeh_timeout = Date.now() + 5000;\n      root._bokeh_is_initializing = false;\n      root._bokeh_onload_callbacks = undefined;\n      root._bokeh_is_loading = 0\n      console.log(\"Bokeh: BokehJS was loaded multiple times but one version failed to initialize.\");\n      load_or_wait();\n    } else if (root._bokeh_is_initializing || (typeof root._bokeh_is_initializing === \"undefined\" && root._bokeh_onload_callbacks !== undefined)) {\n      setTimeout(load_or_wait, 100);\n    } else {\n      root._bokeh_is_initializing = true\n      root._bokeh_onload_callbacks = []\n      const bokeh_loaded = root.Bokeh != null && (root.Bokeh.version === py_version || (root.Bokeh.versions !== undefined && root.Bokeh.versions.has(py_version)));\n      if (!reloading && !bokeh_loaded) {\n        if (root.Bokeh) {\n          root.Bokeh = undefined;\n        }\n        console.debug(\"Bokeh: BokehJS not loaded, scheduling load and callback at\", now());\n      }\n      load_libs(css_urls, js_urls, js_modules, js_exports, function() {\n        console.debug(\"Bokeh: BokehJS plotting callback run at\", now());\n        run_inline_js();\n      });\n    }\n  }\n  // Give older versions of the autoload script a head-start to ensure\n  // they initialize before we start loading newer version.\n  setTimeout(load_or_wait, 100)\n}(window));",
      "application/vnd.holoviews_load.v0+json": ""
     },
     "metadata": {},
     "output_type": "display_data"
    },
    {
     "data": {
      "application/javascript": "\nif ((window.PyViz === undefined) || (window.PyViz instanceof HTMLElement)) {\n  window.PyViz = {comms: {}, comm_status:{}, kernels:{}, receivers: {}, plot_index: []}\n}\n\n\n    function JupyterCommManager() {\n    }\n\n    JupyterCommManager.prototype.register_target = function(plot_id, comm_id, msg_handler) {\n      if (window.comm_manager || ((window.Jupyter !== undefined) && (Jupyter.notebook.kernel != null))) {\n        var comm_manager = window.comm_manager || Jupyter.notebook.kernel.comm_manager;\n        comm_manager.register_target(comm_id, function(comm) {\n          comm.on_msg(msg_handler);\n        });\n      } else if ((plot_id in window.PyViz.kernels) && (window.PyViz.kernels[plot_id])) {\n        window.PyViz.kernels[plot_id].registerCommTarget(comm_id, function(comm) {\n          comm.onMsg = msg_handler;\n        });\n      } else if (typeof google != 'undefined' && google.colab.kernel != null) {\n        google.colab.kernel.comms.registerTarget(comm_id, (comm) => {\n          var messages = comm.messages[Symbol.asyncIterator]();\n          function processIteratorResult(result) {\n            var message = result.value;\n            var content = {data: message.data, comm_id};\n            var buffers = []\n            for (var buffer of message.buffers || []) {\n              buffers.push(new DataView(buffer))\n            }\n            var metadata = message.metadata || {};\n            var msg = {content, buffers, metadata}\n            msg_handler(msg);\n            return messages.next().then(processIteratorResult);\n          }\n          return messages.next().then(processIteratorResult);\n        })\n      }\n    }\n\n    JupyterCommManager.prototype.get_client_comm = function(plot_id, comm_id, msg_handler) {\n      if (comm_id in window.PyViz.comms) {\n        return window.PyViz.comms[comm_id];\n      } else if (window.comm_manager || ((window.Jupyter !== undefined) && (Jupyter.notebook.kernel != null))) {\n        var comm_manager = window.comm_manager || Jupyter.notebook.kernel.comm_manager;\n        var comm = comm_manager.new_comm(comm_id, {}, {}, {}, comm_id);\n        if (msg_handler) {\n          comm.on_msg(msg_handler);\n        }\n      } else if ((plot_id in window.PyViz.kernels) && (window.PyViz.kernels[plot_id])) {\n        var comm = window.PyViz.kernels[plot_id].connectToComm(comm_id);\n        let retries = 0;\n        const open = () => {\n          if (comm.active) {\n            comm.open();\n          } else if (retries > 3) {\n            console.warn('Comm target never activated')\n          } else {\n            retries += 1\n            setTimeout(open, 500)\n          }\n        }\n        if (comm.active) {\n          comm.open();\n        } else {\n          setTimeout(open, 500)\n        }\n        if (msg_handler) {\n          comm.onMsg = msg_handler;\n        }\n      } else if (typeof google != 'undefined' && google.colab.kernel != null) {\n        var comm_promise = google.colab.kernel.comms.open(comm_id)\n        comm_promise.then((comm) => {\n          window.PyViz.comms[comm_id] = comm;\n          if (msg_handler) {\n            var messages = comm.messages[Symbol.asyncIterator]();\n            function processIteratorResult(result) {\n              var message = result.value;\n              var content = {data: message.data};\n              var metadata = message.metadata || {comm_id};\n              var msg = {content, metadata}\n              msg_handler(msg);\n              return messages.next().then(processIteratorResult);\n            }\n            return messages.next().then(processIteratorResult);\n          }\n        })\n        var sendClosure = (data, metadata, buffers, disposeOnDone) => {\n          return comm_promise.then((comm) => {\n            comm.send(data, metadata, buffers, disposeOnDone);\n          });\n        };\n        var comm = {\n          send: sendClosure\n        };\n      }\n      window.PyViz.comms[comm_id] = comm;\n      return comm;\n    }\n    window.PyViz.comm_manager = new JupyterCommManager();\n    \n\n\nvar JS_MIME_TYPE = 'application/javascript';\nvar HTML_MIME_TYPE = 'text/html';\nvar EXEC_MIME_TYPE = 'application/vnd.holoviews_exec.v0+json';\nvar CLASS_NAME = 'output';\n\n/**\n * Render data to the DOM node\n */\nfunction render(props, node) {\n  var div = document.createElement(\"div\");\n  var script = document.createElement(\"script\");\n  node.appendChild(div);\n  node.appendChild(script);\n}\n\n/**\n * Handle when a new output is added\n */\nfunction handle_add_output(event, handle) {\n  var output_area = handle.output_area;\n  var output = handle.output;\n  if ((output.data == undefined) || (!output.data.hasOwnProperty(EXEC_MIME_TYPE))) {\n    return\n  }\n  var id = output.metadata[EXEC_MIME_TYPE][\"id\"];\n  var toinsert = output_area.element.find(\".\" + CLASS_NAME.split(' ')[0]);\n  if (id !== undefined) {\n    var nchildren = toinsert.length;\n    var html_node = toinsert[nchildren-1].children[0];\n    html_node.innerHTML = output.data[HTML_MIME_TYPE];\n    var scripts = [];\n    var nodelist = html_node.querySelectorAll(\"script\");\n    for (var i in nodelist) {\n      if (nodelist.hasOwnProperty(i)) {\n        scripts.push(nodelist[i])\n      }\n    }\n\n    scripts.forEach( function (oldScript) {\n      var newScript = document.createElement(\"script\");\n      var attrs = [];\n      var nodemap = oldScript.attributes;\n      for (var j in nodemap) {\n        if (nodemap.hasOwnProperty(j)) {\n          attrs.push(nodemap[j])\n        }\n      }\n      attrs.forEach(function(attr) { newScript.setAttribute(attr.name, attr.value) });\n      newScript.appendChild(document.createTextNode(oldScript.innerHTML));\n      oldScript.parentNode.replaceChild(newScript, oldScript);\n    });\n    if (JS_MIME_TYPE in output.data) {\n      toinsert[nchildren-1].children[1].textContent = output.data[JS_MIME_TYPE];\n    }\n    output_area._hv_plot_id = id;\n    if ((window.Bokeh !== undefined) && (id in Bokeh.index)) {\n      window.PyViz.plot_index[id] = Bokeh.index[id];\n    } else {\n      window.PyViz.plot_index[id] = null;\n    }\n  } else if (output.metadata[EXEC_MIME_TYPE][\"server_id\"] !== undefined) {\n    var bk_div = document.createElement(\"div\");\n    bk_div.innerHTML = output.data[HTML_MIME_TYPE];\n    var script_attrs = bk_div.children[0].attributes;\n    for (var i = 0; i < script_attrs.length; i++) {\n      toinsert[toinsert.length - 1].childNodes[1].setAttribute(script_attrs[i].name, script_attrs[i].value);\n    }\n    // store reference to server id on output_area\n    output_area._bokeh_server_id = output.metadata[EXEC_MIME_TYPE][\"server_id\"];\n  }\n}\n\n/**\n * Handle when an output is cleared or removed\n */\nfunction handle_clear_output(event, handle) {\n  var id = handle.cell.output_area._hv_plot_id;\n  var server_id = handle.cell.output_area._bokeh_server_id;\n  if (((id === undefined) || !(id in PyViz.plot_index)) && (server_id !== undefined)) { return; }\n  var comm = window.PyViz.comm_manager.get_client_comm(\"hv-extension-comm\", \"hv-extension-comm\", function () {});\n  if (server_id !== null) {\n    comm.send({event_type: 'server_delete', 'id': server_id});\n    return;\n  } else if (comm !== null) {\n    comm.send({event_type: 'delete', 'id': id});\n  }\n  delete PyViz.plot_index[id];\n  if ((window.Bokeh !== undefined) & (id in window.Bokeh.index)) {\n    var doc = window.Bokeh.index[id].model.document\n    doc.clear();\n    const i = window.Bokeh.documents.indexOf(doc);\n    if (i > -1) {\n      window.Bokeh.documents.splice(i, 1);\n    }\n  }\n}\n\n/**\n * Handle kernel restart event\n */\nfunction handle_kernel_cleanup(event, handle) {\n  delete PyViz.comms[\"hv-extension-comm\"];\n  window.PyViz.plot_index = {}\n}\n\n/**\n * Handle update_display_data messages\n */\nfunction handle_update_output(event, handle) {\n  handle_clear_output(event, {cell: {output_area: handle.output_area}})\n  handle_add_output(event, handle)\n}\n\nfunction register_renderer(events, OutputArea) {\n  function append_mime(data, metadata, element) {\n    // create a DOM node to render to\n    var toinsert = this.create_output_subarea(\n    metadata,\n    CLASS_NAME,\n    EXEC_MIME_TYPE\n    );\n    this.keyboard_manager.register_events(toinsert);\n    // Render to node\n    var props = {data: data, metadata: metadata[EXEC_MIME_TYPE]};\n    render(props, toinsert[0]);\n    element.append(toinsert);\n    return toinsert\n  }\n\n  events.on('output_added.OutputArea', handle_add_output);\n  events.on('output_updated.OutputArea', handle_update_output);\n  events.on('clear_output.CodeCell', handle_clear_output);\n  events.on('delete.Cell', handle_clear_output);\n  events.on('kernel_ready.Kernel', handle_kernel_cleanup);\n\n  OutputArea.prototype.register_mime_type(EXEC_MIME_TYPE, append_mime, {\n    safe: true,\n    index: 0\n  });\n}\n\nif (window.Jupyter !== undefined) {\n  try {\n    var events = require('base/js/events');\n    var OutputArea = require('notebook/js/outputarea').OutputArea;\n    if (OutputArea.prototype.mime_types().indexOf(EXEC_MIME_TYPE) == -1) {\n      register_renderer(events, OutputArea);\n    }\n  } catch(err) {\n  }\n}\n",
      "application/vnd.holoviews_load.v0+json": ""
     },
     "metadata": {},
     "output_type": "display_data"
    },
    {
     "data": {
      "application/vnd.holoviews_exec.v0+json": "",
      "text/html": [
       "<div id='a633112d-b5a3-429d-8c5e-9c3f1b9ada38'>\n",
       "  <div id=\"bf1c6993-3985-4600-94b6-71211dbfd3eb\" data-root-id=\"a633112d-b5a3-429d-8c5e-9c3f1b9ada38\" style=\"display: contents;\"></div>\n",
       "</div>\n",
       "<script type=\"application/javascript\">(function(root) {\n",
       "  var docs_json = {\"f15c6363-9469-4b12-8212-a46b7d085e10\":{\"version\":\"3.7.3\",\"title\":\"Bokeh Application\",\"roots\":[{\"type\":\"object\",\"name\":\"panel.models.browser.BrowserInfo\",\"id\":\"a633112d-b5a3-429d-8c5e-9c3f1b9ada38\"},{\"type\":\"object\",\"name\":\"panel.models.comm_manager.CommManager\",\"id\":\"c51e6896-1418-42b4-b8c6-d9b90205fdb8\",\"attributes\":{\"plot_id\":\"a633112d-b5a3-429d-8c5e-9c3f1b9ada38\",\"comm_id\":\"f2347af585474bc9ae0dcee96473e191\",\"client_comm_id\":\"6ad49c1f23ce434baadaadbb1da87d9a\"}}],\"defs\":[{\"type\":\"model\",\"name\":\"ReactiveHTML1\"},{\"type\":\"model\",\"name\":\"FlexBox1\",\"properties\":[{\"name\":\"align_content\",\"kind\":\"Any\",\"default\":\"flex-start\"},{\"name\":\"align_items\",\"kind\":\"Any\",\"default\":\"flex-start\"},{\"name\":\"flex_direction\",\"kind\":\"Any\",\"default\":\"row\"},{\"name\":\"flex_wrap\",\"kind\":\"Any\",\"default\":\"wrap\"},{\"name\":\"gap\",\"kind\":\"Any\",\"default\":\"\"},{\"name\":\"justify_content\",\"kind\":\"Any\",\"default\":\"flex-start\"}]},{\"type\":\"model\",\"name\":\"FloatPanel1\",\"properties\":[{\"name\":\"config\",\"kind\":\"Any\",\"default\":{\"type\":\"map\"}},{\"name\":\"contained\",\"kind\":\"Any\",\"default\":true},{\"name\":\"position\",\"kind\":\"Any\",\"default\":\"right-top\"},{\"name\":\"offsetx\",\"kind\":\"Any\",\"default\":null},{\"name\":\"offsety\",\"kind\":\"Any\",\"default\":null},{\"name\":\"theme\",\"kind\":\"Any\",\"default\":\"primary\"},{\"name\":\"status\",\"kind\":\"Any\",\"default\":\"normalized\"}]},{\"type\":\"model\",\"name\":\"GridStack1\",\"properties\":[{\"name\":\"ncols\",\"kind\":\"Any\",\"default\":null},{\"name\":\"nrows\",\"kind\":\"Any\",\"default\":null},{\"name\":\"allow_resize\",\"kind\":\"Any\",\"default\":true},{\"name\":\"allow_drag\",\"kind\":\"Any\",\"default\":true},{\"name\":\"state\",\"kind\":\"Any\",\"default\":[]}]},{\"type\":\"model\",\"name\":\"drag1\",\"properties\":[{\"name\":\"slider_width\",\"kind\":\"Any\",\"default\":5},{\"name\":\"slider_color\",\"kind\":\"Any\",\"default\":\"black\"},{\"name\":\"value\",\"kind\":\"Any\",\"default\":50}]},{\"type\":\"model\",\"name\":\"click1\",\"properties\":[{\"name\":\"terminal_output\",\"kind\":\"Any\",\"default\":\"\"},{\"name\":\"debug_name\",\"kind\":\"Any\",\"default\":\"\"},{\"name\":\"clears\",\"kind\":\"Any\",\"default\":0}]},{\"type\":\"model\",\"name\":\"ReactiveESM1\",\"properties\":[{\"name\":\"esm_constants\",\"kind\":\"Any\",\"default\":{\"type\":\"map\"}}]},{\"type\":\"model\",\"name\":\"JSComponent1\",\"properties\":[{\"name\":\"esm_constants\",\"kind\":\"Any\",\"default\":{\"type\":\"map\"}}]},{\"type\":\"model\",\"name\":\"ReactComponent1\",\"properties\":[{\"name\":\"use_shadow_dom\",\"kind\":\"Any\",\"default\":true},{\"name\":\"esm_constants\",\"kind\":\"Any\",\"default\":{\"type\":\"map\"}}]},{\"type\":\"model\",\"name\":\"AnyWidgetComponent1\",\"properties\":[{\"name\":\"use_shadow_dom\",\"kind\":\"Any\",\"default\":true},{\"name\":\"esm_constants\",\"kind\":\"Any\",\"default\":{\"type\":\"map\"}}]},{\"type\":\"model\",\"name\":\"FastWrapper1\",\"properties\":[{\"name\":\"object\",\"kind\":\"Any\",\"default\":null},{\"name\":\"style\",\"kind\":\"Any\",\"default\":null}]},{\"type\":\"model\",\"name\":\"NotificationArea1\",\"properties\":[{\"name\":\"js_events\",\"kind\":\"Any\",\"default\":{\"type\":\"map\"}},{\"name\":\"max_notifications\",\"kind\":\"Any\",\"default\":5},{\"name\":\"notifications\",\"kind\":\"Any\",\"default\":[]},{\"name\":\"position\",\"kind\":\"Any\",\"default\":\"bottom-right\"},{\"name\":\"_clear\",\"kind\":\"Any\",\"default\":0},{\"name\":\"types\",\"kind\":\"Any\",\"default\":[{\"type\":\"map\",\"entries\":[[\"type\",\"warning\"],[\"background\",\"#ffc107\"],[\"icon\",{\"type\":\"map\",\"entries\":[[\"className\",\"fas fa-exclamation-triangle\"],[\"tagName\",\"i\"],[\"color\",\"white\"]]}]]},{\"type\":\"map\",\"entries\":[[\"type\",\"info\"],[\"background\",\"#007bff\"],[\"icon\",{\"type\":\"map\",\"entries\":[[\"className\",\"fas fa-info-circle\"],[\"tagName\",\"i\"],[\"color\",\"white\"]]}]]}]}]},{\"type\":\"model\",\"name\":\"Notification\",\"properties\":[{\"name\":\"background\",\"kind\":\"Any\",\"default\":null},{\"name\":\"duration\",\"kind\":\"Any\",\"default\":3000},{\"name\":\"icon\",\"kind\":\"Any\",\"default\":null},{\"name\":\"message\",\"kind\":\"Any\",\"default\":\"\"},{\"name\":\"notification_type\",\"kind\":\"Any\",\"default\":null},{\"name\":\"_rendered\",\"kind\":\"Any\",\"default\":false},{\"name\":\"_destroyed\",\"kind\":\"Any\",\"default\":false}]},{\"type\":\"model\",\"name\":\"TemplateActions1\",\"properties\":[{\"name\":\"open_modal\",\"kind\":\"Any\",\"default\":0},{\"name\":\"close_modal\",\"kind\":\"Any\",\"default\":0}]},{\"type\":\"model\",\"name\":\"BootstrapTemplateActions1\",\"properties\":[{\"name\":\"open_modal\",\"kind\":\"Any\",\"default\":0},{\"name\":\"close_modal\",\"kind\":\"Any\",\"default\":0}]},{\"type\":\"model\",\"name\":\"TemplateEditor1\",\"properties\":[{\"name\":\"layout\",\"kind\":\"Any\",\"default\":[]}]},{\"type\":\"model\",\"name\":\"MaterialTemplateActions1\",\"properties\":[{\"name\":\"open_modal\",\"kind\":\"Any\",\"default\":0},{\"name\":\"close_modal\",\"kind\":\"Any\",\"default\":0}]},{\"type\":\"model\",\"name\":\"request_value1\",\"properties\":[{\"name\":\"fill\",\"kind\":\"Any\",\"default\":\"none\"},{\"name\":\"_synced\",\"kind\":\"Any\",\"default\":null},{\"name\":\"_request_sync\",\"kind\":\"Any\",\"default\":0}]},{\"type\":\"model\",\"name\":\"holoviews.plotting.bokeh.raster.HoverModel\",\"properties\":[{\"name\":\"xy\",\"kind\":\"Any\",\"default\":null},{\"name\":\"data\",\"kind\":\"Any\",\"default\":null}]}]}};\n",
       "  var render_items = [{\"docid\":\"f15c6363-9469-4b12-8212-a46b7d085e10\",\"roots\":{\"a633112d-b5a3-429d-8c5e-9c3f1b9ada38\":\"bf1c6993-3985-4600-94b6-71211dbfd3eb\"},\"root_ids\":[\"a633112d-b5a3-429d-8c5e-9c3f1b9ada38\"]}];\n",
       "  var docs = Object.values(docs_json)\n",
       "  if (!docs) {\n",
       "    return\n",
       "  }\n",
       "  const py_version = docs[0].version.replace('rc', '-rc.').replace('.dev', '-dev.')\n",
       "  async function embed_document(root) {\n",
       "    var Bokeh = get_bokeh(root)\n",
       "    await Bokeh.embed.embed_items_notebook(docs_json, render_items);\n",
       "    for (const render_item of render_items) {\n",
       "      for (const root_id of render_item.root_ids) {\n",
       "\tconst id_el = document.getElementById(root_id)\n",
       "\tif (id_el.children.length && id_el.children[0].hasAttribute('data-root-id')) {\n",
       "\t  const root_el = id_el.children[0]\n",
       "\t  root_el.id = root_el.id + '-rendered'\n",
       "\t  for (const child of root_el.children) {\n",
       "            // Ensure JupyterLab does not capture keyboard shortcuts\n",
       "            // see: https://jupyterlab.readthedocs.io/en/4.1.x/extension/notebook.html#keyboard-interaction-model\n",
       "\t    child.setAttribute('data-lm-suppress-shortcuts', 'true')\n",
       "\t  }\n",
       "\t}\n",
       "      }\n",
       "    }\n",
       "  }\n",
       "  function get_bokeh(root) {\n",
       "    if (root.Bokeh === undefined) {\n",
       "      return null\n",
       "    } else if (root.Bokeh.version !== py_version) {\n",
       "      if (root.Bokeh.versions === undefined || !root.Bokeh.versions.has(py_version)) {\n",
       "\treturn null\n",
       "      }\n",
       "      return root.Bokeh.versions.get(py_version);\n",
       "    } else if (root.Bokeh.version === py_version) {\n",
       "      return root.Bokeh\n",
       "    }\n",
       "    return null\n",
       "  }\n",
       "  function is_loaded(root) {\n",
       "    var Bokeh = get_bokeh(root)\n",
       "    return (Bokeh != null && Bokeh.Panel !== undefined)\n",
       "  }\n",
       "  if (is_loaded(root)) {\n",
       "    embed_document(root);\n",
       "  } else {\n",
       "    var attempts = 0;\n",
       "    var timer = setInterval(function(root) {\n",
       "      if (is_loaded(root)) {\n",
       "        clearInterval(timer);\n",
       "        embed_document(root);\n",
       "      } else if (document.readyState == \"complete\") {\n",
       "        attempts++;\n",
       "        if (attempts > 200) {\n",
       "          clearInterval(timer);\n",
       "\t  var Bokeh = get_bokeh(root)\n",
       "\t  if (Bokeh == null || Bokeh.Panel == null) {\n",
       "            console.warn(\"Panel: ERROR: Unable to run Panel code because Bokeh or Panel library is missing\");\n",
       "\t  } else {\n",
       "\t    console.warn(\"Panel: WARNING: Attempting to render but not all required libraries could be resolved.\")\n",
       "\t    embed_document(root)\n",
       "\t  }\n",
       "        }\n",
       "      }\n",
       "    }, 25, root)\n",
       "  }\n",
       "})(window);</script>"
      ]
     },
     "metadata": {
      "application/vnd.holoviews_exec.v0+json": {
       "id": "a633112d-b5a3-429d-8c5e-9c3f1b9ada38"
      }
     },
     "output_type": "display_data"
    }
   ],
   "source": [
    "from datetime import datetime, timedelta\n",
    "from pathlib import Path\n",
    "\n",
    "import altair as alt\n",
    "import duckdb\n",
    "import hvplot.polars\n",
    "import numpy as np\n",
    "import polars as pl"
   ]
  },
  {
   "cell_type": "code",
   "execution_count": 5,
   "id": "d4b5c1d8",
   "metadata": {},
   "outputs": [],
   "source": [
    "from tsdb_benchmarks.settings import SETTINGS, DatabaseName, Operation, SuiteName"
   ]
  },
  {
   "cell_type": "code",
   "execution_count": 6,
   "id": "2c1e8b5d",
   "metadata": {},
   "outputs": [],
   "source": [
    "db = duckdb.connect(SETTINGS.results_directory / \"results.db\")"
   ]
  },
  {
   "cell_type": "code",
   "execution_count": 7,
   "id": "b9b64e0b",
   "metadata": {},
   "outputs": [
    {
     "data": {
      "text/html": [
       "<div><style>\n",
       ".dataframe > thead > tr,\n",
       ".dataframe > tbody > tr {\n",
       "  text-align: right;\n",
       "  white-space: pre-wrap;\n",
       "}\n",
       "</style>\n",
       "<small>shape: (3, 8)</small><table border=\"1\" class=\"dataframe\"><thead><tr><th>id</th><th>suite</th><th>db</th><th>operation</th><th>started_at</th><th>finished_at</th><th>deleted_at</th><th>notes</th></tr><tr><td>i32</td><td>str</td><td>str</td><td>str</td><td>datetime[μs]</td><td>datetime[μs]</td><td>datetime[μs]</td><td>str</td></tr></thead><tbody><tr><td>1</td><td>&quot;rtabench&quot;</td><td>&quot;duckdb&quot;</td><td>&quot;populate&quot;</td><td>2025-07-18 09:30:03.695574</td><td>2025-07-18 09:31:03.239055</td><td>null</td><td>null</td></tr><tr><td>2</td><td>&quot;rtabench&quot;</td><td>&quot;duckdb&quot;</td><td>&quot;run&quot;</td><td>2025-07-18 09:31:14.367992</td><td>2025-07-18 09:31:19.951452</td><td>null</td><td>null</td></tr><tr><td>3</td><td>&quot;rtabench&quot;</td><td>&quot;duckdb&quot;</td><td>&quot;run&quot;</td><td>2025-07-18 10:06:50.229108</td><td>2025-07-18 10:07:38.298605</td><td>null</td><td>null</td></tr></tbody></table></div>"
      ],
      "text/plain": [
       "shape: (3, 8)\n",
       "┌─────┬──────────┬────────┬───────────┬──────────────────┬──────────────────┬──────────────┬───────┐\n",
       "│ id  ┆ suite    ┆ db     ┆ operation ┆ started_at       ┆ finished_at      ┆ deleted_at   ┆ notes │\n",
       "│ --- ┆ ---      ┆ ---    ┆ ---       ┆ ---              ┆ ---              ┆ ---          ┆ ---   │\n",
       "│ i32 ┆ str      ┆ str    ┆ str       ┆ datetime[μs]     ┆ datetime[μs]     ┆ datetime[μs] ┆ str   │\n",
       "╞═════╪══════════╪════════╪═══════════╪══════════════════╪══════════════════╪══════════════╪═══════╡\n",
       "│ 1   ┆ rtabench ┆ duckdb ┆ populate  ┆ 2025-07-18       ┆ 2025-07-18       ┆ null         ┆ null  │\n",
       "│     ┆          ┆        ┆           ┆ 09:30:03.695574  ┆ 09:31:03.239055  ┆              ┆       │\n",
       "│ 2   ┆ rtabench ┆ duckdb ┆ run       ┆ 2025-07-18       ┆ 2025-07-18       ┆ null         ┆ null  │\n",
       "│     ┆          ┆        ┆           ┆ 09:31:14.367992  ┆ 09:31:19.951452  ┆              ┆       │\n",
       "│ 3   ┆ rtabench ┆ duckdb ┆ run       ┆ 2025-07-18       ┆ 2025-07-18       ┆ null         ┆ null  │\n",
       "│     ┆          ┆        ┆           ┆ 10:06:50.229108  ┆ 10:07:38.298605  ┆              ┆       │\n",
       "└─────┴──────────┴────────┴───────────┴──────────────────┴──────────────────┴──────────────┴───────┘"
      ]
     },
     "execution_count": 7,
     "metadata": {},
     "output_type": "execute_result"
    }
   ],
   "source": [
    "db.execute(\"select * from benchmark where finished_at is not null and deleted_at is null order by started_at\").pl()"
   ]
  },
  {
   "cell_type": "code",
   "execution_count": 13,
   "id": "ae479f67",
   "metadata": {},
   "outputs": [
    {
     "data": {
      "text/html": [
       "\n",
       "<style>\n",
       "  #altair-viz-03add97528994fa0b8e8c11b8e9c8773.vega-embed {\n",
       "    width: 100%;\n",
       "    display: flex;\n",
       "  }\n",
       "\n",
       "  #altair-viz-03add97528994fa0b8e8c11b8e9c8773.vega-embed details,\n",
       "  #altair-viz-03add97528994fa0b8e8c11b8e9c8773.vega-embed details summary {\n",
       "    position: relative;\n",
       "  }\n",
       "</style>\n",
       "<div id=\"altair-viz-03add97528994fa0b8e8c11b8e9c8773\"></div>\n",
       "<script type=\"text/javascript\">\n",
       "  var VEGA_DEBUG = (typeof VEGA_DEBUG == \"undefined\") ? {} : VEGA_DEBUG;\n",
       "  (function(spec, embedOpt){\n",
       "    let outputDiv = document.currentScript.previousElementSibling;\n",
       "    if (outputDiv.id !== \"altair-viz-03add97528994fa0b8e8c11b8e9c8773\") {\n",
       "      outputDiv = document.getElementById(\"altair-viz-03add97528994fa0b8e8c11b8e9c8773\");\n",
       "    }\n",
       "\n",
       "    const paths = {\n",
       "      \"vega\": \"https://cdn.jsdelivr.net/npm/vega@5?noext\",\n",
       "      \"vega-lib\": \"https://cdn.jsdelivr.net/npm/vega-lib?noext\",\n",
       "      \"vega-lite\": \"https://cdn.jsdelivr.net/npm/vega-lite@5.20.1?noext\",\n",
       "      \"vega-embed\": \"https://cdn.jsdelivr.net/npm/vega-embed@6?noext\",\n",
       "    };\n",
       "\n",
       "    function maybeLoadScript(lib, version) {\n",
       "      var key = `${lib.replace(\"-\", \"\")}_version`;\n",
       "      return (VEGA_DEBUG[key] == version) ?\n",
       "        Promise.resolve(paths[lib]) :\n",
       "        new Promise(function(resolve, reject) {\n",
       "          var s = document.createElement('script');\n",
       "          document.getElementsByTagName(\"head\")[0].appendChild(s);\n",
       "          s.async = true;\n",
       "          s.onload = () => {\n",
       "            VEGA_DEBUG[key] = version;\n",
       "            return resolve(paths[lib]);\n",
       "          };\n",
       "          s.onerror = () => reject(`Error loading script: ${paths[lib]}`);\n",
       "          s.src = paths[lib];\n",
       "        });\n",
       "    }\n",
       "\n",
       "    function showError(err) {\n",
       "      outputDiv.innerHTML = `<div class=\"error\" style=\"color:red;\">${err}</div>`;\n",
       "      throw err;\n",
       "    }\n",
       "\n",
       "    function displayChart(vegaEmbed) {\n",
       "      vegaEmbed(outputDiv, spec, embedOpt)\n",
       "        .catch(err => showError(`Javascript Error: ${err.message}<br>This usually means there's a typo in your chart specification. See the javascript console for the full traceback.`));\n",
       "    }\n",
       "\n",
       "    if(typeof define === \"function\" && define.amd) {\n",
       "      requirejs.config({paths});\n",
       "      let deps = [\"vega-embed\"];\n",
       "      require(deps, displayChart, err => showError(`Error loading script: ${err.message}`));\n",
       "    } else {\n",
       "      maybeLoadScript(\"vega\", \"5\")\n",
       "        .then(() => maybeLoadScript(\"vega-lite\", \"5.20.1\"))\n",
       "        .then(() => maybeLoadScript(\"vega-embed\", \"6\"))\n",
       "        .catch(showError)\n",
       "        .then(() => displayChart(vegaEmbed));\n",
       "    }\n",
       "  })({\"config\": {\"view\": {\"continuousWidth\": 300, \"continuousHeight\": 300}}, \"layer\": [{\"mark\": {\"type\": \"bar\"}, \"encoding\": {\"x\": {\"field\": \"name\", \"title\": \"Query Name\", \"type\": \"nominal\"}, \"y\": {\"field\": \"avg_duration\", \"title\": \"Avg Duration (s)\", \"type\": \"quantitative\"}}, \"title\": \"rtabench/duckdb/run\"}, {\"mark\": {\"type\": \"errorbar\", \"color\": \"red\", \"extent\": \"stdev\", \"thickness\": 4}, \"encoding\": {\"x\": {\"field\": \"name\", \"type\": \"nominal\"}, \"y\": {\"field\": \"avg_duration\", \"type\": \"quantitative\"}, \"yError\": {\"field\": \"std_duration\"}}}], \"data\": {\"name\": \"data-c64557ce23234eb168d042c388e516b1\"}, \"$schema\": \"https://vega.github.io/schema/vega-lite/v5.20.1.json\", \"datasets\": {\"data-c64557ce23234eb168d042c388e516b1\": [{\"name\": \"0000\", \"avg_duration\": 0.1113166, \"std_duration\": 0.011604270838641774}, {\"name\": \"0001\", \"avg_duration\": 0.034912200000000004, \"std_duration\": 0.0015077463517530036}, {\"name\": \"0002\", \"avg_duration\": 0.006723260000000001, \"std_duration\": 0.0010345796308902767}, {\"name\": \"0003\", \"avg_duration\": 0.020262040000000002, \"std_duration\": 0.0033047055873066085}, {\"name\": \"0004\", \"avg_duration\": 0.24943226, \"std_duration\": 0.00423253694276101}, {\"name\": \"0005\", \"avg_duration\": 0.012652299999999998, \"std_duration\": 0.001608395388108843}, {\"name\": \"0006\", \"avg_duration\": 0.00439564, \"std_duration\": 0.0007388759460650141}, {\"name\": \"0007\", \"avg_duration\": 0.0023813200000000006, \"std_duration\": 0.0003059482042331177}, {\"name\": \"0008\", \"avg_duration\": 0.06485901999999999, \"std_duration\": 0.0030529506603097466}, {\"name\": \"0009\", \"avg_duration\": 0.00160456, \"std_duration\": 0.00022455535747656658}, {\"name\": \"0010\", \"avg_duration\": 0.0038341000000000004, \"std_duration\": 0.0002518283550519348}, {\"name\": \"0011\", \"avg_duration\": 0.00223614, \"std_duration\": 0.0003059531783573081}, {\"name\": \"0012\", \"avg_duration\": 0.0026308600000000005, \"std_duration\": 0.0003963685674022219}, {\"name\": \"0013\", \"avg_duration\": 0.00278642, \"std_duration\": 0.000770232540820482}, {\"name\": \"0014\", \"avg_duration\": 0.00077946, \"std_duration\": 0.0001912976321903454}, {\"name\": \"0015\", \"avg_duration\": 0.05064582000000001, \"std_duration\": 0.006971900706172936}, {\"name\": \"0016\", \"avg_duration\": 0.015281260000000001, \"std_duration\": 0.0003443778661497827}, {\"name\": \"0017\", \"avg_duration\": 0.026323419999999997, \"std_duration\": 0.0024946114914890837}, {\"name\": \"0018\", \"avg_duration\": 0.03530081999999999, \"std_duration\": 0.0005679972581853916}, {\"name\": \"0019\", \"avg_duration\": 0.023393479999999998, \"std_duration\": 0.0007723666846195563}, {\"name\": \"0020\", \"avg_duration\": 0.012151999999999996, \"std_duration\": 0.0010023091502391172}, {\"name\": \"0021\", \"avg_duration\": 0.03285173999999999, \"std_duration\": 0.0011841522552752531}, {\"name\": \"0022\", \"avg_duration\": 0.01887125999999999, \"std_duration\": 0.0005595786611006388}, {\"name\": \"0023\", \"avg_duration\": 0.12239069999999999, \"std_duration\": 0.004204138889237599}, {\"name\": \"0024\", \"avg_duration\": 0.011852820000000002, \"std_duration\": 0.0003429957868486407}, {\"name\": \"0025\", \"avg_duration\": 0.04020008, \"std_duration\": 0.002853332865693902}, {\"name\": \"0026\", \"avg_duration\": 0.00820744, \"std_duration\": 0.0010543998614164847}, {\"name\": \"0027\", \"avg_duration\": 0.018476359999999997, \"std_duration\": 0.0017256298200710272}, {\"name\": \"0028\", \"avg_duration\": 0.01367432, \"std_duration\": 0.000525168678053217}, {\"name\": \"0029\", \"avg_duration\": 0.006696120000000001, \"std_duration\": 0.0010575191924731106}, {\"name\": \"0030\", \"avg_duration\": 0.10233718000000003, \"std_duration\": 0.005396799069024955}]}}, {\"mode\": \"vega-lite\"});\n",
       "</script>"
      ],
      "text/plain": [
       "alt.LayerChart(...)"
      ]
     },
     "execution_count": 13,
     "metadata": {},
     "output_type": "execute_result"
    }
   ],
   "source": [
    "def get_latest_id(suite: SuiteName, db_name: DatabaseName, operation: Operation) -> int:\n",
    "    return db.execute(\n",
    "        \"\"\"\n",
    "        select id from benchmark where suite = (?) and db = (?) and operation = (?)\n",
    "            and finished_at is not null order by finished_at desc limit 1\n",
    "        \"\"\",\n",
    "        [suite, db_name, operation],\n",
    "    ).fetchone()[0]\n",
    "\n",
    "\n",
    "def plot_queries(suite: SuiteName, db_name: DatabaseName, operation: Operation):\n",
    "    df = db.execute(\n",
    "        \"\"\"\n",
    "        with filtered as (\n",
    "            select *\n",
    "            from event\n",
    "            where benchmark_id = $id\n",
    "            and name like 'query_%'\n",
    "        ),\n",
    "        starts as (\n",
    "            select name, time as start_time\n",
    "            from filtered\n",
    "            where type = 'start'\n",
    "        ),\n",
    "        ends as (\n",
    "            select name, time as end_time\n",
    "            from filtered\n",
    "            where type = 'end'\n",
    "        )\n",
    "        select\n",
    "            substring(starts.name, 7, 4) as name,\n",
    "            starts.start_time,\n",
    "            ends.end_time,\n",
    "            epoch(ends.end_time - starts.start_time) as duration\n",
    "        from starts\n",
    "        join ends using(name)\n",
    "        order by starts.start_time\n",
    "        \"\"\",\n",
    "        {\"id\": get_latest_id(suite, db_name, operation)},\n",
    "    ).pl()\n",
    "\n",
    "    # Aggregate: mean and std deviation\n",
    "    agg_df = (\n",
    "        df.group_by(\"name\")\n",
    "        .agg([pl.col(\"duration\").mean().alias(\"avg_duration\"), pl.col(\"duration\").std().alias(\"std_duration\")])\n",
    "        .sort(\"name\")\n",
    "    )\n",
    "\n",
    "    # Convert to pandas for Altair (if needed)\n",
    "    pdf = agg_df.to_pandas()\n",
    "\n",
    "    title = f\"{suite}/{db_name}/{operation}\"\n",
    "    chart = (\n",
    "        alt.Chart(pdf)\n",
    "        .mark_bar()\n",
    "        .encode(\n",
    "            x=alt.X(\"name:N\", title=\"Query Name\"),\n",
    "            y=alt.Y(\"avg_duration:Q\", title=\"Avg Duration (s)\"),\n",
    "        )\n",
    "        .properties(title=title)\n",
    "    )\n",
    "\n",
    "    error_bars = (\n",
    "        alt.Chart(pdf)\n",
    "        .mark_errorbar(thickness=4, color=\"red\", extent=\"stdev\")\n",
    "        .encode(x=\"name:N\", y=\"avg_duration:Q\", yError=\"std_duration:Q\")\n",
    "    )\n",
    "\n",
    "    return chart + error_bars\n",
    "\n",
    "\n",
    "plot_queries(\"rtabench\", \"duckdb\", \"run\")"
   ]
  },
  {
   "cell_type": "code",
   "execution_count": 14,
   "id": "356c4da0",
   "metadata": {},
   "outputs": [
    {
     "data": {
      "text/html": [
       "\n",
       "<style>\n",
       "  #altair-viz-4d2ff0cd94b944b19a0d128a97db922a.vega-embed {\n",
       "    width: 100%;\n",
       "    display: flex;\n",
       "  }\n",
       "\n",
       "  #altair-viz-4d2ff0cd94b944b19a0d128a97db922a.vega-embed details,\n",
       "  #altair-viz-4d2ff0cd94b944b19a0d128a97db922a.vega-embed details summary {\n",
       "    position: relative;\n",
       "  }\n",
       "</style>\n",
       "<div id=\"altair-viz-4d2ff0cd94b944b19a0d128a97db922a\"></div>\n",
       "<script type=\"text/javascript\">\n",
       "  var VEGA_DEBUG = (typeof VEGA_DEBUG == \"undefined\") ? {} : VEGA_DEBUG;\n",
       "  (function(spec, embedOpt){\n",
       "    let outputDiv = document.currentScript.previousElementSibling;\n",
       "    if (outputDiv.id !== \"altair-viz-4d2ff0cd94b944b19a0d128a97db922a\") {\n",
       "      outputDiv = document.getElementById(\"altair-viz-4d2ff0cd94b944b19a0d128a97db922a\");\n",
       "    }\n",
       "\n",
       "    const paths = {\n",
       "      \"vega\": \"https://cdn.jsdelivr.net/npm/vega@5?noext\",\n",
       "      \"vega-lib\": \"https://cdn.jsdelivr.net/npm/vega-lib?noext\",\n",
       "      \"vega-lite\": \"https://cdn.jsdelivr.net/npm/vega-lite@5.20.1?noext\",\n",
       "      \"vega-embed\": \"https://cdn.jsdelivr.net/npm/vega-embed@6?noext\",\n",
       "    };\n",
       "\n",
       "    function maybeLoadScript(lib, version) {\n",
       "      var key = `${lib.replace(\"-\", \"\")}_version`;\n",
       "      return (VEGA_DEBUG[key] == version) ?\n",
       "        Promise.resolve(paths[lib]) :\n",
       "        new Promise(function(resolve, reject) {\n",
       "          var s = document.createElement('script');\n",
       "          document.getElementsByTagName(\"head\")[0].appendChild(s);\n",
       "          s.async = true;\n",
       "          s.onload = () => {\n",
       "            VEGA_DEBUG[key] = version;\n",
       "            return resolve(paths[lib]);\n",
       "          };\n",
       "          s.onerror = () => reject(`Error loading script: ${paths[lib]}`);\n",
       "          s.src = paths[lib];\n",
       "        });\n",
       "    }\n",
       "\n",
       "    function showError(err) {\n",
       "      outputDiv.innerHTML = `<div class=\"error\" style=\"color:red;\">${err}</div>`;\n",
       "      throw err;\n",
       "    }\n",
       "\n",
       "    function displayChart(vegaEmbed) {\n",
       "      vegaEmbed(outputDiv, spec, embedOpt)\n",
       "        .catch(err => showError(`Javascript Error: ${err.message}<br>This usually means there's a typo in your chart specification. See the javascript console for the full traceback.`));\n",
       "    }\n",
       "\n",
       "    if(typeof define === \"function\" && define.amd) {\n",
       "      requirejs.config({paths});\n",
       "      let deps = [\"vega-embed\"];\n",
       "      require(deps, displayChart, err => showError(`Error loading script: ${err.message}`));\n",
       "    } else {\n",
       "      maybeLoadScript(\"vega\", \"5\")\n",
       "        .then(() => maybeLoadScript(\"vega-lite\", \"5.20.1\"))\n",
       "        .then(() => maybeLoadScript(\"vega-embed\", \"6\"))\n",
       "        .catch(showError)\n",
       "        .then(() => displayChart(vegaEmbed));\n",
       "    }\n",
       "  })({\"config\": {\"view\": {\"continuousWidth\": 300, \"continuousHeight\": 300}}, \"layer\": [{\"mark\": {\"type\": \"line\", \"color\": \"red\"}, \"encoding\": {\"x\": {\"field\": \"time\", \"type\": \"nominal\"}, \"y\": {\"axis\": {\"titleColor\": \"red\"}, \"field\": \"mem_mb\", \"type\": \"quantitative\"}}, \"name\": \"view_3\"}, {\"mark\": {\"type\": \"line\", \"color\": \"green\"}, \"encoding\": {\"x\": {\"field\": \"time\", \"type\": \"nominal\"}, \"y\": {\"axis\": {\"titleColor\": \"green\"}, \"field\": \"disk_mb\", \"type\": \"quantitative\"}}}, {\"mark\": {\"type\": \"line\", \"color\": \"orange\"}, \"encoding\": {\"x\": {\"field\": \"time\", \"type\": \"nominal\"}, \"y\": {\"axis\": {\"titleColor\": \"orange\"}, \"field\": \"cpu_percent\", \"type\": \"quantitative\"}}}], \"data\": {\"name\": \"data-46938114df4fe26049ec909e9f86f594\"}, \"params\": [{\"name\": \"param_3\", \"select\": {\"type\": \"interval\", \"encodings\": [\"x\", \"y\"]}, \"bind\": \"scales\", \"views\": [\"view_3\"]}], \"resolve\": {\"scale\": {\"y\": \"independent\"}}, \"width\": 1000, \"$schema\": \"https://vega.github.io/schema/vega-lite/v5.20.1.json\", \"datasets\": {\"data-46938114df4fe26049ec909e9f86f594\": [{\"time\": 0.0, \"mem_mb\": 524, \"disk_mb\": 9334, \"cpu_percent\": 1224.300048828125}, {\"time\": 1.056563, \"mem_mb\": 564, \"disk_mb\": 9334, \"cpu_percent\": 1233.300048828125}, {\"time\": 2.117673, \"mem_mb\": 586, \"disk_mb\": 9334, \"cpu_percent\": 1201.300048828125}, {\"time\": 3.146711, \"mem_mb\": 753, \"disk_mb\": 9334, \"cpu_percent\": 1202.199951171875}, {\"time\": 4.197861, \"mem_mb\": 805, \"disk_mb\": 9334, \"cpu_percent\": 1148.5}, {\"time\": 5.216701, \"mem_mb\": 1107, \"disk_mb\": 9334, \"cpu_percent\": 1100.0}, {\"time\": 6.239773, \"mem_mb\": 1142, \"disk_mb\": 9334, \"cpu_percent\": 1286.199951171875}, {\"time\": 7.297053, \"mem_mb\": 1148, \"disk_mb\": 9334, \"cpu_percent\": 1283.0}, {\"time\": 8.366777, \"mem_mb\": 1154, \"disk_mb\": 9334, \"cpu_percent\": 1289.199951171875}, {\"time\": 9.418984, \"mem_mb\": 1158, \"disk_mb\": 9334, \"cpu_percent\": 1290.5999755859375}, {\"time\": 10.460899, \"mem_mb\": 1166, \"disk_mb\": 9334, \"cpu_percent\": 1281.199951171875}, {\"time\": 11.484251, \"mem_mb\": 1169, \"disk_mb\": 9334, \"cpu_percent\": 1288.9000244140625}, {\"time\": 12.536427, \"mem_mb\": 1173, \"disk_mb\": 9334, \"cpu_percent\": 1283.699951171875}, {\"time\": 13.587851, \"mem_mb\": 1178, \"disk_mb\": 9334, \"cpu_percent\": 1286.800048828125}, {\"time\": 14.641562, \"mem_mb\": 1182, \"disk_mb\": 9334, \"cpu_percent\": 1280.5}, {\"time\": 15.702112, \"mem_mb\": 1184, \"disk_mb\": 9334, \"cpu_percent\": 1281.5}, {\"time\": 16.728877, \"mem_mb\": 1189, \"disk_mb\": 9334, \"cpu_percent\": 1276.4000244140625}, {\"time\": 17.774103, \"mem_mb\": 1225, \"disk_mb\": 9334, \"cpu_percent\": 1271.0999755859375}, {\"time\": 18.804024, \"mem_mb\": 1331, \"disk_mb\": 9334, \"cpu_percent\": 911.5}, {\"time\": 19.851284, \"mem_mb\": 1402, \"disk_mb\": 9334, \"cpu_percent\": 1181.800048828125}, {\"time\": 20.886541, \"mem_mb\": 1444, \"disk_mb\": 9334, \"cpu_percent\": 1161.4000244140625}, {\"time\": 21.935043, \"mem_mb\": 1460, \"disk_mb\": 9334, \"cpu_percent\": 1184.4000244140625}, {\"time\": 22.967752, \"mem_mb\": 2182, \"disk_mb\": 9334, \"cpu_percent\": 813.0999755859375}, {\"time\": 23.991905, \"mem_mb\": 2186, \"disk_mb\": 9334, \"cpu_percent\": 1193.0999755859375}, {\"time\": 25.01502, \"mem_mb\": 2190, \"disk_mb\": 9334, \"cpu_percent\": 1184.5999755859375}, {\"time\": 26.036828, \"mem_mb\": 2329, \"disk_mb\": 9334, \"cpu_percent\": 1097.699951171875}, {\"time\": 27.060128, \"mem_mb\": 2462, \"disk_mb\": 9334, \"cpu_percent\": 1022.5}, {\"time\": 28.092138, \"mem_mb\": 2585, \"disk_mb\": 9334, \"cpu_percent\": 907.7999877929688}, {\"time\": 29.118576, \"mem_mb\": 2649, \"disk_mb\": 9334, \"cpu_percent\": 867.2999877929688}, {\"time\": 30.148053, \"mem_mb\": 2676, \"disk_mb\": 9334, \"cpu_percent\": 679.0999755859375}, {\"time\": 31.170552, \"mem_mb\": 2685, \"disk_mb\": 9334, \"cpu_percent\": 571.2000122070312}, {\"time\": 32.206136, \"mem_mb\": 2694, \"disk_mb\": 9334, \"cpu_percent\": 810.2000122070312}, {\"time\": 33.231407, \"mem_mb\": 2768, \"disk_mb\": 9334, \"cpu_percent\": 760.4000244140625}, {\"time\": 34.253161, \"mem_mb\": 2965, \"disk_mb\": 9334, \"cpu_percent\": 1136.9000244140625}, {\"time\": 35.297724, \"mem_mb\": 2987, \"disk_mb\": 9334, \"cpu_percent\": 1278.199951171875}, {\"time\": 36.327054, \"mem_mb\": 3063, \"disk_mb\": 9334, \"cpu_percent\": 1013.7000122070312}, {\"time\": 37.355762, \"mem_mb\": 3364, \"disk_mb\": 9334, \"cpu_percent\": 922.2000122070312}, {\"time\": 38.377166, \"mem_mb\": 3382, \"disk_mb\": 9334, \"cpu_percent\": 970.7000122070312}, {\"time\": 39.411156, \"mem_mb\": 3402, \"disk_mb\": 9334, \"cpu_percent\": 813.7000122070312}, {\"time\": 40.435053, \"mem_mb\": 3404, \"disk_mb\": 9334, \"cpu_percent\": 789.2000122070312}, {\"time\": 41.457976, \"mem_mb\": 3811, \"disk_mb\": 9334, \"cpu_percent\": 918.5}, {\"time\": 42.487869, \"mem_mb\": 3894, \"disk_mb\": 9334, \"cpu_percent\": 1125.4000244140625}, {\"time\": 43.52379, \"mem_mb\": 3934, \"disk_mb\": 9334, \"cpu_percent\": 1134.199951171875}, {\"time\": 44.54533, \"mem_mb\": 3986, \"disk_mb\": 9334, \"cpu_percent\": 1094.800048828125}, {\"time\": 45.582318, \"mem_mb\": 4060, \"disk_mb\": 9334, \"cpu_percent\": 1121.5999755859375}, {\"time\": 46.615589, \"mem_mb\": 4065, \"disk_mb\": 9334, \"cpu_percent\": 426.79998779296875}]}}, {\"mode\": \"vega-lite\"});\n",
       "</script>"
      ],
      "text/plain": [
       "alt.LayerChart(...)"
      ]
     },
     "execution_count": 14,
     "metadata": {},
     "output_type": "execute_result"
    }
   ],
   "source": [
    "def plot_metrics(suite: SuiteName, db_name: DatabaseName, operation: Operation):\n",
    "    df = db.execute(\n",
    "        \"\"\"\n",
    "        SELECT\n",
    "            epoch(time - (SELECT min(time) FROM metric WHERE benchmark_id = $id)) AS time,\n",
    "            mem_mb, disk_mb, cpu_percent\n",
    "        FROM metric\n",
    "        WHERE benchmark_id = $id\n",
    "        ORDER BY time\n",
    "        \"\"\",\n",
    "        {\"id\": get_latest_id(suite, db_name, operation)},\n",
    "    ).pl()\n",
    "\n",
    "    base = alt.Chart(df).encode(x=\"time:N\")\n",
    "\n",
    "    return (\n",
    "        alt.layer(\n",
    "            *[\n",
    "                base.mark_line(color=c).encode(alt.Y(n).axis(titleColor=c))\n",
    "                for n, c in {\"mem_mb\": \"red\", \"disk_mb\": \"green\", \"cpu_percent\": \"orange\"}.items()\n",
    "            ]\n",
    "        )\n",
    "        .resolve_scale(y=\"independent\")\n",
    "        .properties(width=1000)\n",
    "        .interactive()\n",
    "    )\n",
    "\n",
    "\n",
    "plot_metrics(\"rtabench\", \"duckdb\", \"run\")"
   ]
  }
 ],
 "metadata": {
  "kernelspec": {
   "display_name": "tsdb-benchmarks (3.12.10)",
   "language": "python",
   "name": "python3"
  },
  "language_info": {
   "codemirror_mode": {
    "name": "ipython",
    "version": 3
   },
   "file_extension": ".py",
   "mimetype": "text/x-python",
   "name": "python",
   "nbconvert_exporter": "python",
   "pygments_lexer": "ipython3",
   "version": "3.12.10"
  }
 },
 "nbformat": 4,
 "nbformat_minor": 5
}
